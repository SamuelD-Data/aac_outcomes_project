{
 "cells": [
  {
   "cell_type": "markdown",
   "metadata": {},
   "source": [
    "# Predicting Cat and Dog Adoptions at the AAC (Austin Animal Center)\n",
    "***"
   ]
  },
  {
   "cell_type": "markdown",
   "metadata": {},
   "source": [
    "# Table of Contents\n",
    "***\n",
    "\n",
    "## [Goals](#goals)\n",
    "\n",
    "## [Acquire](#acquire)\n",
    "\n",
    "## [Prepare](#prepare)\n",
    "\n",
    "## [Explore](#explore)\n",
    "\n",
    "## [Model](#model)\n",
    "\n",
    "## [Conclusion](#conclusion)\n",
    "<br>"
   ]
  },
  {
   "cell_type": "markdown",
   "metadata": {},
   "source": [
    "# Goals <a id='goals'></a>\n",
    "***"
   ]
  },
  {
   "cell_type": "markdown",
   "metadata": {},
   "source": [
    "This project has 3 main goals\n",
    "- create a model that will acurrately predict which cats and dogs will be adopted from the Austin Animal Center\n",
    "- develop insights about what affects cat and dog adoptions\n",
    "- develop insights about the activity at the AAC in general (when are intake counts high/low?, are there hotspots in Austin where strays can be found?, etc)\n",
    "\n",
    "I will also deliver the following \n",
    "- aac_project_notebook.ipynb\n",
    "    - This notebook which provides a start-to-finish walkthrough of the project\n",
    "- README.md\n",
    "    - A markdown file that provides various information about this project including a data dictionary, project plan, and a link to the source data\n",
    "- wrangle.py\n",
    "    - A file that contains all of the custom functions featured in this notebook\n",
    "- A presentation of the project\n",
    "    - A 3-5 minute presentation that summarizes the findings of this project (link to presentation slides below)\n",
    "        - https://docs.google.com/presentation/d/1KTZ6N8kW-pXHV-GPKc_N_vQAmfRyqcuD25e6xDMk4mo/edit?usp=sharing"
   ]
  },
  {
   "cell_type": "code",
   "execution_count": 1,
   "metadata": {},
   "outputs": [],
   "source": [
    "# establishing environment\n",
    "import sklearn\n",
    "\n",
    "import pandas as pd\n",
    "import numpy as np\n",
    "import matplotlib.pyplot as plt\n",
    "import seaborn as sns\n",
    "import scipy.stats as stats\n",
    "\n",
    "import warnings\n",
    "warnings.filterwarnings(\"ignore\")\n",
    "\n",
    "from sklearn.metrics import classification_report\n",
    "from sklearn.linear_model import LogisticRegression\n",
    "from sklearn.tree import DecisionTreeClassifier\n",
    "from sklearn.ensemble import RandomForestClassifier\n",
    "from sklearn.neighbors import KNeighborsClassifier\n",
    "from wrangle import get_aac, prep_aac, wrangle_aac"
   ]
  },
  {
   "cell_type": "markdown",
   "metadata": {},
   "source": [
    "# Acquire<a id='acquire'></a>\n",
    "I'll begin by acquiring the data from a local CSV file. The data I'm using can be accessed via a link in the README file of this repository.\n",
    "***"
   ]
  },
  {
   "cell_type": "code",
   "execution_count": 2,
   "metadata": {
    "scrolled": true
   },
   "outputs": [
    {
     "data": {
      "text/html": [
       "<div>\n",
       "<style scoped>\n",
       "    .dataframe tbody tr th:only-of-type {\n",
       "        vertical-align: middle;\n",
       "    }\n",
       "\n",
       "    .dataframe tbody tr th {\n",
       "        vertical-align: top;\n",
       "    }\n",
       "\n",
       "    .dataframe thead th {\n",
       "        text-align: right;\n",
       "    }\n",
       "</style>\n",
       "<table border=\"1\" class=\"dataframe\">\n",
       "  <thead>\n",
       "    <tr style=\"text-align: right;\">\n",
       "      <th></th>\n",
       "      <th>age_upon_outcome</th>\n",
       "      <th>animal_id_outcome</th>\n",
       "      <th>date_of_birth</th>\n",
       "      <th>outcome_subtype</th>\n",
       "      <th>outcome_type</th>\n",
       "      <th>sex_upon_outcome</th>\n",
       "      <th>age_upon_outcome_(days)</th>\n",
       "      <th>age_upon_outcome_(years)</th>\n",
       "      <th>age_upon_outcome_age_group</th>\n",
       "      <th>outcome_datetime</th>\n",
       "      <th>...</th>\n",
       "      <th>age_upon_intake_age_group</th>\n",
       "      <th>intake_datetime</th>\n",
       "      <th>intake_month</th>\n",
       "      <th>intake_year</th>\n",
       "      <th>intake_monthyear</th>\n",
       "      <th>intake_weekday</th>\n",
       "      <th>intake_hour</th>\n",
       "      <th>intake_number</th>\n",
       "      <th>time_in_shelter</th>\n",
       "      <th>time_in_shelter_days</th>\n",
       "    </tr>\n",
       "  </thead>\n",
       "  <tbody>\n",
       "    <tr>\n",
       "      <th>0</th>\n",
       "      <td>10 years</td>\n",
       "      <td>A006100</td>\n",
       "      <td>2007-07-09 00:00:00</td>\n",
       "      <td>NaN</td>\n",
       "      <td>Return to Owner</td>\n",
       "      <td>Neutered Male</td>\n",
       "      <td>3650</td>\n",
       "      <td>10.0</td>\n",
       "      <td>(7.5, 10.0]</td>\n",
       "      <td>2017-12-07 14:07:00</td>\n",
       "      <td>...</td>\n",
       "      <td>(7.5, 10.0]</td>\n",
       "      <td>2017-12-07 00:00:00</td>\n",
       "      <td>12</td>\n",
       "      <td>2017</td>\n",
       "      <td>2017-12</td>\n",
       "      <td>Thursday</td>\n",
       "      <td>14</td>\n",
       "      <td>1.0</td>\n",
       "      <td>0 days 14:07:00.000000000</td>\n",
       "      <td>0.588194</td>\n",
       "    </tr>\n",
       "    <tr>\n",
       "      <th>1</th>\n",
       "      <td>7 years</td>\n",
       "      <td>A006100</td>\n",
       "      <td>2007-07-09 00:00:00</td>\n",
       "      <td>NaN</td>\n",
       "      <td>Return to Owner</td>\n",
       "      <td>Neutered Male</td>\n",
       "      <td>2555</td>\n",
       "      <td>7.0</td>\n",
       "      <td>(5.0, 7.5]</td>\n",
       "      <td>2014-12-20 16:35:00</td>\n",
       "      <td>...</td>\n",
       "      <td>(5.0, 7.5]</td>\n",
       "      <td>2014-12-19 10:21:00</td>\n",
       "      <td>12</td>\n",
       "      <td>2014</td>\n",
       "      <td>2014-12</td>\n",
       "      <td>Friday</td>\n",
       "      <td>10</td>\n",
       "      <td>2.0</td>\n",
       "      <td>1 days 06:14:00.000000000</td>\n",
       "      <td>1.259722</td>\n",
       "    </tr>\n",
       "    <tr>\n",
       "      <th>2</th>\n",
       "      <td>6 years</td>\n",
       "      <td>A006100</td>\n",
       "      <td>2007-07-09 00:00:00</td>\n",
       "      <td>NaN</td>\n",
       "      <td>Return to Owner</td>\n",
       "      <td>Neutered Male</td>\n",
       "      <td>2190</td>\n",
       "      <td>6.0</td>\n",
       "      <td>(5.0, 7.5]</td>\n",
       "      <td>2014-03-08 17:10:00</td>\n",
       "      <td>...</td>\n",
       "      <td>(5.0, 7.5]</td>\n",
       "      <td>2014-03-07 14:26:00</td>\n",
       "      <td>3</td>\n",
       "      <td>2014</td>\n",
       "      <td>2014-03</td>\n",
       "      <td>Friday</td>\n",
       "      <td>14</td>\n",
       "      <td>3.0</td>\n",
       "      <td>1 days 02:44:00.000000000</td>\n",
       "      <td>1.113889</td>\n",
       "    </tr>\n",
       "    <tr>\n",
       "      <th>3</th>\n",
       "      <td>10 years</td>\n",
       "      <td>A047759</td>\n",
       "      <td>2004-04-02 00:00:00</td>\n",
       "      <td>Partner</td>\n",
       "      <td>Transfer</td>\n",
       "      <td>Neutered Male</td>\n",
       "      <td>3650</td>\n",
       "      <td>10.0</td>\n",
       "      <td>(7.5, 10.0]</td>\n",
       "      <td>2014-04-07 15:12:00</td>\n",
       "      <td>...</td>\n",
       "      <td>(7.5, 10.0]</td>\n",
       "      <td>2014-04-02 15:55:00</td>\n",
       "      <td>4</td>\n",
       "      <td>2014</td>\n",
       "      <td>2014-04</td>\n",
       "      <td>Wednesday</td>\n",
       "      <td>15</td>\n",
       "      <td>1.0</td>\n",
       "      <td>4 days 23:17:00.000000000</td>\n",
       "      <td>4.970139</td>\n",
       "    </tr>\n",
       "    <tr>\n",
       "      <th>4</th>\n",
       "      <td>16 years</td>\n",
       "      <td>A134067</td>\n",
       "      <td>1997-10-16 00:00:00</td>\n",
       "      <td>NaN</td>\n",
       "      <td>Return to Owner</td>\n",
       "      <td>Neutered Male</td>\n",
       "      <td>5840</td>\n",
       "      <td>16.0</td>\n",
       "      <td>(15.0, 17.5]</td>\n",
       "      <td>2013-11-16 11:54:00</td>\n",
       "      <td>...</td>\n",
       "      <td>(15.0, 17.5]</td>\n",
       "      <td>2013-11-16 09:02:00</td>\n",
       "      <td>11</td>\n",
       "      <td>2013</td>\n",
       "      <td>2013-11</td>\n",
       "      <td>Saturday</td>\n",
       "      <td>9</td>\n",
       "      <td>1.0</td>\n",
       "      <td>0 days 02:52:00.000000000</td>\n",
       "      <td>0.119444</td>\n",
       "    </tr>\n",
       "  </tbody>\n",
       "</table>\n",
       "<p>5 rows × 41 columns</p>\n",
       "</div>"
      ],
      "text/plain": [
       "  age_upon_outcome animal_id_outcome        date_of_birth outcome_subtype  \\\n",
       "0         10 years           A006100  2007-07-09 00:00:00             NaN   \n",
       "1          7 years           A006100  2007-07-09 00:00:00             NaN   \n",
       "2          6 years           A006100  2007-07-09 00:00:00             NaN   \n",
       "3         10 years           A047759  2004-04-02 00:00:00         Partner   \n",
       "4         16 years           A134067  1997-10-16 00:00:00             NaN   \n",
       "\n",
       "      outcome_type sex_upon_outcome  age_upon_outcome_(days)  \\\n",
       "0  Return to Owner    Neutered Male                     3650   \n",
       "1  Return to Owner    Neutered Male                     2555   \n",
       "2  Return to Owner    Neutered Male                     2190   \n",
       "3         Transfer    Neutered Male                     3650   \n",
       "4  Return to Owner    Neutered Male                     5840   \n",
       "\n",
       "   age_upon_outcome_(years) age_upon_outcome_age_group     outcome_datetime  \\\n",
       "0                      10.0                (7.5, 10.0]  2017-12-07 14:07:00   \n",
       "1                       7.0                 (5.0, 7.5]  2014-12-20 16:35:00   \n",
       "2                       6.0                 (5.0, 7.5]  2014-03-08 17:10:00   \n",
       "3                      10.0                (7.5, 10.0]  2014-04-07 15:12:00   \n",
       "4                      16.0               (15.0, 17.5]  2013-11-16 11:54:00   \n",
       "\n",
       "   ...  age_upon_intake_age_group      intake_datetime intake_month  \\\n",
       "0  ...                (7.5, 10.0]  2017-12-07 00:00:00           12   \n",
       "1  ...                 (5.0, 7.5]  2014-12-19 10:21:00           12   \n",
       "2  ...                 (5.0, 7.5]  2014-03-07 14:26:00            3   \n",
       "3  ...                (7.5, 10.0]  2014-04-02 15:55:00            4   \n",
       "4  ...               (15.0, 17.5]  2013-11-16 09:02:00           11   \n",
       "\n",
       "  intake_year  intake_monthyear  intake_weekday  intake_hour  intake_number  \\\n",
       "0        2017           2017-12        Thursday           14            1.0   \n",
       "1        2014           2014-12          Friday           10            2.0   \n",
       "2        2014           2014-03          Friday           14            3.0   \n",
       "3        2014           2014-04       Wednesday           15            1.0   \n",
       "4        2013           2013-11        Saturday            9            1.0   \n",
       "\n",
       "             time_in_shelter time_in_shelter_days  \n",
       "0  0 days 14:07:00.000000000             0.588194  \n",
       "1  1 days 06:14:00.000000000             1.259722  \n",
       "2  1 days 02:44:00.000000000             1.113889  \n",
       "3  4 days 23:17:00.000000000             4.970139  \n",
       "4  0 days 02:52:00.000000000             0.119444  \n",
       "\n",
       "[5 rows x 41 columns]"
      ]
     },
     "execution_count": 2,
     "metadata": {},
     "output_type": "execute_result"
    }
   ],
   "source": [
    "# reading data in as DF\n",
    "df = get_aac()\n",
    "\n",
    "# previewing data\n",
    "df.head()"
   ]
  },
  {
   "cell_type": "markdown",
   "metadata": {},
   "source": [
    "### Acquire Takeaways\n",
    "- Acquired data from local csv file using pandas __read_csv__ function\n",
    "- Data can also be acquired via the __wrangle_aac__ function in the __wrangle.py__ file\n",
    "    - Note that the __wrangle_aac__ function will also prep the data for exploration"
   ]
  },
  {
   "cell_type": "markdown",
   "metadata": {},
   "source": [
    "# Prepare<a id='prepare'></a>\n",
    "I'm now going to prepare the data for exploration.\n",
    "***"
   ]
  },
  {
   "cell_type": "code",
   "execution_count": 3,
   "metadata": {},
   "outputs": [
    {
     "name": "stdout",
     "output_type": "stream",
     "text": [
      "<class 'pandas.core.frame.DataFrame'>\n",
      "RangeIndex: 79672 entries, 0 to 79671\n",
      "Data columns (total 41 columns):\n",
      " #   Column                      Non-Null Count  Dtype  \n",
      "---  ------                      --------------  -----  \n",
      " 0   age_upon_outcome            79672 non-null  object \n",
      " 1   animal_id_outcome           79672 non-null  object \n",
      " 2   date_of_birth               79672 non-null  object \n",
      " 3   outcome_subtype             36348 non-null  object \n",
      " 4   outcome_type                79662 non-null  object \n",
      " 5   sex_upon_outcome            79671 non-null  object \n",
      " 6   age_upon_outcome_(days)     79672 non-null  int64  \n",
      " 7   age_upon_outcome_(years)    79672 non-null  float64\n",
      " 8   age_upon_outcome_age_group  79672 non-null  object \n",
      " 9   outcome_datetime            79672 non-null  object \n",
      " 10  outcome_month               79672 non-null  int64  \n",
      " 11  outcome_year                79672 non-null  int64  \n",
      " 12  outcome_monthyear           79672 non-null  object \n",
      " 13  outcome_weekday             79672 non-null  object \n",
      " 14  outcome_hour                79672 non-null  int64  \n",
      " 15  outcome_number              79672 non-null  float64\n",
      " 16  dob_year                    79672 non-null  int64  \n",
      " 17  dob_month                   79672 non-null  int64  \n",
      " 18  dob_monthyear               79672 non-null  object \n",
      " 19  age_upon_intake             79672 non-null  object \n",
      " 20  animal_id_intake            79672 non-null  object \n",
      " 21  animal_type                 79672 non-null  object \n",
      " 22  breed                       79672 non-null  object \n",
      " 23  color                       79672 non-null  object \n",
      " 24  found_location              79672 non-null  object \n",
      " 25  intake_condition            79672 non-null  object \n",
      " 26  intake_type                 79672 non-null  object \n",
      " 27  sex_upon_intake             79671 non-null  object \n",
      " 28  count                       79672 non-null  int64  \n",
      " 29  age_upon_intake_(days)      79672 non-null  int64  \n",
      " 30  age_upon_intake_(years)     79672 non-null  float64\n",
      " 31  age_upon_intake_age_group   79672 non-null  object \n",
      " 32  intake_datetime             79672 non-null  object \n",
      " 33  intake_month                79672 non-null  int64  \n",
      " 34  intake_year                 79672 non-null  int64  \n",
      " 35  intake_monthyear            79672 non-null  object \n",
      " 36  intake_weekday              79672 non-null  object \n",
      " 37  intake_hour                 79672 non-null  int64  \n",
      " 38  intake_number               79672 non-null  float64\n",
      " 39  time_in_shelter             79672 non-null  object \n",
      " 40  time_in_shelter_days        79672 non-null  float64\n",
      "dtypes: float64(5), int64(11), object(25)\n",
      "memory usage: 24.9+ MB\n"
     ]
    }
   ],
   "source": [
    "# previewing data for null value counts and data types\n",
    "df.info()"
   ]
  },
  {
   "cell_type": "markdown",
   "metadata": {},
   "source": [
    "### Prepping Data via prep_aac function"
   ]
  },
  {
   "cell_type": "code",
   "execution_count": 4,
   "metadata": {},
   "outputs": [],
   "source": [
    "# prepping data with changes outlined in prepare takeaway section (below)\n",
    "train, validate, test = prep_aac(df)"
   ]
  },
  {
   "cell_type": "code",
   "execution_count": 5,
   "metadata": {
    "scrolled": false
   },
   "outputs": [
    {
     "data": {
      "text/html": [
       "<div>\n",
       "<style scoped>\n",
       "    .dataframe tbody tr th:only-of-type {\n",
       "        vertical-align: middle;\n",
       "    }\n",
       "\n",
       "    .dataframe tbody tr th {\n",
       "        vertical-align: top;\n",
       "    }\n",
       "\n",
       "    .dataframe thead th {\n",
       "        text-align: right;\n",
       "    }\n",
       "</style>\n",
       "<table border=\"1\" class=\"dataframe\">\n",
       "  <thead>\n",
       "    <tr style=\"text-align: right;\">\n",
       "      <th></th>\n",
       "      <th>perceived_agg_breed</th>\n",
       "      <th>is_cat</th>\n",
       "      <th>is_dog</th>\n",
       "      <th>species</th>\n",
       "      <th>is_male</th>\n",
       "      <th>is_female</th>\n",
       "      <th>gender_unknown</th>\n",
       "      <th>gender</th>\n",
       "      <th>sterilized_income</th>\n",
       "      <th>outcome_subtype</th>\n",
       "      <th>outcome_type</th>\n",
       "      <th>age_group_years</th>\n",
       "      <th>age_outcome_days</th>\n",
       "      <th>intake_condition</th>\n",
       "      <th>intake_type</th>\n",
       "      <th>intake_weekday</th>\n",
       "      <th>intake_month</th>\n",
       "      <th>intake_year</th>\n",
       "      <th>age_outcome_days_s</th>\n",
       "      <th>is_adopted</th>\n",
       "    </tr>\n",
       "  </thead>\n",
       "  <tbody>\n",
       "    <tr>\n",
       "      <th>41664</th>\n",
       "      <td>0</td>\n",
       "      <td>0</td>\n",
       "      <td>1</td>\n",
       "      <td>dog</td>\n",
       "      <td>1</td>\n",
       "      <td>0</td>\n",
       "      <td>0</td>\n",
       "      <td>Male</td>\n",
       "      <td>1</td>\n",
       "      <td>unknown</td>\n",
       "      <td>Adoption</td>\n",
       "      <td>a.0-1</td>\n",
       "      <td>60</td>\n",
       "      <td>Normal</td>\n",
       "      <td>Owner Surrender</td>\n",
       "      <td>Friday</td>\n",
       "      <td>10</td>\n",
       "      <td>2015</td>\n",
       "      <td>0.008219</td>\n",
       "      <td>1</td>\n",
       "    </tr>\n",
       "    <tr>\n",
       "      <th>8001</th>\n",
       "      <td>1</td>\n",
       "      <td>0</td>\n",
       "      <td>1</td>\n",
       "      <td>dog</td>\n",
       "      <td>1</td>\n",
       "      <td>0</td>\n",
       "      <td>0</td>\n",
       "      <td>Male</td>\n",
       "      <td>1</td>\n",
       "      <td>Partner</td>\n",
       "      <td>Transfer</td>\n",
       "      <td>a.0-1</td>\n",
       "      <td>365</td>\n",
       "      <td>Normal</td>\n",
       "      <td>Public Assist</td>\n",
       "      <td>Saturday</td>\n",
       "      <td>7</td>\n",
       "      <td>2014</td>\n",
       "      <td>0.050000</td>\n",
       "      <td>0</td>\n",
       "    </tr>\n",
       "    <tr>\n",
       "      <th>70226</th>\n",
       "      <td>0</td>\n",
       "      <td>0</td>\n",
       "      <td>1</td>\n",
       "      <td>dog</td>\n",
       "      <td>0</td>\n",
       "      <td>1</td>\n",
       "      <td>0</td>\n",
       "      <td>Female</td>\n",
       "      <td>0</td>\n",
       "      <td>unknown</td>\n",
       "      <td>Adoption</td>\n",
       "      <td>b.2-3</td>\n",
       "      <td>730</td>\n",
       "      <td>Normal</td>\n",
       "      <td>Stray</td>\n",
       "      <td>Friday</td>\n",
       "      <td>7</td>\n",
       "      <td>2017</td>\n",
       "      <td>0.100000</td>\n",
       "      <td>1</td>\n",
       "    </tr>\n",
       "    <tr>\n",
       "      <th>70696</th>\n",
       "      <td>0</td>\n",
       "      <td>1</td>\n",
       "      <td>0</td>\n",
       "      <td>cat</td>\n",
       "      <td>0</td>\n",
       "      <td>1</td>\n",
       "      <td>0</td>\n",
       "      <td>Female</td>\n",
       "      <td>0</td>\n",
       "      <td>Foster</td>\n",
       "      <td>Adoption</td>\n",
       "      <td>a.0-1</td>\n",
       "      <td>90</td>\n",
       "      <td>Normal</td>\n",
       "      <td>Stray</td>\n",
       "      <td>Tuesday</td>\n",
       "      <td>7</td>\n",
       "      <td>2017</td>\n",
       "      <td>0.012329</td>\n",
       "      <td>1</td>\n",
       "    </tr>\n",
       "    <tr>\n",
       "      <th>39646</th>\n",
       "      <td>0</td>\n",
       "      <td>1</td>\n",
       "      <td>0</td>\n",
       "      <td>cat</td>\n",
       "      <td>1</td>\n",
       "      <td>0</td>\n",
       "      <td>0</td>\n",
       "      <td>Male</td>\n",
       "      <td>0</td>\n",
       "      <td>Partner</td>\n",
       "      <td>Transfer</td>\n",
       "      <td>a.0-1</td>\n",
       "      <td>21</td>\n",
       "      <td>Normal</td>\n",
       "      <td>Stray</td>\n",
       "      <td>Sunday</td>\n",
       "      <td>9</td>\n",
       "      <td>2015</td>\n",
       "      <td>0.002877</td>\n",
       "      <td>0</td>\n",
       "    </tr>\n",
       "  </tbody>\n",
       "</table>\n",
       "</div>"
      ],
      "text/plain": [
       "       perceived_agg_breed  is_cat  is_dog species  is_male  is_female  \\\n",
       "41664                    0       0       1     dog        1          0   \n",
       "8001                     1       0       1     dog        1          0   \n",
       "70226                    0       0       1     dog        0          1   \n",
       "70696                    0       1       0     cat        0          1   \n",
       "39646                    0       1       0     cat        1          0   \n",
       "\n",
       "       gender_unknown  gender  sterilized_income outcome_subtype outcome_type  \\\n",
       "41664               0    Male                  1         unknown     Adoption   \n",
       "8001                0    Male                  1         Partner     Transfer   \n",
       "70226               0  Female                  0         unknown     Adoption   \n",
       "70696               0  Female                  0          Foster     Adoption   \n",
       "39646               0    Male                  0         Partner     Transfer   \n",
       "\n",
       "      age_group_years  age_outcome_days intake_condition      intake_type  \\\n",
       "41664           a.0-1                60           Normal  Owner Surrender   \n",
       "8001            a.0-1               365           Normal    Public Assist   \n",
       "70226           b.2-3               730           Normal            Stray   \n",
       "70696           a.0-1                90           Normal            Stray   \n",
       "39646           a.0-1                21           Normal            Stray   \n",
       "\n",
       "      intake_weekday  intake_month  intake_year  age_outcome_days_s  \\\n",
       "41664         Friday            10         2015            0.008219   \n",
       "8001        Saturday             7         2014            0.050000   \n",
       "70226         Friday             7         2017            0.100000   \n",
       "70696        Tuesday             7         2017            0.012329   \n",
       "39646         Sunday             9         2015            0.002877   \n",
       "\n",
       "       is_adopted  \n",
       "41664           1  \n",
       "8001            0  \n",
       "70226           1  \n",
       "70696           1  \n",
       "39646           0  "
      ]
     },
     "execution_count": 5,
     "metadata": {},
     "output_type": "execute_result"
    }
   ],
   "source": [
    "# previewing train df\n",
    "train.head()"
   ]
  },
  {
   "cell_type": "markdown",
   "metadata": {},
   "source": [
    "### Prepare Takeaways\n",
    "After reviewing the data for this project, I elected to make the following changes by creating a function, __prep_aac__, located in the __wrangle.py file__. \n",
    "\n",
    "Alternatively, the __wrangle_aac__ function from the __wrangle.py file__ can be ran to both acquire and prep the data with a single function.\n",
    "\n",
    "- __Dropped columns that will not be used in this iteration but may be explored in a future iteration as this is an ongoing project__\n",
    "    - animal_id_outcome | animal_id_intake | outcome_number | intake_number\n",
    "        - Could prove useful in allowing me to track animals that visit the AAC multiple times\n",
    "    - outcome_datetime | outcome_month | outcome_year | outcome_monthyear | outcome_weekday | outcome_hour\n",
    "        - Would be interesting to see if there are time periods when adoptions spike / dip\n",
    "    - age_upon_intake_(days) |found_location | intake_condition | intake_type | intake_datetime | time_in_shelter_days\n",
    "        - Do these variables correlate with any other features or outcomes? \n",
    "    - color\n",
    "        - Are some color / animal combinations adopted more often?\n",
    "        \n",
    "        \n",
    "- __Dropped columns that were not needed since the value of their information can be derived from other columns__\n",
    "    - date_of_birth | age_upon_outcome | age_upon_outcome_(years) | age_upon_outcome_age_group | dob_year | dob_month | dob_monthyear | age_upon_intake_(years) | age_upon_intake | age_upon_intake_age_group |  intake_month | intake_year | intake_monthyear | intake_weekday | intake_hour | time_in_shelter | age_group_year \n",
    "\n",
    "\n",
    "- __Other changes__\n",
    "- Dropped \"count\" column\n",
    "    - created by uploader of data to Kaggle, not useful for this project\n",
    "- Renamed age_upon_outcome_(days) to age_outcome_days\n",
    "- Renamed animal_type to species\n",
    "- Created \"perceived_agg_breed\" column that reflects if animal is of breed that is commonly perceived as aggressive (chow, doberman, pitbull, rottweiler)\n",
    "- Created scaled versions of age_outcome_days column, age_outcome_days_s\n",
    "- Added age_group_years columns, holds binned values of age in years\n",
    "- Converted sex_upon_outcome into gender column and created boolean columns for each value within it (male, female, unknown)\n",
    "    - sex_upon_outcome also contains information about the sterilization status of an animal at the time of outcome but i did not create a column for this data\n",
    "        - Per the AAC, if an animal wasn't sterilized prior to entering the AAC, they can only be sterilized at the adopters discression upon adoption\n",
    "        - Thus the AAC wouldn't have the information available to use sterilization status at outcome feature prior prior to animal's adoption.\n",
    "        - That being said, I'm excluding it as a feature in this project since my goal is to create a model that the AAC could use in a real-world setting\n",
    "- Add boolean columns for animal type (dog, cat)\n",
    "- Transform outcome_type to binary categorical column 'is_adopted' \n",
    "- Dropped all animals that were not cats or dogs to simplify scope of project and save time\n",
    "    - Will explore alternate species in next iteration of project\n",
    "- Dropped rows with outcome type that indicated animal was returned to owner\n",
    "- Dropped rows with outcome type of \"disposal\"\n",
    "    - Rows represent animals that were deceased prior to arrival at AAC, no chance of adoption\n",
    "- Drop null values\n",
    "    - Very few nulls so dropping won't have a meaningful impact\n",
    "- Splitting data into train, validate, and test sets"
   ]
  },
  {
   "cell_type": "markdown",
   "metadata": {},
   "source": [
    "# Explore<a id='explore'></a>\n",
    "I'm going to explore the data using plots and hypothesis tests to identify viable features for predicting adoption.\n",
    "***"
   ]
  },
  {
   "cell_type": "markdown",
   "metadata": {},
   "source": [
    "## Variable to Explore: Age\n",
    "Is there a connection between age and adoption? I suspect that older animals are adopted less often."
   ]
  },
  {
   "cell_type": "markdown",
   "metadata": {},
   "source": [
    "### Visualization"
   ]
  },
  {
   "cell_type": "code",
   "execution_count": 6,
   "metadata": {},
   "outputs": [],
   "source": [
    "# setting figure and text size for all plots\n",
    "sns.set(rc = {'figure.figsize':(12,6)})\n",
    "sns.set(font_scale = 2)"
   ]
  },
  {
   "cell_type": "code",
   "execution_count": 8,
   "metadata": {},
   "outputs": [
    {
     "data": {
      "image/png": "[encoded data removed]",
      "text/plain": [
       "<Figure size 864x432 with 1 Axes>"
      ]
     },
     "metadata": {},
     "output_type": "display_data"
    }
   ],
   "source": [
    "# grouping by age groups (years) and aggregating average % of adopted animals within each group\n",
    "# sorting by age groups\n",
    "age_group_adopts = train.groupby('age_group_years').mean()[['is_adopted']].sort_values('age_group_years')\n",
    "\n",
    "# relabeling index to make x axis ticks simpler\n",
    "age_group_adopts.index = ['0-1', '2-3', '4-5', '6-7', '8-9', '10-11', '12-13', '14-15', '16+']\n",
    "\n",
    "# creating plot\n",
    "sns.barplot(data=age_group_adopts, x=age_group_adopts.index, y='is_adopted')\n",
    "plt.xlabel(\"Age Group (Years)\")\n",
    "plt.ylabel(\"Percent Adopted From Group\")\n",
    "plt.title(\"Adoption Rates Drop Rapidly at Ages 10+\", fontweight='bold', fontsize=23)\n",
    "fmt = [f'{i:0.0%}' for i in np.linspace(0, 1, 11)]\n",
    "plt.yticks(np.linspace(0, 1, 11), labels=fmt)\n",
    "plt.show()"
   ]
  },
  {
   "cell_type": "markdown",
   "metadata": {},
   "source": [
    "### Average % of animals 0 to 9 years old that get adopted?"
   ]
  },
  {
   "cell_type": "code",
   "execution_count": 9,
   "metadata": {},
   "outputs": [
    {
     "data": {
      "text/plain": [
       "0.56"
      ]
     },
     "execution_count": 9,
     "metadata": {},
     "output_type": "execute_result"
    }
   ],
   "source": [
    "round(train.groupby('age_group_years').mean()['is_adopted'][0:5].mean(),2)"
   ]
  },
  {
   "cell_type": "markdown",
   "metadata": {},
   "source": [
    "### Average % of animals 10 to 16 years old that get adopted?"
   ]
  },
  {
   "cell_type": "code",
   "execution_count": 10,
   "metadata": {},
   "outputs": [
    {
     "data": {
      "text/plain": [
       "0.34"
      ]
     },
     "execution_count": 10,
     "metadata": {},
     "output_type": "execute_result"
    }
   ],
   "source": [
    "round(train.groupby('age_group_years').mean()['is_adopted'][5:9].mean(),2)"
   ]
  },
  {
   "cell_type": "markdown",
   "metadata": {},
   "source": [
    "### Average % of animals 15+ years old that get adopted?"
   ]
  },
  {
   "cell_type": "code",
   "execution_count": 11,
   "metadata": {},
   "outputs": [
    {
     "data": {
      "text/plain": [
       "0.25"
      ]
     },
     "execution_count": 11,
     "metadata": {},
     "output_type": "execute_result"
    }
   ],
   "source": [
    "round(train.groupby('age_group_years').mean()['is_adopted'][7:].mean(),2)"
   ]
  },
  {
   "cell_type": "markdown",
   "metadata": {},
   "source": [
    "- Adoption rates between animals ages 0-9 years of age are fairly close\n",
    "\n",
    "\n",
    "- From age 10 onward, adoption rates drop rapidly\n",
    "\n",
    "\n",
    "- The age 16+ age group has roughly half the adoption rate of the 0-1 age group"
   ]
  },
  {
   "cell_type": "markdown",
   "metadata": {},
   "source": [
    "## Two-sample one-tailed t-test\n",
    "### Hypotheses\n",
    "<br>\n",
    "H0: The average age of animals who are adopted is equal to or greater than the average of animals that are not adopted\n",
    "<br>\n",
    "Ha: The average age of animals who are adopted is less than the average of animals that are not adopted"
   ]
  },
  {
   "cell_type": "code",
   "execution_count": 12,
   "metadata": {},
   "outputs": [
    {
     "name": "stdout",
     "output_type": "stream",
     "text": [
      "alpha = .05\n",
      "\n",
      "p = 3.656889348128875e-11\n",
      "t = -6.516184837764797\n"
     ]
    }
   ],
   "source": [
    "# x1 = series of ages of animals who were adopted\n",
    "# x2 = series of ages of animals who were not adopted\n",
    "x1 = train[train.is_adopted == 1]['age_outcome_days']\n",
    "x2 = train[train.is_adopted == 0]['age_outcome_days']\n",
    "\n",
    "# performing t-test\n",
    "t, p = stats.ttest_ind(x1, x2)\n",
    "\n",
    "# printing results\n",
    "print(f'alpha = .05\\n')\n",
    "print (f'p = {p/2}')\n",
    "print (f't =',t)"
   ]
  },
  {
   "cell_type": "markdown",
   "metadata": {},
   "source": [
    "- Since p is less than alpha and t is negative I reject the null hypothesis\n",
    "\n",
    "\n",
    "- The t-test results and visual are both evidence that younger animals are favored over elderly animals for adoption\n",
    "\n",
    "- I may use this variable as a feature in modeling"
   ]
  },
  {
   "cell_type": "markdown",
   "metadata": {},
   "source": [
    "## Variable to Explore: Species\n",
    "In terms of percent, is one species adopted more often that the other?"
   ]
  },
  {
   "cell_type": "markdown",
   "metadata": {},
   "source": [
    "### Comparing adoption rates: cats vs. dogs"
   ]
  },
  {
   "cell_type": "code",
   "execution_count": 13,
   "metadata": {
    "scrolled": true
   },
   "outputs": [
    {
     "data": {
      "text/html": [
       "<div>\n",
       "<style scoped>\n",
       "    .dataframe tbody tr th:only-of-type {\n",
       "        vertical-align: middle;\n",
       "    }\n",
       "\n",
       "    .dataframe tbody tr th {\n",
       "        vertical-align: top;\n",
       "    }\n",
       "\n",
       "    .dataframe thead th {\n",
       "        text-align: right;\n",
       "    }\n",
       "</style>\n",
       "<table border=\"1\" class=\"dataframe\">\n",
       "  <thead>\n",
       "    <tr style=\"text-align: right;\">\n",
       "      <th></th>\n",
       "      <th>is_adopted</th>\n",
       "    </tr>\n",
       "    <tr>\n",
       "      <th>species</th>\n",
       "      <th></th>\n",
       "    </tr>\n",
       "  </thead>\n",
       "  <tbody>\n",
       "    <tr>\n",
       "      <th>cat</th>\n",
       "      <td>0.455803</td>\n",
       "    </tr>\n",
       "    <tr>\n",
       "      <th>dog</th>\n",
       "      <td>0.644075</td>\n",
       "    </tr>\n",
       "  </tbody>\n",
       "</table>\n",
       "</div>"
      ],
      "text/plain": [
       "         is_adopted\n",
       "species            \n",
       "cat        0.455803\n",
       "dog        0.644075"
      ]
     },
     "execution_count": 13,
     "metadata": {},
     "output_type": "execute_result"
    }
   ],
   "source": [
    "# using groupby to examine adoption rates within species\n",
    "cat_v_dog = train.groupby('species').mean()[['is_adopted']]\n",
    "\n",
    "cat_v_dog"
   ]
  },
  {
   "cell_type": "markdown",
   "metadata": {},
   "source": [
    "- 45% of all cats are adopted\n",
    "\n",
    "\n",
    "- 64% of all dogs are adopted"
   ]
  },
  {
   "cell_type": "markdown",
   "metadata": {},
   "source": [
    "### Visualization"
   ]
  },
  {
   "cell_type": "code",
   "execution_count": 55,
   "metadata": {},
   "outputs": [
    {
     "data": {
      "image/png": "[encoded data removed]",
      "text/plain": [
       "<Figure size 720x432 with 1 Axes>"
      ]
     },
     "metadata": {},
     "output_type": "display_data"
    }
   ],
   "source": [
    "# grouping by species and aggregating % of each species that are adopted\n",
    "type_adopt = train.groupby('species').mean()[['is_adopted']].sort_values('species')\n",
    "\n",
    "# creating plot\n",
    "plt.figure(figsize=(10, 6))\n",
    "sns.barplot(data = type_adopt, x = type_adopt.index, y='is_adopted')\n",
    "plt.xlabel(\"Animal Species\", fontsize= 20)\n",
    "plt.ylabel(\"Percent Adopted From Group\", fontsize= 20)\n",
    "plt.title(\"Adoption Rates Within Each Species\", fontweight='bold', fontsize=23)\n",
    "fmt = [f'{i:0.0%}' for i in np.linspace(0, 1, 11)]\n",
    "plt.yticks(np.linspace(0, 1, 11), labels=fmt)\n",
    "plt.show()"
   ]
  },
  {
   "cell_type": "markdown",
   "metadata": {},
   "source": [
    "- ~60% of all dogs are adopted\n",
    "- ~45% of all cats are adopted\n",
    "\n",
    "- This __does not__ mean that more dogs are adopted than cats\n",
    "\n",
    "- It __does mean__ that the data reflects that among all dogs, roughly 60% of them are adopted whereas among all cats, 45% of them are adopted"
   ]
  },
  {
   "cell_type": "markdown",
   "metadata": {},
   "source": [
    "### Chi-Squared Test"
   ]
  },
  {
   "cell_type": "markdown",
   "metadata": {},
   "source": [
    "### Hypotheses\n",
    "<br>\n",
    "H0: Adoption and animal type are independent\n",
    "<br>\n",
    "Ha: Adoption and animal type are dependent"
   ]
  },
  {
   "cell_type": "code",
   "execution_count": 15,
   "metadata": {
    "scrolled": true
   },
   "outputs": [
    {
     "name": "stdout",
     "output_type": "stream",
     "text": [
      "alpha = .05\n",
      "\n",
      "p = 0.0000\n"
     ]
    }
   ],
   "source": [
    "# creating crosstab of cat adoptions vs dog adoptions\n",
    "ct_species = pd.crosstab(train.species, train.is_adopted)\n",
    "\n",
    "# calculating chi^2, p value, degrees of freedom and expected values\n",
    "chi2, p, degf, expected = stats.chi2_contingency(ct_species)\n",
    "\n",
    "# printing results\n",
    "print('alpha = .05\\n')\n",
    "print(f'p = {p:.4f}')"
   ]
  },
  {
   "cell_type": "markdown",
   "metadata": {},
   "source": [
    "- Since p is less than alpha, I am rejecting the null hypothesis that adopation and animal type are independent\n",
    "\n",
    "\n",
    "- Given results of the hypothesis test and visualization, I may use this variable as a feature in modeling"
   ]
  },
  {
   "cell_type": "markdown",
   "metadata": {},
   "source": [
    "## Variable to Explore: Gender"
   ]
  },
  {
   "cell_type": "markdown",
   "metadata": {},
   "source": [
    "### Identifying # of unknown gender animals"
   ]
  },
  {
   "cell_type": "code",
   "execution_count": 16,
   "metadata": {},
   "outputs": [
    {
     "data": {
      "text/html": [
       "<div>\n",
       "<style scoped>\n",
       "    .dataframe tbody tr th:only-of-type {\n",
       "        vertical-align: middle;\n",
       "    }\n",
       "\n",
       "    .dataframe tbody tr th {\n",
       "        vertical-align: top;\n",
       "    }\n",
       "\n",
       "    .dataframe thead th {\n",
       "        text-align: right;\n",
       "    }\n",
       "</style>\n",
       "<table border=\"1\" class=\"dataframe\">\n",
       "  <thead>\n",
       "    <tr style=\"text-align: right;\">\n",
       "      <th></th>\n",
       "      <th>is_adopted</th>\n",
       "    </tr>\n",
       "    <tr>\n",
       "      <th>gender</th>\n",
       "      <th></th>\n",
       "    </tr>\n",
       "  </thead>\n",
       "  <tbody>\n",
       "    <tr>\n",
       "      <th>Female</th>\n",
       "      <td>0.585855</td>\n",
       "    </tr>\n",
       "    <tr>\n",
       "      <th>Male</th>\n",
       "      <td>0.580576</td>\n",
       "    </tr>\n",
       "    <tr>\n",
       "      <th>Unknown</th>\n",
       "      <td>0.000000</td>\n",
       "    </tr>\n",
       "  </tbody>\n",
       "</table>\n",
       "</div>"
      ],
      "text/plain": [
       "         is_adopted\n",
       "gender             \n",
       "Female     0.585855\n",
       "Male       0.580576\n",
       "Unknown    0.000000"
      ]
     },
     "execution_count": 16,
     "metadata": {},
     "output_type": "execute_result"
    }
   ],
   "source": [
    "# using groupby to examine adoption rates within each gender value\n",
    "male_v_female = train.groupby('gender').mean()[['is_adopted']]\n",
    "\n",
    "male_v_female"
   ]
  },
  {
   "cell_type": "markdown",
   "metadata": {},
   "source": [
    "### Checking total number of cats and dogs with no gender"
   ]
  },
  {
   "cell_type": "code",
   "execution_count": 17,
   "metadata": {
    "scrolled": true
   },
   "outputs": [
    {
     "data": {
      "text/plain": [
       "1559"
      ]
     },
     "execution_count": 17,
     "metadata": {},
     "output_type": "execute_result"
    }
   ],
   "source": [
    "train[train.gender == 'Unknown'].shape[0]"
   ]
  },
  {
   "cell_type": "markdown",
   "metadata": {},
   "source": [
    "### Researching unknown gender cats and dogs in depth\n",
    "Very peculiar that 0 out nearly 1600 were not adopted"
   ]
  },
  {
   "cell_type": "code",
   "execution_count": 18,
   "metadata": {},
   "outputs": [
    {
     "data": {
      "text/plain": [
       "Transfer      1358\n",
       "Euthanasia     157\n",
       "Died            44\n",
       "Name: outcome_type, dtype: int64"
      ]
     },
     "execution_count": 18,
     "metadata": {},
     "output_type": "execute_result"
    }
   ],
   "source": [
    "train[train.gender == 'Unknown']['outcome_type'].value_counts()"
   ]
  },
  {
   "cell_type": "code",
   "execution_count": 19,
   "metadata": {
    "scrolled": true
   },
   "outputs": [
    {
     "data": {
      "text/plain": [
       "Partner        1052\n",
       "SCRP            244\n",
       "Suffering       134\n",
       "Snr              62\n",
       "In Kennel        28\n",
       "At Vet           10\n",
       "In Foster         7\n",
       "Medical           6\n",
       "Rabies Risk       6\n",
       "unknown           5\n",
       "Enroute           3\n",
       "Underage          1\n",
       "Aggressive        1\n",
       "Name: outcome_subtype, dtype: int64"
      ]
     },
     "execution_count": 19,
     "metadata": {},
     "output_type": "execute_result"
    }
   ],
   "source": [
    "train[train.gender == 'Unknown']['outcome_subtype'].value_counts()"
   ]
  },
  {
   "cell_type": "markdown",
   "metadata": {},
   "source": [
    "- All the unknown gender cats and dogs that were not adopted were either transfered, put down, or passed away"
   ]
  },
  {
   "cell_type": "markdown",
   "metadata": {},
   "source": [
    "### Visualization"
   ]
  },
  {
   "cell_type": "code",
   "execution_count": 73,
   "metadata": {},
   "outputs": [
    {
     "data": {
      "image/png": "[encoded data removed]",
      "text/plain": [
       "<Figure size 720x432 with 1 Axes>"
      ]
     },
     "metadata": {},
     "output_type": "display_data"
    }
   ],
   "source": [
    "# grouping by gender and aggregating % of adoptions within each gender value\n",
    "gender_adopt = train.groupby('gender').mean()[['is_adopted']].sort_values('gender')\n",
    "\n",
    "# plotting \n",
    "plt.figure(figsize=(10, 6))\n",
    "sns.barplot(data = gender_adopt, x = gender_adopt.index, y='is_adopted')\n",
    "plt.xlabel(\"Animal Gender\", fontsize= 20)\n",
    "plt.ylabel(\"Percent Adopted From Group\", fontsize= 20)\n",
    "plt.title(\"Adoption Rates Within Each Gender Status\", fontweight='bold', fontsize=23)\n",
    "fmt = [f'{i:0.0%}' for i in np.linspace(0, 1, 11)]\n",
    "plt.yticks(np.linspace(0, 1, 11), labels=fmt)\n",
    "plt.show()"
   ]
  },
  {
   "cell_type": "markdown",
   "metadata": {},
   "source": [
    "- __The figures below indicate what % of each gender group are adopted, not the percent of adoptions that belong to each gender group__\n",
    "\n",
    "\n",
    "- Females\n",
    "    - 58% of all male animals are adopted\n",
    "    \n",
    "    \n",
    "- Males\n",
    "    - 58% of all female animals are adopted\n",
    "    \n",
    "    \n",
    "- Unknown gender\n",
    "    - 0 out of 1559 unknown gender animals are adopted\n",
    "    - All the unknown gender cats and dogs that were not adopted were either transfered, put down, or passed away"
   ]
  },
  {
   "cell_type": "markdown",
   "metadata": {},
   "source": [
    "### Chi-Squared Test"
   ]
  },
  {
   "cell_type": "markdown",
   "metadata": {},
   "source": [
    "### Hypotheses\n",
    "<br>\n",
    "H0: Adoption and gender (including unknown gender) are independent\n",
    "<br>\n",
    "Ha: Adoption and gender (including unknown gender) are dependent"
   ]
  },
  {
   "cell_type": "code",
   "execution_count": 21,
   "metadata": {
    "scrolled": true
   },
   "outputs": [
    {
     "name": "stdout",
     "output_type": "stream",
     "text": [
      "alpha = .05\n",
      "\n",
      "p     = 0.0000\n"
     ]
    }
   ],
   "source": [
    "# creating crosstab of male, female and gender unknown adoptions\n",
    "ct_gender = pd.crosstab(train.gender, train.is_adopted)\n",
    "\n",
    "# calculating chi^2, p value, degrees of freedom and expected values\n",
    "chi2, p, degf, expected = stats.chi2_contingency(ct_gender)\n",
    "\n",
    "# printing results\n",
    "print('alpha = .05\\n')\n",
    "print(f'p     = {p:.4f}')"
   ]
  },
  {
   "cell_type": "markdown",
   "metadata": {},
   "source": [
    "- Since p is less than alpha, I am rejecting the null hypothesis that adoption and gender (including unknown gender) are independent\n",
    "\n",
    "\n",
    "- I suspect that the unknown gender values are responsible for the low p value so I'm going to conduct this test again without them"
   ]
  },
  {
   "cell_type": "markdown",
   "metadata": {},
   "source": [
    "### Chi-Squared Test\n",
    "### Hypotheses\n",
    "<br>\n",
    "H0: Adoption and gender (not including unknown gender) are independent\n",
    "<br>\n",
    "Ha: Adoption and gender (not including unknown gender) are dependent"
   ]
  },
  {
   "cell_type": "code",
   "execution_count": 22,
   "metadata": {},
   "outputs": [
    {
     "name": "stdout",
     "output_type": "stream",
     "text": [
      "alpha = .05\n",
      "\n",
      "p     = 0.3439\n"
     ]
    }
   ],
   "source": [
    "# creating df that only includes rows with animals of identified gender\n",
    "fm = train[train.gender != \"Unknown\"]\n",
    "\n",
    "# creating crosstab using gender and is_adopted columns\n",
    "ct_fm = pd.crosstab(fm.gender, fm.is_adopted)\n",
    "\n",
    "# calculating chi^2, p value, degrees of freedom and expected values\n",
    "chi2, p, degf, expected = stats.chi2_contingency(ct_fm)\n",
    "\n",
    "# printing results\n",
    "print('alpha = .05\\n')\n",
    "print(f'p     = {p:.4f}')"
   ]
  },
  {
   "cell_type": "markdown",
   "metadata": {},
   "source": [
    "- Since p is greater than alpha, I fail to reject the null hypothesis that adoption and gender are independent\n",
    "\n",
    "\n",
    "- This makes sense given that adoption rates only significantly differ between known and unknown gender animals and not between the animals with identified genders (male and female)\n",
    "\n",
    "\n",
    "- The percentages of adoption seen between genders and visualization suggest that gender only significantly impacts adoption if the animal's gender is unknown \n",
    "\n",
    "\n",
    "- I may use this variable as a feature in modeling"
   ]
  },
  {
   "cell_type": "markdown",
   "metadata": {},
   "source": [
    "## Variable to Explore: Animal's Sterilization Status Prior to AAC\n",
    "The AAC only sterilizes animals at the adopters requests upon adoption. Do animals that were sterilized (netured or spayed) prior to entering the AAC have higher rates of adoption?"
   ]
  },
  {
   "cell_type": "code",
   "execution_count": 23,
   "metadata": {
    "scrolled": true
   },
   "outputs": [
    {
     "data": {
      "text/html": [
       "<div>\n",
       "<style scoped>\n",
       "    .dataframe tbody tr th:only-of-type {\n",
       "        vertical-align: middle;\n",
       "    }\n",
       "\n",
       "    .dataframe tbody tr th {\n",
       "        vertical-align: top;\n",
       "    }\n",
       "\n",
       "    .dataframe thead th {\n",
       "        text-align: right;\n",
       "    }\n",
       "</style>\n",
       "<table border=\"1\" class=\"dataframe\">\n",
       "  <thead>\n",
       "    <tr style=\"text-align: right;\">\n",
       "      <th></th>\n",
       "      <th>is_adopted</th>\n",
       "    </tr>\n",
       "    <tr>\n",
       "      <th>sterilized_income</th>\n",
       "      <th></th>\n",
       "    </tr>\n",
       "  </thead>\n",
       "  <tbody>\n",
       "    <tr>\n",
       "      <th>0</th>\n",
       "      <td>0.537124</td>\n",
       "    </tr>\n",
       "    <tr>\n",
       "      <th>1</th>\n",
       "      <td>0.615271</td>\n",
       "    </tr>\n",
       "  </tbody>\n",
       "</table>\n",
       "</div>"
      ],
      "text/plain": [
       "                   is_adopted\n",
       "sterilized_income            \n",
       "0                    0.537124\n",
       "1                    0.615271"
      ]
     },
     "execution_count": 23,
     "metadata": {},
     "output_type": "execute_result"
    }
   ],
   "source": [
    "# using groupby to examine adoption rates between \n",
    "# sterilized and unsterilized animals (prior to AAC)\n",
    "income_ster = train.groupby('sterilized_income').mean()[['is_adopted']]\n",
    "\n",
    "income_ster"
   ]
  },
  {
   "cell_type": "markdown",
   "metadata": {},
   "source": [
    "### Visualization"
   ]
  },
  {
   "cell_type": "code",
   "execution_count": 72,
   "metadata": {},
   "outputs": [
    {
     "data": {
      "image/png": "[encoded data removed]",
      "text/plain": [
       "<Figure size 720x432 with 1 Axes>"
      ]
     },
     "metadata": {},
     "output_type": "display_data"
    }
   ],
   "source": [
    "# grouping by sterilization status prior to AAC and aggregating % of adoptions\n",
    "# within each status group\n",
    "sterile_adopt = train.groupby('sterilized_income').mean()[['is_adopted']].sort_values('sterilized_income')\n",
    "\n",
    "# changing index values to no and yes from 0 and 1, respectively\n",
    "sterile_adopt.index = ['No', 'Yes']\n",
    "\n",
    "# creating plot\n",
    "plt.figure(figsize=(10, 6))\n",
    "sns.barplot(data = sterile_adopt, x = sterile_adopt.index, y='is_adopted')\n",
    "plt.xlabel(\"Sterile Prior to AAC\")\n",
    "plt.ylabel(\"Percent Adopted From Group\")\n",
    "plt.title(\"Adoption Rates Among Sterilization Status Prior to Intake Groups\", fontweight='bold', fontsize=23, y=1.05)\n",
    "fmt = [f'{i:0.0%}' for i in np.linspace(0, 1, 11)]\n",
    "plt.yticks(np.linspace(0, 1, 11), labels=fmt)\n",
    "plt.show()"
   ]
  },
  {
   "cell_type": "markdown",
   "metadata": {},
   "source": [
    "- ~61% of animals that are sterilized prior the AAC are adopted\n",
    "- ~52% of animals that are not sterilized prior the AAC are adoptedm"
   ]
  },
  {
   "cell_type": "markdown",
   "metadata": {},
   "source": [
    "## Chi Squared Test\n",
    "### Hypotheses\n",
    "<br>\n",
    "H0: sterilized_income and adoption are independent\n",
    "<br>\n",
    "Ha: sterilized_income and adoption are dependent"
   ]
  },
  {
   "cell_type": "code",
   "execution_count": 25,
   "metadata": {},
   "outputs": [
    {
     "name": "stdout",
     "output_type": "stream",
     "text": [
      "alpha = .05\n",
      "\n",
      "p     = 0.0000\n"
     ]
    }
   ],
   "source": [
    "# creating crosstab using sterilization prior to AAC and is_adopted columns\n",
    "observed_sterile = pd.crosstab(train.sterilized_income, train.is_adopted)\n",
    "\n",
    "# calculating chi^2, p value, degrees of freedom and expected values\n",
    "chi2, p, degf, expected = stats.chi2_contingency(observed_sterile)\n",
    "\n",
    "# printing results\n",
    "print('alpha = .05\\n')\n",
    "print(f'p     = {p:.4f}')"
   ]
  },
  {
   "cell_type": "markdown",
   "metadata": {},
   "source": [
    "- Since p is less than alpha, I reject the null hypothesis that income_sterilization and gender are independent\n",
    "\n",
    "\n",
    "- The calculated percentages and visualization indicate that animals that a higher percent of animals sterilized prior to the AAC are adopted than those were not sterilized prior to the AAC\n",
    "\n",
    "\n",
    "- This __does not__ mean that animals sterilized prior to the AAC are adopted more often overall\n",
    "\n",
    "\n",
    "- It __does mean__ that the data reflects that \n",
    "    - among all dogs and cats sterilized before the AAC, roughly 61% were adopted\n",
    "    - among all dogs and cats not sterilized before the AAC, roughly 52% were adopted\n"
   ]
  },
  {
   "cell_type": "markdown",
   "metadata": {},
   "source": [
    "## Feature to Explore: Breeds that are commonly perceived as aggressive\n",
    "Many people believe that there are \"agressive\" breeds of dogs. Dogs of these breeds may have a harder time getting adopted (Pit Bull, Rottweiler, Chow, Doberman)."
   ]
  },
  {
   "cell_type": "code",
   "execution_count": 26,
   "metadata": {},
   "outputs": [
    {
     "data": {
      "text/html": [
       "<div>\n",
       "<style scoped>\n",
       "    .dataframe tbody tr th:only-of-type {\n",
       "        vertical-align: middle;\n",
       "    }\n",
       "\n",
       "    .dataframe tbody tr th {\n",
       "        vertical-align: top;\n",
       "    }\n",
       "\n",
       "    .dataframe thead th {\n",
       "        text-align: right;\n",
       "    }\n",
       "</style>\n",
       "<table border=\"1\" class=\"dataframe\">\n",
       "  <thead>\n",
       "    <tr style=\"text-align: right;\">\n",
       "      <th></th>\n",
       "      <th>is_adopted</th>\n",
       "    </tr>\n",
       "    <tr>\n",
       "      <th>perceived_agg_breed</th>\n",
       "      <th></th>\n",
       "    </tr>\n",
       "  </thead>\n",
       "  <tbody>\n",
       "    <tr>\n",
       "      <th>0</th>\n",
       "      <td>0.660154</td>\n",
       "    </tr>\n",
       "    <tr>\n",
       "      <th>1</th>\n",
       "      <td>0.565603</td>\n",
       "    </tr>\n",
       "  </tbody>\n",
       "</table>\n",
       "</div>"
      ],
      "text/plain": [
       "                     is_adopted\n",
       "perceived_agg_breed            \n",
       "0                      0.660154\n",
       "1                      0.565603"
      ]
     },
     "execution_count": 26,
     "metadata": {},
     "output_type": "execute_result"
    }
   ],
   "source": [
    "# filtering for only rows that include dogs\n",
    "dogs = train[train.species == 'dog']\n",
    "\n",
    "# using groupby to examine adoption rates within species\n",
    "agg = dogs.groupby('perceived_agg_breed').mean()[['is_adopted']]\n",
    "\n",
    "agg"
   ]
  },
  {
   "cell_type": "markdown",
   "metadata": {},
   "source": [
    "### Visualization"
   ]
  },
  {
   "cell_type": "code",
   "execution_count": 69,
   "metadata": {},
   "outputs": [
    {
     "data": {
      "image/png": "[encoded data removed]",
      "text/plain": [
       "<Figure size 720x432 with 1 Axes>"
      ]
     },
     "metadata": {},
     "output_type": "display_data"
    }
   ],
   "source": [
    "# changing index to no and yes from 0 and 1, respectively\n",
    "agg.index = (['No', 'Yes'])\n",
    "\n",
    "# creating plot\n",
    "plt.figure(figsize=(10, 6))\n",
    "sns.barplot(data=agg, x=agg.index, y='is_adopted')\n",
    "plt.xlabel(\"Breed Perceived as Aggressive\")\n",
    "plt.ylabel(\"Percent Adopted From Group\")\n",
    "plt.title(\"Breeds Considered Aggresive Are Adopted Less\", fontweight='bold', fontsize=23,y = 1.05)\n",
    "fmt = [f'{i:0.0%}' for i in np.linspace(0, 1, 11)]\n",
    "plt.yticks(np.linspace(0, 1, 11), labels=fmt)\n",
    "plt.show()"
   ]
  },
  {
   "cell_type": "markdown",
   "metadata": {},
   "source": [
    "- This __does not__ mean that dogs that are of a breed that is perceived to be aggressive are adopted less often overall\n",
    "\n",
    "\n",
    "- It __does mean__ that the data reflects that \n",
    "    - among all dogs that are of a breed that is perceived to be aggressive, 58% are adopted\n",
    "    - among all dogs that are of a breed that is not perceived to be aggressive, 68% are adopted"
   ]
  },
  {
   "cell_type": "markdown",
   "metadata": {},
   "source": [
    "### Chi-Squared Test"
   ]
  },
  {
   "cell_type": "markdown",
   "metadata": {},
   "source": [
    "### Hypotheses\n",
    "<br>\n",
    "H0: Adoption and whether an animal is neutered of spayed are independent\n",
    "<br>\n",
    "Ha: Adoption and whether an animal is neutered of spayed are dependent"
   ]
  },
  {
   "cell_type": "code",
   "execution_count": 28,
   "metadata": {},
   "outputs": [
    {
     "name": "stdout",
     "output_type": "stream",
     "text": [
      "alpha = .05\n",
      "\n",
      "p     = 0.0000\n"
     ]
    }
   ],
   "source": [
    "# creating crosstab using agg_breed and is_adopted columns\n",
    "ct_breed = pd.crosstab(dogs.perceived_agg_breed, dogs.is_adopted)\n",
    "\n",
    "# calculating chi^2, p value, degrees of freedom and expected values\n",
    "chi2, p, degf, expected = stats.chi2_contingency(ct_breed)\n",
    "\n",
    "# printing results\n",
    "print('alpha = .05\\n')\n",
    "print(f'p     = {p:.4f}')"
   ]
  },
  {
   "cell_type": "markdown",
   "metadata": {},
   "source": [
    "- Since p is less than alpha I am rejecting the null hypothesis that dog breeds perceived as aggressive and adoption are independent\n",
    "\n",
    "\n",
    "- Given the visualization and hypothesis test results, I may use perceived_agg_breed as a model feature"
   ]
  },
  {
   "cell_type": "markdown",
   "metadata": {},
   "source": [
    "## Feature to Explore: Intake Condition\n",
    "Does the condition of an animal at intake affect it's chance of adoption?"
   ]
  },
  {
   "cell_type": "code",
   "execution_count": 77,
   "metadata": {},
   "outputs": [
    {
     "data": {
      "image/png": "[encoded data removed]",
      "text/plain": [
       "<Figure size 720x432 with 1 Axes>"
      ]
     },
     "metadata": {},
     "output_type": "display_data"
    }
   ],
   "source": [
    "# grouping by intake condition and aggregating % of adoptions within each intake condition value\n",
    "intake_con_adopt = train.groupby('intake_condition').mean()[['is_adopted']].sort_values('intake_condition')\n",
    "\n",
    "# plotting \n",
    "plt.figure(figsize=(10, 6))\n",
    "sns.barplot(data = intake_con_adopt, x = intake_con_adopt.index, y='is_adopted')\n",
    "plt.xlabel(\"Intake Condition\", fontsize= 20)\n",
    "plt.ylabel(\"Percent Adopted From Group\", fontsize= 20)\n",
    "plt.title(\"Adoption Rates Per Intake Condition\", fontweight='bold', fontsize=23)\n",
    "fmt = [f'{i:0.0%}' for i in np.linspace(0, 1, 11)]\n",
    "plt.xticks(rotation=45) \n",
    "plt.yticks(np.linspace(0, 1, 11), labels=fmt)\n",
    "\n",
    "\n",
    "plt.show()"
   ]
  },
  {
   "cell_type": "markdown",
   "metadata": {},
   "source": [
    "- __These figures do not indicate that more animals that are normal or pregnant at intake are adopted more than others__\n",
    "\n",
    "\n",
    "- __These figures only indicate the adoption rates within each intake condition group__\n",
    "    - For example, the visual indicates that ~60% of all normal-at-intake animals are adopted, not that ~60% of all adoptions are normal at intake.\n",
    "   \n",
    "    \n",
    "- ~60% of all cats and dogs that are normal at intake are adopted\n",
    "- ~52% of all cats and dogs that are pregnant at intake are adopted\n",
    "- All other cats and dogs are adopted at lower rates within their own intake condition groups"
   ]
  },
  {
   "cell_type": "markdown",
   "metadata": {},
   "source": [
    "### Chi-Squared Test\n",
    "### Hypotheses\n",
    "<br>\n",
    "H0: Adoption and intake condition are independent\n",
    "<br>\n",
    "Ha: Adoption and intake condition are dependent"
   ]
  },
  {
   "cell_type": "code",
   "execution_count": 53,
   "metadata": {
    "scrolled": true
   },
   "outputs": [
    {
     "name": "stdout",
     "output_type": "stream",
     "text": [
      "alpha = .05\n",
      "\n",
      "p     = 0.0000\n"
     ]
    }
   ],
   "source": [
    "# creating crosstab using intake_condition and is_adopted columns\n",
    "ct_ic = pd.crosstab(train.intake_condition, train.is_adopted)\n",
    "\n",
    "# calculating chi^2, p value, degrees of freedom and expected values\n",
    "chi2, p, degf, expected = stats.chi2_contingency(ct_ic)\n",
    "\n",
    "# printing results\n",
    "print('alpha = .05\\n')\n",
    "print(f'p     = {p:.4f}')"
   ]
  },
  {
   "cell_type": "markdown",
   "metadata": {},
   "source": [
    "- Since p is less than alpha I am rejecting the null hypothesis that dogs of a breed that intake condtion and adoption are independent\n",
    "\n",
    "\n",
    "- Given the visualization and hypothesis test results, I may use intake_condition as a model feature"
   ]
  },
  {
   "cell_type": "markdown",
   "metadata": {},
   "source": [
    "## Feature to Explore: Intake Type\n",
    "Does the condition of an animal at intake affect it's chance of adoption?"
   ]
  },
  {
   "cell_type": "code",
   "execution_count": 76,
   "metadata": {},
   "outputs": [
    {
     "data": {
      "image/png": "[encoded data removed]",
      "text/plain": [
       "<Figure size 720x432 with 1 Axes>"
      ]
     },
     "metadata": {},
     "output_type": "display_data"
    }
   ],
   "source": [
    "# grouping by intake type and aggregating % of adoptions within each intake type value\n",
    "intake_type_adopt = train.groupby('intake_type').mean()[['is_adopted']].sort_values('intake_type')\n",
    "\n",
    "# plotting \n",
    "plt.figure(figsize=(10, 6))\n",
    "sns.barplot(data = intake_type_adopt, x = intake_type_adopt.index, y='is_adopted')\n",
    "plt.xlabel(\"Intake Type\", fontsize= 20)\n",
    "plt.ylabel(\"Percent Adopted From Group\", fontsize= 20)\n",
    "plt.title(\"Adoption Rates Per Intake Type\", fontweight='bold', fontsize=23)\n",
    "fmt = [f'{i:0.0%}' for i in np.linspace(0, 1, 11)]\n",
    "plt.xticks(rotation=45) \n",
    "plt.yticks(np.linspace(0, 1, 11), labels=fmt)\n",
    "\n",
    "plt.show()"
   ]
  },
  {
   "cell_type": "markdown",
   "metadata": {},
   "source": [
    "- __These figures do not indicate that more animals that were surrendered by their owner are adopted more than others__\n",
    "\n",
    "\n",
    "- __These figures indicate the adoption rates within each intake type group__\n",
    "    - For example, the visual indicates that ~62% of all cat and dogs surrendered by their owner are adopted, not that ~62% of all adopted animals were surrendered by their owner.\n",
    "   \n",
    "    \n",
    "- ~62% of all cats and dogs that were surrendered by their owner are adopted\n",
    "- ~52% of all cats and dogs that were strays are adopted\n",
    "- All other cats and dogs are adopted at lower rates within their own intake type groups\n"
   ]
  },
  {
   "cell_type": "markdown",
   "metadata": {},
   "source": [
    "### Chi-Squared Test\n",
    "### Hypotheses\n",
    "<br>\n",
    "H0: Adoption and intake type are independent\n",
    "<br>\n",
    "Ha: Adoption and intake type are dependent"
   ]
  },
  {
   "cell_type": "code",
   "execution_count": 74,
   "metadata": {},
   "outputs": [
    {
     "name": "stdout",
     "output_type": "stream",
     "text": [
      "alpha = .05\n",
      "\n",
      "p     = 0.0000\n"
     ]
    }
   ],
   "source": [
    "# creating crosstab using intake_type and is_adopted columns\n",
    "ct_it = pd.crosstab(train.intake_type, train.is_adopted)\n",
    "\n",
    "# calculating chi^2, p value, degrees of freedom and expected values\n",
    "chi2, p, degf, expected = stats.chi2_contingency(ct_it)\n",
    "\n",
    "# printing results\n",
    "print('alpha = .05\\n')\n",
    "print(f'p     = {p:.4f}')"
   ]
  },
  {
   "cell_type": "markdown",
   "metadata": {},
   "source": [
    "- Since p is less than alpha I am rejecting the null hypothesis that dogs of a breed that intake type and adoption are independent\n",
    "\n",
    "\n",
    "- Given the visualization and hypothesis test results, I may use intake_type as a model feature\n"
   ]
  },
  {
   "cell_type": "markdown",
   "metadata": {},
   "source": [
    "### Exploration Takeaways\n",
    "- Some visualizations showed slight to stark differences between cats and dogs with varying characteristics whereas others did not \n",
    "\n",
    "\n",
    "- Two-sample, one-tailed t-test suggested that the average age of adopted animals is lower than the average age of animals that are not adopted\n",
    "\n",
    "\n",
    "- Chi square tests showed that is_adopted and all of the following variables are not independent of each other\n",
    "    - animal_type (cat or dog)\n",
    "    - gender (male, female, unknown)\n",
    "    - agg_breed (if a breed of dog is commonly perceived as aggressive)\n",
    "    - sterilized_income (if an animal was sterilized prior to entering the AAC)\n",
    "    - intake_condition"
   ]
  },
  {
   "cell_type": "markdown",
   "metadata": {},
   "source": [
    "# Model<a id='model'></a>\n",
    "I'll now create several models that will predict whether an animal was adopted based on it's various features.\n",
    "***"
   ]
  },
  {
   "cell_type": "markdown",
   "metadata": {},
   "source": [
    "## Baseline"
   ]
  },
  {
   "cell_type": "code",
   "execution_count": 30,
   "metadata": {},
   "outputs": [
    {
     "data": {
      "text/plain": [
       "1    18670\n",
       "0    14904\n",
       "Name: is_adopted, dtype: int64"
      ]
     },
     "execution_count": 30,
     "metadata": {},
     "output_type": "execute_result"
    }
   ],
   "source": [
    "# checking most common value of target variable\n",
    "# ie. are animals more adopted more often than not?\n",
    "train.is_adopted.value_counts()"
   ]
  },
  {
   "cell_type": "code",
   "execution_count": 31,
   "metadata": {},
   "outputs": [],
   "source": [
    "# setting baseline prediction to 1\n",
    "train['baseline_pred'] = 1"
   ]
  },
  {
   "cell_type": "code",
   "execution_count": 32,
   "metadata": {},
   "outputs": [
    {
     "name": "stdout",
     "output_type": "stream",
     "text": [
      "              precision    recall  f1-score   support\n",
      "\n",
      "           0       0.00      0.00      0.00     14904\n",
      "           1       0.56      1.00      0.71     18670\n",
      "\n",
      "    accuracy                           0.56     33574\n",
      "   macro avg       0.28      0.50      0.36     33574\n",
      "weighted avg       0.31      0.56      0.40     33574\n",
      "\n"
     ]
    }
   ],
   "source": [
    "# printing performance metrics\n",
    "print(classification_report(train.is_adopted, train.baseline_pred))"
   ]
  },
  {
   "cell_type": "markdown",
   "metadata": {},
   "source": [
    "## Train"
   ]
  },
  {
   "cell_type": "code",
   "execution_count": 33,
   "metadata": {},
   "outputs": [],
   "source": [
    "# setting target variable\n",
    "y_train = train['is_adopted']"
   ]
  },
  {
   "cell_type": "markdown",
   "metadata": {},
   "source": [
    "### Model 1 - Logistic Regression"
   ]
  },
  {
   "cell_type": "code",
   "execution_count": 34,
   "metadata": {
    "scrolled": true
   },
   "outputs": [
    {
     "name": "stdout",
     "output_type": "stream",
     "text": [
      "              precision    recall  f1-score   support\n",
      "\n",
      "           0       0.74      0.30      0.43     14904\n",
      "           1       0.62      0.91      0.74     18670\n",
      "\n",
      "    accuracy                           0.64     33574\n",
      "   macro avg       0.68      0.61      0.58     33574\n",
      "weighted avg       0.67      0.64      0.60     33574\n",
      "\n"
     ]
    }
   ],
   "source": [
    "# setting feature for model\n",
    "X_train_m1 = train[['age_outcome_days_s', 'is_dog', \n",
    "                    'gender_unknown', 'sterilized_income', 'perceived_agg_breed']]\n",
    "\n",
    "# creating logistic regression object\n",
    "lr = LogisticRegression(random_state=123)\n",
    "\n",
    "# fitting model to data\n",
    "lr.fit(X_train_m1, y_train)\n",
    "\n",
    "# creating column with model predictions\n",
    "train['m1_prediction'] = lr.predict(X_train_m1)\n",
    "\n",
    "# printing performance metrics\n",
    "print(classification_report(train.is_adopted, train.m1_prediction))"
   ]
  },
  {
   "cell_type": "markdown",
   "metadata": {},
   "source": [
    "### Model 2 - Random Forest"
   ]
  },
  {
   "cell_type": "code",
   "execution_count": 35,
   "metadata": {},
   "outputs": [
    {
     "name": "stdout",
     "output_type": "stream",
     "text": [
      "              precision    recall  f1-score   support\n",
      "\n",
      "           0       0.83      0.42      0.56     14904\n",
      "           1       0.67      0.93      0.78     18670\n",
      "\n",
      "    accuracy                           0.71     33574\n",
      "   macro avg       0.75      0.68      0.67     33574\n",
      "weighted avg       0.74      0.71      0.68     33574\n",
      "\n"
     ]
    }
   ],
   "source": [
    "# creating DF with selected features for logistic regression model\n",
    "X_train_m2 = train[['age_outcome_days_s', 'is_dog', \n",
    "                    'gender_unknown', 'sterilized_income', 'perceived_agg_breed']]\n",
    "\n",
    "# creating random forest object\n",
    "rf = RandomForestClassifier(max_depth = 5, random_state=123)\n",
    "\n",
    "# fitting to data\n",
    "rf.fit(X_train_m2, y_train)\n",
    "\n",
    "# making predictions\n",
    "train['m2_prediction'] = rf.predict(X_train_m2)\n",
    "\n",
    "# printing performance metrics\n",
    "print(classification_report(train.is_adopted, train.m2_prediction))"
   ]
  },
  {
   "cell_type": "markdown",
   "metadata": {},
   "source": [
    "### Model 3 - Decision Tree"
   ]
  },
  {
   "cell_type": "code",
   "execution_count": 36,
   "metadata": {},
   "outputs": [
    {
     "name": "stdout",
     "output_type": "stream",
     "text": [
      "              precision    recall  f1-score   support\n",
      "\n",
      "           0       1.00      0.24      0.39     14904\n",
      "           1       0.62      1.00      0.77     18670\n",
      "\n",
      "    accuracy                           0.66     33574\n",
      "   macro avg       0.81      0.62      0.58     33574\n",
      "weighted avg       0.79      0.66      0.60     33574\n",
      "\n"
     ]
    }
   ],
   "source": [
    "# creating DF with selected features for decision tree model\n",
    "X_train_m3 = train[['age_outcome_days_s', 'is_dog', \n",
    "                    'gender_unknown', 'sterilized_income', 'perceived_agg_breed']]\n",
    "\n",
    "# creating decision tree object\n",
    "dtree = DecisionTreeClassifier(max_depth = 3, random_state=123)\n",
    "\n",
    "# fitting d tree to data\n",
    "dtree.fit(X_train_m3, y_train)\n",
    "\n",
    "# predicting values\n",
    "train['m3_prediction'] = dtree.predict(X_train_m3)\n",
    "\n",
    "# printing performance metrics\n",
    "print(classification_report(train.is_adopted, train.m3_prediction))"
   ]
  },
  {
   "cell_type": "markdown",
   "metadata": {},
   "source": [
    "### Model 4 - Knearest Neighbor"
   ]
  },
  {
   "cell_type": "code",
   "execution_count": 37,
   "metadata": {},
   "outputs": [
    {
     "name": "stdout",
     "output_type": "stream",
     "text": [
      "              precision    recall  f1-score   support\n",
      "\n",
      "           0       0.49      0.79      0.60     14904\n",
      "           1       0.67      0.33      0.45     18670\n",
      "\n",
      "    accuracy                           0.54     33574\n",
      "   macro avg       0.58      0.56      0.52     33574\n",
      "weighted avg       0.59      0.54      0.52     33574\n",
      "\n"
     ]
    }
   ],
   "source": [
    "# creating DF with selected features for KNN model\n",
    "X_train_m4 = train[['age_outcome_days_s', 'is_dog', \n",
    "                    'gender_unknown', 'sterilized_income', 'perceived_agg_breed']]\n",
    "\n",
    "# creating KNN object\n",
    "knn = KNeighborsClassifier(n_neighbors=2, weights = 'uniform')\n",
    "\n",
    "# fitting model to data\n",
    "knn.fit(X_train_m4, y_train)\n",
    "\n",
    "# making predictions on x train\n",
    "m4_y_pred = pd.DataFrame(knn.predict(X_train_m4))\n",
    "\n",
    "# creating column with model predictions\n",
    "train['m4_prediction'] = knn.predict(X_train_m4)\n",
    "\n",
    "# printing performance metrics\n",
    "print(classification_report(train.is_adopted, train.m4_prediction))"
   ]
  },
  {
   "cell_type": "markdown",
   "metadata": {},
   "source": [
    "- All models surpassed baseline's accuracy of 56%\n",
    "\n",
    "\n",
    "- Top 2 models are random forest and decision tree\n",
    "    - Model 2 - Random Forest Accuracy: 71%\n",
    "    - Model 3 - Decision Tree Accuracy: 66%\n",
    "    - Both will be used on the validate set"
   ]
  },
  {
   "cell_type": "markdown",
   "metadata": {},
   "source": [
    "## Validate"
   ]
  },
  {
   "cell_type": "code",
   "execution_count": 38,
   "metadata": {},
   "outputs": [],
   "source": [
    "# setting target variable\n",
    "y_val = validate['is_adopted']"
   ]
  },
  {
   "cell_type": "markdown",
   "metadata": {},
   "source": [
    "### Model 2 - Random Forest"
   ]
  },
  {
   "cell_type": "code",
   "execution_count": 39,
   "metadata": {},
   "outputs": [
    {
     "name": "stdout",
     "output_type": "stream",
     "text": [
      "              precision    recall  f1-score   support\n",
      "\n",
      "           0       0.82      0.42      0.55      6318\n",
      "           1       0.67      0.93      0.78      8071\n",
      "\n",
      "    accuracy                           0.70     14389\n",
      "   macro avg       0.75      0.67      0.67     14389\n",
      "weighted avg       0.74      0.70      0.68     14389\n",
      "\n"
     ]
    }
   ],
   "source": [
    "# setting features for model\n",
    "X_val_m2 = validate[['age_outcome_days_s', 'is_dog', \n",
    "                    'gender_unknown', 'sterilized_income', 'perceived_agg_breed']]\n",
    "\n",
    "# creating column with model predictions\n",
    "validate['m2_prediction'] = rf.predict(X_val_m2)\n",
    "\n",
    "# printing performance metrics\n",
    "print(classification_report(validate.is_adopted, validate.m2_prediction))"
   ]
  },
  {
   "cell_type": "markdown",
   "metadata": {},
   "source": [
    "### Model 3 - Decision Tree"
   ]
  },
  {
   "cell_type": "code",
   "execution_count": 40,
   "metadata": {},
   "outputs": [
    {
     "name": "stdout",
     "output_type": "stream",
     "text": [
      "              precision    recall  f1-score   support\n",
      "\n",
      "           0       1.00      0.24      0.38      6318\n",
      "           1       0.63      1.00      0.77      8071\n",
      "\n",
      "    accuracy                           0.66     14389\n",
      "   macro avg       0.81      0.62      0.58     14389\n",
      "weighted avg       0.79      0.66      0.60     14389\n",
      "\n"
     ]
    }
   ],
   "source": [
    "# setting features for model\n",
    "X_val_m3 = validate[['age_outcome_days_s', 'is_dog', \n",
    "                    'gender_unknown', 'sterilized_income', 'perceived_agg_breed']]\n",
    "\n",
    "# creating column with model predictions\n",
    "validate['m3_prediction'] = dtree.predict(X_val_m3)\n",
    "\n",
    "# printing performance metrics\n",
    "print(classification_report(validate.is_adopted, validate.m3_prediction))"
   ]
  },
  {
   "cell_type": "markdown",
   "metadata": {},
   "source": [
    "- Random Forest accuracy on validation set: 70%\n",
    "\n",
    "\n",
    "- Decision Tree accuracy on validation set: 66%\n",
    "\n",
    "\n",
    "- Given its better accuracy on validate set, the random forest model will be used on test\n",
    "\n"
   ]
  },
  {
   "cell_type": "markdown",
   "metadata": {},
   "source": [
    "## Test"
   ]
  },
  {
   "cell_type": "markdown",
   "metadata": {},
   "source": [
    "### Model 2 - Random Forest"
   ]
  },
  {
   "cell_type": "code",
   "execution_count": 41,
   "metadata": {},
   "outputs": [
    {
     "name": "stdout",
     "output_type": "stream",
     "text": [
      "              precision    recall  f1-score   support\n",
      "\n",
      "           0       0.83      0.42      0.56      5476\n",
      "           1       0.66      0.93      0.77      6515\n",
      "\n",
      "    accuracy                           0.70     11991\n",
      "   macro avg       0.74      0.67      0.66     11991\n",
      "weighted avg       0.74      0.70      0.67     11991\n",
      "\n"
     ]
    }
   ],
   "source": [
    "# setting target variable\n",
    "y_test = test['is_adopted']\n",
    "\n",
    "# setting features for model\n",
    "X_test_m2 = test[['age_outcome_days_s', 'is_dog', \n",
    "                    'gender_unknown', 'sterilized_income', 'perceived_agg_breed']]\n",
    "\n",
    "# creating column with model predictions\n",
    "test['m2_prediction'] = rf.predict(X_test_m2)\n",
    "\n",
    "# printing performance metrics\n",
    "print(classification_report(test.is_adopted, test.m2_prediction))"
   ]
  },
  {
   "cell_type": "markdown",
   "metadata": {},
   "source": [
    "- Random forest model produced performed with 70% accuracy on test data\n",
    "\n",
    "- Average accuracy on out-of-sample data, 70%"
   ]
  },
  {
   "cell_type": "markdown",
   "metadata": {},
   "source": [
    "### Modeling Takeaways\n",
    "\n",
    "- Created models using the following algorithms \n",
    "    - logistic regression\n",
    "    - random forest\n",
    "    - k-nearest neighbor\n",
    "    - decision tree\n",
    "\n",
    "\n",
    "- __Train Set Model Performances__\n",
    "    - Logistic Regression\n",
    "        - Accuracy: 64%\n",
    "    - Random Forest\n",
    "        - Accuracy: 71%\n",
    "    - Decision Tree \n",
    "        - Accuracy: 66%\n",
    "    - K-Nearest Neighbor\n",
    "        - Accuracy: 54%\n",
    "    \n",
    "    \n",
    "- __Validate Set Model Performances__\n",
    "    - Random Forest \n",
    "        - Accuracy: 70%\n",
    "    - Decision Tree \n",
    "        - Accuracy: 66%\n",
    "\n",
    "\n",
    "- __Test Set Model Performance__\n",
    "    - Random Forest \n",
    "        - Accuracy on in-sample (seen) data: 71%\n",
    "        - Average accuracy on out-of-sample (unseen) data: 70%\n",
    "       "
   ]
  },
  {
   "cell_type": "code",
   "execution_count": 42,
   "metadata": {},
   "outputs": [
    {
     "data": {
      "text/plain": [
       "Index(['perceived_agg_breed', 'is_cat', 'is_dog', 'species', 'is_male',\n",
       "       'is_female', 'gender_unknown', 'gender', 'sterilized_income',\n",
       "       'outcome_subtype', 'outcome_type', 'age_group_years',\n",
       "       'age_outcome_days', 'intake_condition', 'intake_type', 'intake_weekday',\n",
       "       'intake_month', 'intake_year', 'age_outcome_days_s', 'is_adopted',\n",
       "       'baseline_pred', 'm1_prediction', 'm2_prediction', 'm3_prediction',\n",
       "       'm4_prediction'],\n",
       "      dtype='object')"
      ]
     },
     "execution_count": 42,
     "metadata": {},
     "output_type": "execute_result"
    }
   ],
   "source": [
    "train.columns"
   ]
  },
  {
   "cell_type": "markdown",
   "metadata": {},
   "source": [
    "# Conclusion<a id='conclusion'></a>"
   ]
  },
  {
   "cell_type": "markdown",
   "metadata": {},
   "source": [
    "### Acquire\n",
    "- Acquired data from local csv file\n",
    "\n",
    "### Prepare\n",
    "- Prepped data with various changes, namely:\n",
    "    - Dropped columns for various reason\n",
    "        - Some will be restored and explore in a future iteration of this project\n",
    "    - Split column that contained gender and sterilization at time of intake information\n",
    "    - Added boolean columns for categorical data\n",
    "    - Renamed columns\n",
    "    - Dropped null values\n",
    "    - Split Data\n",
    "    \n",
    "### Explore\n",
    "- Some visualizations showed slight to stark differences between cats and dogs with varying characteristics whereas others did not \n",
    "\n",
    "\n",
    "- Two-sample, one-tailed t-test suggested that the average age of adopted animals is lower than the average age of animals that are not adopted\n",
    "\n",
    "\n",
    "- Chi square tests showed that is_adopted and all of the following variables are not independent of each other\n",
    "    - animal_type (cat or dog)\n",
    "    - gender (male, female, unknown)\n",
    "    - agg_breed (if a breed of dog is commonly perceived as aggressive)\n",
    "    - sterilized_income (if an animal was sterilized prior to entering the AAC)\n",
    "    - intake_condition\n",
    "    - intake_type\n",
    "    \n",
    "### Model\n",
    "- Created baseline model that produced 56% accuracy on train data\n",
    "- Created 4 alternate models using various algorithms\n",
    "- Best Model was created with the following profile\n",
    "    - Type: Random Forest\n",
    "    - Features: \n",
    "        - age_outcome_days_s (animal's age)\n",
    "        - is_dog (represents if animal is a dog)\n",
    "        - gender_unknown (if animal's gender is unknown)\n",
    "        - sterilized_income (if animal was sterile at time of intake into AAC)\n",
    "        - perceived_agg_breed (if animal's breed is commonly perceived as aggressive)\n",
    "- Peformed with 71% accuracy on train (in-sample) data\n",
    "- Peformed with 70% accuracy on validatea and test (out-of-sample) data\n",
    "\n",
    "### Recommendations\n",
    "- Develop a program that aims to pair older animals with suitable homes\n",
    "- Sterilize animals prior to adoption\n",
    "- Use website and promotional material to advocate for increased cat adoption\n",
    "\n",
    "### Predictions\n",
    "- By following the recommendations above, the AAC may be able to increase their adoption rates\n",
    "\n",
    "### Plans for the future\n",
    "- I'd like to explore the features that I was not able to explore in this iteration of the project in the interest of time."
   ]
  },
  {
   "cell_type": "code",
   "execution_count": null,
   "metadata": {},
   "outputs": [],
   "source": []
  }
 ],
 "metadata": {
  "kernelspec": {
   "display_name": "Python 3",
   "language": "python",
   "name": "python3"
  },
  "language_info": {
   "codemirror_mode": {
    "name": "ipython",
    "version": 3
   },
   "file_extension": ".py",
   "mimetype": "text/x-python",
   "name": "python",
   "nbconvert_exporter": "python",
   "pygments_lexer": "ipython3",
   "version": "3.7.6"
  }
 },
 "nbformat": 4,
 "nbformat_minor": 4
}
