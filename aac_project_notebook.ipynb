{
 "cells": [
  {
   "cell_type": "code",
   "execution_count": 126,
   "metadata": {},
   "outputs": [],
   "source": [
    "# establishing environment\n",
    "import pandas as pd\n",
    "import numpy as np\n",
    "import matplotlib.pyplot as plt\n",
    "import seaborn as sns\n",
    "import scipy.stats as stats\n",
    "\n",
    "import warnings\n",
    "warnings.filterwarnings(\"ignore\")\n",
    "\n",
    "from sklearn.model_selection import train_test_split\n",
    "from sklearn.metrics import classification_report\n",
    "from sklearn.linear_model import LogisticRegression\n",
    "from sklearn.feature_selection import RFE\n",
    "from sklearn.linear_model import LinearRegression"
   ]
  },
  {
   "cell_type": "markdown",
   "metadata": {},
   "source": [
    "# ACQUIRE\n",
    "I'll begin by acquiring the data from a local CSV file."
   ]
  },
  {
   "cell_type": "code",
   "execution_count": 127,
   "metadata": {
    "scrolled": true
   },
   "outputs": [
    {
     "data": {
      "text/html": [
       "<div>\n",
       "<style scoped>\n",
       "    .dataframe tbody tr th:only-of-type {\n",
       "        vertical-align: middle;\n",
       "    }\n",
       "\n",
       "    .dataframe tbody tr th {\n",
       "        vertical-align: top;\n",
       "    }\n",
       "\n",
       "    .dataframe thead th {\n",
       "        text-align: right;\n",
       "    }\n",
       "</style>\n",
       "<table border=\"1\" class=\"dataframe\">\n",
       "  <thead>\n",
       "    <tr style=\"text-align: right;\">\n",
       "      <th></th>\n",
       "      <th>age_upon_outcome</th>\n",
       "      <th>animal_id</th>\n",
       "      <th>animal_type</th>\n",
       "      <th>breed</th>\n",
       "      <th>color</th>\n",
       "      <th>date_of_birth</th>\n",
       "      <th>datetime</th>\n",
       "      <th>monthyear</th>\n",
       "      <th>name</th>\n",
       "      <th>outcome_subtype</th>\n",
       "      <th>outcome_type</th>\n",
       "      <th>sex_upon_outcome</th>\n",
       "    </tr>\n",
       "  </thead>\n",
       "  <tbody>\n",
       "    <tr>\n",
       "      <th>0</th>\n",
       "      <td>2 weeks</td>\n",
       "      <td>A684346</td>\n",
       "      <td>Cat</td>\n",
       "      <td>Domestic Shorthair Mix</td>\n",
       "      <td>Orange Tabby</td>\n",
       "      <td>2014-07-07T00:00:00</td>\n",
       "      <td>2014-07-22T16:04:00</td>\n",
       "      <td>2014-07-22T16:04:00</td>\n",
       "      <td>NaN</td>\n",
       "      <td>Partner</td>\n",
       "      <td>Transfer</td>\n",
       "      <td>Intact Male</td>\n",
       "    </tr>\n",
       "    <tr>\n",
       "      <th>1</th>\n",
       "      <td>1 year</td>\n",
       "      <td>A666430</td>\n",
       "      <td>Dog</td>\n",
       "      <td>Beagle Mix</td>\n",
       "      <td>White/Brown</td>\n",
       "      <td>2012-11-06T00:00:00</td>\n",
       "      <td>2013-11-07T11:47:00</td>\n",
       "      <td>2013-11-07T11:47:00</td>\n",
       "      <td>Lucy</td>\n",
       "      <td>Partner</td>\n",
       "      <td>Transfer</td>\n",
       "      <td>Spayed Female</td>\n",
       "    </tr>\n",
       "    <tr>\n",
       "      <th>2</th>\n",
       "      <td>1 year</td>\n",
       "      <td>A675708</td>\n",
       "      <td>Dog</td>\n",
       "      <td>Pit Bull</td>\n",
       "      <td>Blue/White</td>\n",
       "      <td>2013-03-31T00:00:00</td>\n",
       "      <td>2014-06-03T14:20:00</td>\n",
       "      <td>2014-06-03T14:20:00</td>\n",
       "      <td>*Johnny</td>\n",
       "      <td>NaN</td>\n",
       "      <td>Adoption</td>\n",
       "      <td>Neutered Male</td>\n",
       "    </tr>\n",
       "    <tr>\n",
       "      <th>3</th>\n",
       "      <td>9 years</td>\n",
       "      <td>A680386</td>\n",
       "      <td>Dog</td>\n",
       "      <td>Miniature Schnauzer Mix</td>\n",
       "      <td>White</td>\n",
       "      <td>2005-06-02T00:00:00</td>\n",
       "      <td>2014-06-15T15:50:00</td>\n",
       "      <td>2014-06-15T15:50:00</td>\n",
       "      <td>Monday</td>\n",
       "      <td>Partner</td>\n",
       "      <td>Transfer</td>\n",
       "      <td>Neutered Male</td>\n",
       "    </tr>\n",
       "    <tr>\n",
       "      <th>4</th>\n",
       "      <td>5 months</td>\n",
       "      <td>A683115</td>\n",
       "      <td>Other</td>\n",
       "      <td>Bat Mix</td>\n",
       "      <td>Brown</td>\n",
       "      <td>2014-01-07T00:00:00</td>\n",
       "      <td>2014-07-07T14:04:00</td>\n",
       "      <td>2014-07-07T14:04:00</td>\n",
       "      <td>NaN</td>\n",
       "      <td>Rabies Risk</td>\n",
       "      <td>Euthanasia</td>\n",
       "      <td>Unknown</td>\n",
       "    </tr>\n",
       "    <tr>\n",
       "      <th>5</th>\n",
       "      <td>4 months</td>\n",
       "      <td>A664462</td>\n",
       "      <td>Dog</td>\n",
       "      <td>Leonberger Mix</td>\n",
       "      <td>Brown/White</td>\n",
       "      <td>2013-06-03T00:00:00</td>\n",
       "      <td>2013-10-07T13:06:00</td>\n",
       "      <td>2013-10-07T13:06:00</td>\n",
       "      <td>*Edgar</td>\n",
       "      <td>Partner</td>\n",
       "      <td>Transfer</td>\n",
       "      <td>Intact Male</td>\n",
       "    </tr>\n",
       "    <tr>\n",
       "      <th>6</th>\n",
       "      <td>1 year</td>\n",
       "      <td>A693700</td>\n",
       "      <td>Other</td>\n",
       "      <td>Squirrel Mix</td>\n",
       "      <td>Tan</td>\n",
       "      <td>2013-12-13T00:00:00</td>\n",
       "      <td>2014-12-13T12:20:00</td>\n",
       "      <td>2014-12-13T12:20:00</td>\n",
       "      <td>NaN</td>\n",
       "      <td>Suffering</td>\n",
       "      <td>Euthanasia</td>\n",
       "      <td>Unknown</td>\n",
       "    </tr>\n",
       "    <tr>\n",
       "      <th>7</th>\n",
       "      <td>3 years</td>\n",
       "      <td>A692618</td>\n",
       "      <td>Dog</td>\n",
       "      <td>Chihuahua Shorthair Mix</td>\n",
       "      <td>Brown</td>\n",
       "      <td>2011-11-23T00:00:00</td>\n",
       "      <td>2014-12-08T15:55:00</td>\n",
       "      <td>2014-12-08T15:55:00</td>\n",
       "      <td>*Ella</td>\n",
       "      <td>Partner</td>\n",
       "      <td>Transfer</td>\n",
       "      <td>Spayed Female</td>\n",
       "    </tr>\n",
       "    <tr>\n",
       "      <th>8</th>\n",
       "      <td>1 month</td>\n",
       "      <td>A685067</td>\n",
       "      <td>Cat</td>\n",
       "      <td>Domestic Shorthair Mix</td>\n",
       "      <td>Blue Tabby/White</td>\n",
       "      <td>2014-06-16T00:00:00</td>\n",
       "      <td>2014-08-14T18:45:00</td>\n",
       "      <td>2014-08-14T18:45:00</td>\n",
       "      <td>Lucy</td>\n",
       "      <td>NaN</td>\n",
       "      <td>Adoption</td>\n",
       "      <td>Intact Female</td>\n",
       "    </tr>\n",
       "    <tr>\n",
       "      <th>9</th>\n",
       "      <td>3 months</td>\n",
       "      <td>A678580</td>\n",
       "      <td>Cat</td>\n",
       "      <td>Domestic Shorthair Mix</td>\n",
       "      <td>White/Black</td>\n",
       "      <td>2014-03-26T00:00:00</td>\n",
       "      <td>2014-06-29T17:45:00</td>\n",
       "      <td>2014-06-29T17:45:00</td>\n",
       "      <td>*Frida</td>\n",
       "      <td>Offsite</td>\n",
       "      <td>Adoption</td>\n",
       "      <td>Spayed Female</td>\n",
       "    </tr>\n",
       "    <tr>\n",
       "      <th>10</th>\n",
       "      <td>1 year</td>\n",
       "      <td>A675405</td>\n",
       "      <td>Cat</td>\n",
       "      <td>Domestic Medium Hair Mix</td>\n",
       "      <td>Black/White</td>\n",
       "      <td>2013-03-27T00:00:00</td>\n",
       "      <td>2014-03-28T14:55:00</td>\n",
       "      <td>2014-03-28T14:55:00</td>\n",
       "      <td>Stella Luna</td>\n",
       "      <td>NaN</td>\n",
       "      <td>Return to Owner</td>\n",
       "      <td>Spayed Female</td>\n",
       "    </tr>\n",
       "    <tr>\n",
       "      <th>11</th>\n",
       "      <td>2 years</td>\n",
       "      <td>A673652</td>\n",
       "      <td>Dog</td>\n",
       "      <td>Papillon/Border Collie</td>\n",
       "      <td>Black/White</td>\n",
       "      <td>2012-02-28T00:00:00</td>\n",
       "      <td>2014-03-28T14:39:00</td>\n",
       "      <td>2014-03-28T14:39:00</td>\n",
       "      <td>Fancy</td>\n",
       "      <td>Partner</td>\n",
       "      <td>Transfer</td>\n",
       "      <td>Neutered Male</td>\n",
       "    </tr>\n",
       "    <tr>\n",
       "      <th>12</th>\n",
       "      <td>2 months</td>\n",
       "      <td>A677679</td>\n",
       "      <td>Dog</td>\n",
       "      <td>Chihuahua Shorthair/Pomeranian</td>\n",
       "      <td>Black</td>\n",
       "      <td>2014-03-07T00:00:00</td>\n",
       "      <td>2014-05-26T19:10:00</td>\n",
       "      <td>2014-05-26T19:10:00</td>\n",
       "      <td>Kash</td>\n",
       "      <td>Foster</td>\n",
       "      <td>Adoption</td>\n",
       "      <td>Neutered Male</td>\n",
       "    </tr>\n",
       "    <tr>\n",
       "      <th>13</th>\n",
       "      <td>4 years</td>\n",
       "      <td>A640655</td>\n",
       "      <td>Dog</td>\n",
       "      <td>Miniature Schnauzer/Miniature Poodle</td>\n",
       "      <td>White</td>\n",
       "      <td>2009-04-27T00:00:00</td>\n",
       "      <td>2014-04-25T11:17:00</td>\n",
       "      <td>2014-04-25T11:17:00</td>\n",
       "      <td>Sandy</td>\n",
       "      <td>NaN</td>\n",
       "      <td>Return to Owner</td>\n",
       "      <td>Spayed Female</td>\n",
       "    </tr>\n",
       "    <tr>\n",
       "      <th>14</th>\n",
       "      <td>8 years</td>\n",
       "      <td>A690350</td>\n",
       "      <td>Dog</td>\n",
       "      <td>Labrador Retriever Mix</td>\n",
       "      <td>Black</td>\n",
       "      <td>2006-10-18T00:00:00</td>\n",
       "      <td>2014-10-26T18:20:00</td>\n",
       "      <td>2014-10-26T18:20:00</td>\n",
       "      <td>Shy</td>\n",
       "      <td>NaN</td>\n",
       "      <td>Return to Owner</td>\n",
       "      <td>Neutered Male</td>\n",
       "    </tr>\n",
       "    <tr>\n",
       "      <th>15</th>\n",
       "      <td>2 years</td>\n",
       "      <td>A680396</td>\n",
       "      <td>Dog</td>\n",
       "      <td>Rat Terrier Mix</td>\n",
       "      <td>White/Black</td>\n",
       "      <td>2012-06-02T00:00:00</td>\n",
       "      <td>2014-06-15T15:11:00</td>\n",
       "      <td>2014-06-15T15:11:00</td>\n",
       "      <td>*Truman</td>\n",
       "      <td>Partner</td>\n",
       "      <td>Transfer</td>\n",
       "      <td>Neutered Male</td>\n",
       "    </tr>\n",
       "    <tr>\n",
       "      <th>16</th>\n",
       "      <td>1 year</td>\n",
       "      <td>A674298</td>\n",
       "      <td>Dog</td>\n",
       "      <td>Pit Bull Mix</td>\n",
       "      <td>Brown Brindle/White</td>\n",
       "      <td>2013-03-11T00:00:00</td>\n",
       "      <td>2014-04-16T12:51:00</td>\n",
       "      <td>2014-04-16T12:51:00</td>\n",
       "      <td>*Newt</td>\n",
       "      <td>Partner</td>\n",
       "      <td>Transfer</td>\n",
       "      <td>Neutered Male</td>\n",
       "    </tr>\n",
       "    <tr>\n",
       "      <th>17</th>\n",
       "      <td>3 weeks</td>\n",
       "      <td>A670420</td>\n",
       "      <td>Cat</td>\n",
       "      <td>Domestic Shorthair Mix</td>\n",
       "      <td>Black/White</td>\n",
       "      <td>2013-12-16T00:00:00</td>\n",
       "      <td>2014-01-09T19:29:00</td>\n",
       "      <td>2014-01-09T19:29:00</td>\n",
       "      <td>NaN</td>\n",
       "      <td>Partner</td>\n",
       "      <td>Transfer</td>\n",
       "      <td>Intact Male</td>\n",
       "    </tr>\n",
       "    <tr>\n",
       "      <th>18</th>\n",
       "      <td>2 months</td>\n",
       "      <td>A692378</td>\n",
       "      <td>Dog</td>\n",
       "      <td>German Shepherd/Labrador Retriever</td>\n",
       "      <td>Black/White</td>\n",
       "      <td>2014-10-19T00:00:00</td>\n",
       "      <td>2014-12-21T18:20:00</td>\n",
       "      <td>2014-12-21T18:20:00</td>\n",
       "      <td>*Bonnie</td>\n",
       "      <td>Foster</td>\n",
       "      <td>Adoption</td>\n",
       "      <td>Spayed Female</td>\n",
       "    </tr>\n",
       "    <tr>\n",
       "      <th>19</th>\n",
       "      <td>2 months</td>\n",
       "      <td>A684460</td>\n",
       "      <td>Cat</td>\n",
       "      <td>Domestic Shorthair Mix</td>\n",
       "      <td>Brown Tabby</td>\n",
       "      <td>2014-06-02T00:00:00</td>\n",
       "      <td>2014-08-13T15:04:00</td>\n",
       "      <td>2014-08-13T15:04:00</td>\n",
       "      <td>Elsa</td>\n",
       "      <td>NaN</td>\n",
       "      <td>Adoption</td>\n",
       "      <td>Spayed Female</td>\n",
       "    </tr>\n",
       "    <tr>\n",
       "      <th>20</th>\n",
       "      <td>8 months</td>\n",
       "      <td>A673952</td>\n",
       "      <td>Cat</td>\n",
       "      <td>Domestic Shorthair Mix</td>\n",
       "      <td>Brown Tabby/White</td>\n",
       "      <td>2013-07-05T00:00:00</td>\n",
       "      <td>2014-03-06T14:29:00</td>\n",
       "      <td>2014-03-06T14:29:00</td>\n",
       "      <td>NaN</td>\n",
       "      <td>SCRP</td>\n",
       "      <td>Transfer</td>\n",
       "      <td>Unknown</td>\n",
       "    </tr>\n",
       "    <tr>\n",
       "      <th>21</th>\n",
       "      <td>5 months</td>\n",
       "      <td>A686497</td>\n",
       "      <td>Cat</td>\n",
       "      <td>Domestic Shorthair Mix</td>\n",
       "      <td>Black Tabby</td>\n",
       "      <td>2014-03-22T00:00:00</td>\n",
       "      <td>2014-08-31T15:45:00</td>\n",
       "      <td>2014-08-31T15:45:00</td>\n",
       "      <td>Chester</td>\n",
       "      <td>NaN</td>\n",
       "      <td>Adoption</td>\n",
       "      <td>Neutered Male</td>\n",
       "    </tr>\n",
       "    <tr>\n",
       "      <th>22</th>\n",
       "      <td>2 years</td>\n",
       "      <td>A666660</td>\n",
       "      <td>Dog</td>\n",
       "      <td>Beagle Mix</td>\n",
       "      <td>Tan/White</td>\n",
       "      <td>2012-05-05T00:00:00</td>\n",
       "      <td>2014-12-11T17:52:00</td>\n",
       "      <td>2014-12-11T17:52:00</td>\n",
       "      <td>Dolly</td>\n",
       "      <td>NaN</td>\n",
       "      <td>Adoption</td>\n",
       "      <td>Spayed Female</td>\n",
       "    </tr>\n",
       "    <tr>\n",
       "      <th>23</th>\n",
       "      <td>2 months</td>\n",
       "      <td>A687965</td>\n",
       "      <td>Cat</td>\n",
       "      <td>Domestic Shorthair Mix</td>\n",
       "      <td>Orange Tabby</td>\n",
       "      <td>2014-08-03T00:00:00</td>\n",
       "      <td>2014-10-31T18:29:00</td>\n",
       "      <td>2014-10-31T18:29:00</td>\n",
       "      <td>*Oliver</td>\n",
       "      <td>Foster</td>\n",
       "      <td>Adoption</td>\n",
       "      <td>Neutered Male</td>\n",
       "    </tr>\n",
       "    <tr>\n",
       "      <th>24</th>\n",
       "      <td>1 year</td>\n",
       "      <td>A668547</td>\n",
       "      <td>Cat</td>\n",
       "      <td>Domestic Medium Hair Mix</td>\n",
       "      <td>Black/White</td>\n",
       "      <td>2012-12-04T00:00:00</td>\n",
       "      <td>2013-12-16T13:59:00</td>\n",
       "      <td>2013-12-16T13:59:00</td>\n",
       "      <td>*Preston</td>\n",
       "      <td>Partner</td>\n",
       "      <td>Transfer</td>\n",
       "      <td>Neutered Male</td>\n",
       "    </tr>\n",
       "    <tr>\n",
       "      <th>25</th>\n",
       "      <td>1 year</td>\n",
       "      <td>A689952</td>\n",
       "      <td>Dog</td>\n",
       "      <td>Mastiff Mix</td>\n",
       "      <td>Brown Brindle</td>\n",
       "      <td>2013-10-11T00:00:00</td>\n",
       "      <td>2014-10-19T17:54:00</td>\n",
       "      <td>2014-10-19T17:54:00</td>\n",
       "      <td>Olive</td>\n",
       "      <td>NaN</td>\n",
       "      <td>Adoption</td>\n",
       "      <td>Spayed Female</td>\n",
       "    </tr>\n",
       "    <tr>\n",
       "      <th>26</th>\n",
       "      <td>4 months</td>\n",
       "      <td>A669621</td>\n",
       "      <td>Dog</td>\n",
       "      <td>Plott Hound Mix</td>\n",
       "      <td>Brown Brindle/Black</td>\n",
       "      <td>2013-08-23T00:00:00</td>\n",
       "      <td>2013-12-25T09:47:00</td>\n",
       "      <td>2013-12-25T09:47:00</td>\n",
       "      <td>NaN</td>\n",
       "      <td>Partner</td>\n",
       "      <td>Transfer</td>\n",
       "      <td>Intact Female</td>\n",
       "    </tr>\n",
       "    <tr>\n",
       "      <th>27</th>\n",
       "      <td>2 months</td>\n",
       "      <td>A667311</td>\n",
       "      <td>Dog</td>\n",
       "      <td>Labrador Retriever Mix</td>\n",
       "      <td>Yellow</td>\n",
       "      <td>2013-09-01T00:00:00</td>\n",
       "      <td>2013-11-19T18:30:00</td>\n",
       "      <td>2013-11-19T18:30:00</td>\n",
       "      <td>Promise</td>\n",
       "      <td>NaN</td>\n",
       "      <td>Adoption</td>\n",
       "      <td>Spayed Female</td>\n",
       "    </tr>\n",
       "    <tr>\n",
       "      <th>28</th>\n",
       "      <td>4 months</td>\n",
       "      <td>A690699</td>\n",
       "      <td>Dog</td>\n",
       "      <td>Chihuahua Shorthair Mix</td>\n",
       "      <td>Blue/Tan</td>\n",
       "      <td>2014-06-17T00:00:00</td>\n",
       "      <td>2014-11-04T18:03:00</td>\n",
       "      <td>2014-11-04T18:03:00</td>\n",
       "      <td>Minnie</td>\n",
       "      <td>Partner</td>\n",
       "      <td>Transfer</td>\n",
       "      <td>Intact Female</td>\n",
       "    </tr>\n",
       "    <tr>\n",
       "      <th>29</th>\n",
       "      <td>2 months</td>\n",
       "      <td>A682393</td>\n",
       "      <td>Cat</td>\n",
       "      <td>Siamese</td>\n",
       "      <td>Seal Point</td>\n",
       "      <td>2014-04-27T00:00:00</td>\n",
       "      <td>2014-07-03T12:12:00</td>\n",
       "      <td>2014-07-03T12:12:00</td>\n",
       "      <td>*Bumble</td>\n",
       "      <td>Partner</td>\n",
       "      <td>Transfer</td>\n",
       "      <td>Intact Female</td>\n",
       "    </tr>\n",
       "    <tr>\n",
       "      <th>30</th>\n",
       "      <td>2 weeks</td>\n",
       "      <td>A681039</td>\n",
       "      <td>Cat</td>\n",
       "      <td>Domestic Shorthair Mix</td>\n",
       "      <td>Black</td>\n",
       "      <td>2014-05-27T00:00:00</td>\n",
       "      <td>2014-06-11T17:11:00</td>\n",
       "      <td>2014-06-11T17:11:00</td>\n",
       "      <td>NaN</td>\n",
       "      <td>Partner</td>\n",
       "      <td>Transfer</td>\n",
       "      <td>Unknown</td>\n",
       "    </tr>\n",
       "    <tr>\n",
       "      <th>31</th>\n",
       "      <td>2 months</td>\n",
       "      <td>A682532</td>\n",
       "      <td>Cat</td>\n",
       "      <td>Domestic Shorthair Mix</td>\n",
       "      <td>Torbie</td>\n",
       "      <td>2014-04-14T00:00:00</td>\n",
       "      <td>2014-07-03T17:01:00</td>\n",
       "      <td>2014-07-03T17:01:00</td>\n",
       "      <td>NaN</td>\n",
       "      <td>NaN</td>\n",
       "      <td>Adoption</td>\n",
       "      <td>Spayed Female</td>\n",
       "    </tr>\n",
       "    <tr>\n",
       "      <th>32</th>\n",
       "      <td>3 months</td>\n",
       "      <td>A669918</td>\n",
       "      <td>Dog</td>\n",
       "      <td>Labrador Retriever Mix</td>\n",
       "      <td>Tan/White</td>\n",
       "      <td>2013-09-30T00:00:00</td>\n",
       "      <td>2014-01-03T17:47:00</td>\n",
       "      <td>2014-01-03T17:47:00</td>\n",
       "      <td>NaN</td>\n",
       "      <td>NaN</td>\n",
       "      <td>Adoption</td>\n",
       "      <td>Spayed Female</td>\n",
       "    </tr>\n",
       "    <tr>\n",
       "      <th>33</th>\n",
       "      <td>3 months</td>\n",
       "      <td>A683779</td>\n",
       "      <td>Cat</td>\n",
       "      <td>Domestic Shorthair Mix</td>\n",
       "      <td>Black</td>\n",
       "      <td>2014-04-15T00:00:00</td>\n",
       "      <td>2014-07-19T17:36:00</td>\n",
       "      <td>2014-07-19T17:36:00</td>\n",
       "      <td>NaN</td>\n",
       "      <td>NaN</td>\n",
       "      <td>Adoption</td>\n",
       "      <td>Spayed Female</td>\n",
       "    </tr>\n",
       "    <tr>\n",
       "      <th>34</th>\n",
       "      <td>12 years</td>\n",
       "      <td>A678098</td>\n",
       "      <td>Dog</td>\n",
       "      <td>Labrador Retriever Mix</td>\n",
       "      <td>Black/White</td>\n",
       "      <td>2002-05-08T00:00:00</td>\n",
       "      <td>2014-07-09T11:54:00</td>\n",
       "      <td>2014-07-09T11:54:00</td>\n",
       "      <td>Shades</td>\n",
       "      <td>Foster</td>\n",
       "      <td>Adoption</td>\n",
       "      <td>Neutered Male</td>\n",
       "    </tr>\n",
       "    <tr>\n",
       "      <th>35</th>\n",
       "      <td>3 weeks</td>\n",
       "      <td>A686829</td>\n",
       "      <td>Cat</td>\n",
       "      <td>Domestic Shorthair Mix</td>\n",
       "      <td>Black</td>\n",
       "      <td>2014-08-05T00:00:00</td>\n",
       "      <td>2014-08-27T16:27:00</td>\n",
       "      <td>2014-08-27T16:27:00</td>\n",
       "      <td>NaN</td>\n",
       "      <td>Partner</td>\n",
       "      <td>Transfer</td>\n",
       "      <td>Intact Male</td>\n",
       "    </tr>\n",
       "    <tr>\n",
       "      <th>36</th>\n",
       "      <td>2 years</td>\n",
       "      <td>A677038</td>\n",
       "      <td>Dog</td>\n",
       "      <td>Chihuahua Shorthair Mix</td>\n",
       "      <td>Buff</td>\n",
       "      <td>2012-04-22T00:00:00</td>\n",
       "      <td>2014-04-26T13:00:00</td>\n",
       "      <td>2014-04-26T13:00:00</td>\n",
       "      <td>*Penny</td>\n",
       "      <td>NaN</td>\n",
       "      <td>Adoption</td>\n",
       "      <td>Spayed Female</td>\n",
       "    </tr>\n",
       "    <tr>\n",
       "      <th>37</th>\n",
       "      <td>4 years</td>\n",
       "      <td>A665344</td>\n",
       "      <td>Dog</td>\n",
       "      <td>Chihuahua Shorthair Mix</td>\n",
       "      <td>Red/White</td>\n",
       "      <td>2009-10-16T00:00:00</td>\n",
       "      <td>2013-11-02T17:47:00</td>\n",
       "      <td>2013-11-02T17:47:00</td>\n",
       "      <td>Ginger</td>\n",
       "      <td>NaN</td>\n",
       "      <td>Adoption</td>\n",
       "      <td>Spayed Female</td>\n",
       "    </tr>\n",
       "    <tr>\n",
       "      <th>38</th>\n",
       "      <td>3 years</td>\n",
       "      <td>A617061</td>\n",
       "      <td>Cat</td>\n",
       "      <td>Domestic Medium Hair Mix</td>\n",
       "      <td>Orange Tabby</td>\n",
       "      <td>2011-08-02T00:00:00</td>\n",
       "      <td>2014-09-04T09:57:00</td>\n",
       "      <td>2014-09-04T09:57:00</td>\n",
       "      <td>Pumpkin</td>\n",
       "      <td>In Kennel</td>\n",
       "      <td>Died</td>\n",
       "      <td>Neutered Male</td>\n",
       "    </tr>\n",
       "    <tr>\n",
       "      <th>39</th>\n",
       "      <td>1 year</td>\n",
       "      <td>A675394</td>\n",
       "      <td>Dog</td>\n",
       "      <td>Miniature Pinscher Mix</td>\n",
       "      <td>Black/White</td>\n",
       "      <td>2012-09-27T00:00:00</td>\n",
       "      <td>2014-04-03T13:26:00</td>\n",
       "      <td>2014-04-03T13:26:00</td>\n",
       "      <td>*Josh</td>\n",
       "      <td>Partner</td>\n",
       "      <td>Transfer</td>\n",
       "      <td>Intact Male</td>\n",
       "    </tr>\n",
       "  </tbody>\n",
       "</table>\n",
       "</div>"
      ],
      "text/plain": [
       "   age_upon_outcome animal_id animal_type  \\\n",
       "0           2 weeks   A684346         Cat   \n",
       "1            1 year   A666430         Dog   \n",
       "2            1 year   A675708         Dog   \n",
       "3           9 years   A680386         Dog   \n",
       "4          5 months   A683115       Other   \n",
       "5          4 months   A664462         Dog   \n",
       "6            1 year   A693700       Other   \n",
       "7           3 years   A692618         Dog   \n",
       "8           1 month   A685067         Cat   \n",
       "9          3 months   A678580         Cat   \n",
       "10           1 year   A675405         Cat   \n",
       "11          2 years   A673652         Dog   \n",
       "12         2 months   A677679         Dog   \n",
       "13          4 years   A640655         Dog   \n",
       "14          8 years   A690350         Dog   \n",
       "15          2 years   A680396         Dog   \n",
       "16           1 year   A674298         Dog   \n",
       "17          3 weeks   A670420         Cat   \n",
       "18         2 months   A692378         Dog   \n",
       "19         2 months   A684460         Cat   \n",
       "20         8 months   A673952         Cat   \n",
       "21         5 months   A686497         Cat   \n",
       "22          2 years   A666660         Dog   \n",
       "23         2 months   A687965         Cat   \n",
       "24           1 year   A668547         Cat   \n",
       "25           1 year   A689952         Dog   \n",
       "26         4 months   A669621         Dog   \n",
       "27         2 months   A667311         Dog   \n",
       "28         4 months   A690699         Dog   \n",
       "29         2 months   A682393         Cat   \n",
       "30          2 weeks   A681039         Cat   \n",
       "31         2 months   A682532         Cat   \n",
       "32         3 months   A669918         Dog   \n",
       "33         3 months   A683779         Cat   \n",
       "34         12 years   A678098         Dog   \n",
       "35          3 weeks   A686829         Cat   \n",
       "36          2 years   A677038         Dog   \n",
       "37          4 years   A665344         Dog   \n",
       "38          3 years   A617061         Cat   \n",
       "39           1 year   A675394         Dog   \n",
       "\n",
       "                                   breed                color  \\\n",
       "0                 Domestic Shorthair Mix         Orange Tabby   \n",
       "1                             Beagle Mix          White/Brown   \n",
       "2                               Pit Bull           Blue/White   \n",
       "3                Miniature Schnauzer Mix                White   \n",
       "4                                Bat Mix                Brown   \n",
       "5                         Leonberger Mix          Brown/White   \n",
       "6                           Squirrel Mix                  Tan   \n",
       "7                Chihuahua Shorthair Mix                Brown   \n",
       "8                 Domestic Shorthair Mix     Blue Tabby/White   \n",
       "9                 Domestic Shorthair Mix          White/Black   \n",
       "10              Domestic Medium Hair Mix          Black/White   \n",
       "11                Papillon/Border Collie          Black/White   \n",
       "12        Chihuahua Shorthair/Pomeranian                Black   \n",
       "13  Miniature Schnauzer/Miniature Poodle                White   \n",
       "14                Labrador Retriever Mix                Black   \n",
       "15                       Rat Terrier Mix          White/Black   \n",
       "16                          Pit Bull Mix  Brown Brindle/White   \n",
       "17                Domestic Shorthair Mix          Black/White   \n",
       "18    German Shepherd/Labrador Retriever          Black/White   \n",
       "19                Domestic Shorthair Mix          Brown Tabby   \n",
       "20                Domestic Shorthair Mix    Brown Tabby/White   \n",
       "21                Domestic Shorthair Mix          Black Tabby   \n",
       "22                            Beagle Mix            Tan/White   \n",
       "23                Domestic Shorthair Mix         Orange Tabby   \n",
       "24              Domestic Medium Hair Mix          Black/White   \n",
       "25                           Mastiff Mix        Brown Brindle   \n",
       "26                       Plott Hound Mix  Brown Brindle/Black   \n",
       "27                Labrador Retriever Mix               Yellow   \n",
       "28               Chihuahua Shorthair Mix             Blue/Tan   \n",
       "29                               Siamese           Seal Point   \n",
       "30                Domestic Shorthair Mix                Black   \n",
       "31                Domestic Shorthair Mix               Torbie   \n",
       "32                Labrador Retriever Mix            Tan/White   \n",
       "33                Domestic Shorthair Mix                Black   \n",
       "34                Labrador Retriever Mix          Black/White   \n",
       "35                Domestic Shorthair Mix                Black   \n",
       "36               Chihuahua Shorthair Mix                 Buff   \n",
       "37               Chihuahua Shorthair Mix            Red/White   \n",
       "38              Domestic Medium Hair Mix         Orange Tabby   \n",
       "39                Miniature Pinscher Mix          Black/White   \n",
       "\n",
       "          date_of_birth             datetime            monthyear  \\\n",
       "0   2014-07-07T00:00:00  2014-07-22T16:04:00  2014-07-22T16:04:00   \n",
       "1   2012-11-06T00:00:00  2013-11-07T11:47:00  2013-11-07T11:47:00   \n",
       "2   2013-03-31T00:00:00  2014-06-03T14:20:00  2014-06-03T14:20:00   \n",
       "3   2005-06-02T00:00:00  2014-06-15T15:50:00  2014-06-15T15:50:00   \n",
       "4   2014-01-07T00:00:00  2014-07-07T14:04:00  2014-07-07T14:04:00   \n",
       "5   2013-06-03T00:00:00  2013-10-07T13:06:00  2013-10-07T13:06:00   \n",
       "6   2013-12-13T00:00:00  2014-12-13T12:20:00  2014-12-13T12:20:00   \n",
       "7   2011-11-23T00:00:00  2014-12-08T15:55:00  2014-12-08T15:55:00   \n",
       "8   2014-06-16T00:00:00  2014-08-14T18:45:00  2014-08-14T18:45:00   \n",
       "9   2014-03-26T00:00:00  2014-06-29T17:45:00  2014-06-29T17:45:00   \n",
       "10  2013-03-27T00:00:00  2014-03-28T14:55:00  2014-03-28T14:55:00   \n",
       "11  2012-02-28T00:00:00  2014-03-28T14:39:00  2014-03-28T14:39:00   \n",
       "12  2014-03-07T00:00:00  2014-05-26T19:10:00  2014-05-26T19:10:00   \n",
       "13  2009-04-27T00:00:00  2014-04-25T11:17:00  2014-04-25T11:17:00   \n",
       "14  2006-10-18T00:00:00  2014-10-26T18:20:00  2014-10-26T18:20:00   \n",
       "15  2012-06-02T00:00:00  2014-06-15T15:11:00  2014-06-15T15:11:00   \n",
       "16  2013-03-11T00:00:00  2014-04-16T12:51:00  2014-04-16T12:51:00   \n",
       "17  2013-12-16T00:00:00  2014-01-09T19:29:00  2014-01-09T19:29:00   \n",
       "18  2014-10-19T00:00:00  2014-12-21T18:20:00  2014-12-21T18:20:00   \n",
       "19  2014-06-02T00:00:00  2014-08-13T15:04:00  2014-08-13T15:04:00   \n",
       "20  2013-07-05T00:00:00  2014-03-06T14:29:00  2014-03-06T14:29:00   \n",
       "21  2014-03-22T00:00:00  2014-08-31T15:45:00  2014-08-31T15:45:00   \n",
       "22  2012-05-05T00:00:00  2014-12-11T17:52:00  2014-12-11T17:52:00   \n",
       "23  2014-08-03T00:00:00  2014-10-31T18:29:00  2014-10-31T18:29:00   \n",
       "24  2012-12-04T00:00:00  2013-12-16T13:59:00  2013-12-16T13:59:00   \n",
       "25  2013-10-11T00:00:00  2014-10-19T17:54:00  2014-10-19T17:54:00   \n",
       "26  2013-08-23T00:00:00  2013-12-25T09:47:00  2013-12-25T09:47:00   \n",
       "27  2013-09-01T00:00:00  2013-11-19T18:30:00  2013-11-19T18:30:00   \n",
       "28  2014-06-17T00:00:00  2014-11-04T18:03:00  2014-11-04T18:03:00   \n",
       "29  2014-04-27T00:00:00  2014-07-03T12:12:00  2014-07-03T12:12:00   \n",
       "30  2014-05-27T00:00:00  2014-06-11T17:11:00  2014-06-11T17:11:00   \n",
       "31  2014-04-14T00:00:00  2014-07-03T17:01:00  2014-07-03T17:01:00   \n",
       "32  2013-09-30T00:00:00  2014-01-03T17:47:00  2014-01-03T17:47:00   \n",
       "33  2014-04-15T00:00:00  2014-07-19T17:36:00  2014-07-19T17:36:00   \n",
       "34  2002-05-08T00:00:00  2014-07-09T11:54:00  2014-07-09T11:54:00   \n",
       "35  2014-08-05T00:00:00  2014-08-27T16:27:00  2014-08-27T16:27:00   \n",
       "36  2012-04-22T00:00:00  2014-04-26T13:00:00  2014-04-26T13:00:00   \n",
       "37  2009-10-16T00:00:00  2013-11-02T17:47:00  2013-11-02T17:47:00   \n",
       "38  2011-08-02T00:00:00  2014-09-04T09:57:00  2014-09-04T09:57:00   \n",
       "39  2012-09-27T00:00:00  2014-04-03T13:26:00  2014-04-03T13:26:00   \n",
       "\n",
       "           name outcome_subtype     outcome_type sex_upon_outcome  \n",
       "0           NaN         Partner         Transfer      Intact Male  \n",
       "1          Lucy         Partner         Transfer    Spayed Female  \n",
       "2       *Johnny             NaN         Adoption    Neutered Male  \n",
       "3        Monday         Partner         Transfer    Neutered Male  \n",
       "4           NaN     Rabies Risk       Euthanasia          Unknown  \n",
       "5        *Edgar         Partner         Transfer      Intact Male  \n",
       "6           NaN       Suffering       Euthanasia          Unknown  \n",
       "7         *Ella         Partner         Transfer    Spayed Female  \n",
       "8          Lucy             NaN         Adoption    Intact Female  \n",
       "9        *Frida         Offsite         Adoption    Spayed Female  \n",
       "10  Stella Luna             NaN  Return to Owner    Spayed Female  \n",
       "11        Fancy         Partner         Transfer    Neutered Male  \n",
       "12         Kash          Foster         Adoption    Neutered Male  \n",
       "13        Sandy             NaN  Return to Owner    Spayed Female  \n",
       "14          Shy             NaN  Return to Owner    Neutered Male  \n",
       "15      *Truman         Partner         Transfer    Neutered Male  \n",
       "16        *Newt         Partner         Transfer    Neutered Male  \n",
       "17          NaN         Partner         Transfer      Intact Male  \n",
       "18      *Bonnie          Foster         Adoption    Spayed Female  \n",
       "19         Elsa             NaN         Adoption    Spayed Female  \n",
       "20          NaN            SCRP         Transfer          Unknown  \n",
       "21      Chester             NaN         Adoption    Neutered Male  \n",
       "22        Dolly             NaN         Adoption    Spayed Female  \n",
       "23      *Oliver          Foster         Adoption    Neutered Male  \n",
       "24     *Preston         Partner         Transfer    Neutered Male  \n",
       "25        Olive             NaN         Adoption    Spayed Female  \n",
       "26          NaN         Partner         Transfer    Intact Female  \n",
       "27      Promise             NaN         Adoption    Spayed Female  \n",
       "28       Minnie         Partner         Transfer    Intact Female  \n",
       "29      *Bumble         Partner         Transfer    Intact Female  \n",
       "30          NaN         Partner         Transfer          Unknown  \n",
       "31          NaN             NaN         Adoption    Spayed Female  \n",
       "32          NaN             NaN         Adoption    Spayed Female  \n",
       "33          NaN             NaN         Adoption    Spayed Female  \n",
       "34       Shades          Foster         Adoption    Neutered Male  \n",
       "35          NaN         Partner         Transfer      Intact Male  \n",
       "36       *Penny             NaN         Adoption    Spayed Female  \n",
       "37       Ginger             NaN         Adoption    Spayed Female  \n",
       "38      Pumpkin       In Kennel             Died    Neutered Male  \n",
       "39        *Josh         Partner         Transfer      Intact Male  "
      ]
     },
     "execution_count": 127,
     "metadata": {},
     "output_type": "execute_result"
    }
   ],
   "source": [
    "df = pd.read_csv('aac_shelter_outcomes.csv')\n",
    "\n",
    "df.head(40)"
   ]
  },
  {
   "cell_type": "markdown",
   "metadata": {},
   "source": [
    "# PREPARE\n",
    "I'm now going to prepare the data for exploration.\n",
    "***"
   ]
  },
  {
   "cell_type": "code",
   "execution_count": 128,
   "metadata": {},
   "outputs": [
    {
     "name": "stdout",
     "output_type": "stream",
     "text": [
      "<class 'pandas.core.frame.DataFrame'>\n",
      "RangeIndex: 78256 entries, 0 to 78255\n",
      "Data columns (total 12 columns):\n",
      " #   Column            Non-Null Count  Dtype \n",
      "---  ------            --------------  ----- \n",
      " 0   age_upon_outcome  78248 non-null  object\n",
      " 1   animal_id         78256 non-null  object\n",
      " 2   animal_type       78256 non-null  object\n",
      " 3   breed             78256 non-null  object\n",
      " 4   color             78256 non-null  object\n",
      " 5   date_of_birth     78256 non-null  object\n",
      " 6   datetime          78256 non-null  object\n",
      " 7   monthyear         78256 non-null  object\n",
      " 8   name              54370 non-null  object\n",
      " 9   outcome_subtype   35963 non-null  object\n",
      " 10  outcome_type      78244 non-null  object\n",
      " 11  sex_upon_outcome  78254 non-null  object\n",
      "dtypes: object(12)\n",
      "memory usage: 7.2+ MB\n"
     ]
    }
   ],
   "source": [
    "df.info()"
   ]
  },
  {
   "cell_type": "markdown",
   "metadata": {},
   "source": [
    "After reviewing the data and my goals for this project, I'll need to make the following changes:\n",
    "- Drop the following columns\n",
    "    - animal_id\n",
    "        - Unique id's won't be useful in predicting outcomes\n",
    "    - breed\n",
    "        - Highly variable, categorical column. \n",
    "        - At a later time I'd like to bin these values and explore them for statistical signifigance\n",
    "    - color\n",
    "        - Highly variable, categorical column. \n",
    "        - At a later time I'd like to bin these values and explore them for statistical signifigance\n",
    "    - date_of_birth\n",
    "        - Since I have the age of each animal at the time of outcome, I won't need to calculate their age using this variable\n",
    "    - datetime, monthyear\n",
    "        - Duplicate columns that presumably reflect when a record was entered and are thus not useful for predicting outcomes\n",
    "    - outcome_subtype\n",
    "        - Gives details about outcome (example: why was an animal euthanised?)\n",
    "        - May prove useful but appears to only be known when the outcome is known (example: (outcome_subtype partner) (outcome_type: transfer) could only be known when an animal is set for transfer to a partner)\n",
    "        - The value of this project is to create a model that will predict if an animal will be adopted, so outcome_subtype probably wouldn't be set until outcome is set, so I'm going to drop it for now\n",
    "    - Any columns that are split into categorical columns and no longer needed\n",
    "- Rename columns to better reflect the data they represent\n",
    "- Convert age_upon_outcome to discrete value representing weeks\n",
    "- Convert animal type to categorical columns\n",
    "    - is_cat\n",
    "    - is_dog\n",
    "- Transform outcome_type to binary categorical column 'adopted' ( 1 = yes, 2 = no)\n",
    "- Split sex_upon_outcome into categorical columns for neutered/spaded and sex\n",
    "    - is_neutered_or_spaded\n",
    "    - is_male\n",
    "    - is_female\n",
    "    - sex_unknown\n",
    "- Drop null values\n",
    "    - Very few nulls so dropping won't have a meaningful impact"
   ]
  },
  {
   "cell_type": "markdown",
   "metadata": {},
   "source": [
    "### Dropping columns and nulls"
   ]
  },
  {
   "cell_type": "code",
   "execution_count": 129,
   "metadata": {},
   "outputs": [],
   "source": [
    "df = df[['age_upon_outcome', 'animal_type', 'sex_upon_outcome', 'color', 'outcome_type']]\n",
    "\n",
    "df.dropna(inplace = True)"
   ]
  },
  {
   "cell_type": "markdown",
   "metadata": {},
   "source": [
    "### Binning age data (may remove)"
   ]
  },
  {
   "cell_type": "code",
   "execution_count": 130,
   "metadata": {
    "scrolled": true
   },
   "outputs": [],
   "source": [
    "#df.age_upon_outcome.value_counts(dropna=False)"
   ]
  },
  {
   "cell_type": "markdown",
   "metadata": {},
   "source": [
    "df['age_under_1'] = np.where(\n",
    "    (df.age_upon_outcome.str.contains('week')) | \n",
    "    (df.age_upon_outcome.str.contains('month')) |\n",
    "    (df.age_upon_outcome.str.contains('days')), 1, 0)\n",
    "\n",
    "df['age_between_1_and_2'] = np.where((df.age_upon_outcome.str.contains('1 year')), 1, 0)\n",
    "\n",
    "df['age_2_or_more'] = np.where((df.age_upon_outcome.str.contains('years')), 1, 0)"
   ]
  },
  {
   "cell_type": "markdown",
   "metadata": {},
   "source": [
    "### animal type"
   ]
  },
  {
   "cell_type": "code",
   "execution_count": 131,
   "metadata": {
    "scrolled": true
   },
   "outputs": [
    {
     "data": {
      "text/plain": [
       "Dog          44234\n",
       "Cat          29418\n",
       "Other         4243\n",
       "Bird           333\n",
       "Livestock        9\n",
       "Name: animal_type, dtype: int64"
      ]
     },
     "execution_count": 131,
     "metadata": {},
     "output_type": "execute_result"
    }
   ],
   "source": [
    "df.animal_type.value_counts()"
   ]
  },
  {
   "cell_type": "code",
   "execution_count": 132,
   "metadata": {},
   "outputs": [],
   "source": [
    "# change livestock to other\n",
    "df['animal_type'] = np.where((df.animal_type == 'Livestock'), 'Other', df.animal_type)\n",
    "\n",
    "# dummies\n",
    "df.animal_type = df.animal_type.str.lower()\n",
    "\n",
    "a_type = pd.get_dummies(df.animal_type, prefix = 'is')\n",
    "\n",
    "df = pd.concat([df, a_type], axis = 1)"
   ]
  },
  {
   "cell_type": "markdown",
   "metadata": {},
   "source": [
    "### sex upon outcome"
   ]
  },
  {
   "cell_type": "code",
   "execution_count": 133,
   "metadata": {
    "scrolled": true
   },
   "outputs": [
    {
     "data": {
      "text/plain": [
       "Neutered Male    27782\n",
       "Spayed Female    25203\n",
       "Intact Male       9544\n",
       "Intact Female     9139\n",
       "Unknown           6569\n",
       "Name: sex_upon_outcome, dtype: int64"
      ]
     },
     "execution_count": 133,
     "metadata": {},
     "output_type": "execute_result"
    }
   ],
   "source": [
    "df.sex_upon_outcome.value_counts()"
   ]
  },
  {
   "cell_type": "code",
   "execution_count": 134,
   "metadata": {},
   "outputs": [],
   "source": [
    "df['is_male'] = np.where((df.sex_upon_outcome.str.contains('Male')), 1, 0)\n",
    "df['is_female'] = np.where((df.sex_upon_outcome.str.contains('Female')), 1, 0)\n",
    "df['sex_unknown'] = np.where((df.sex_upon_outcome.str.contains('Unknown')), 1, 0)"
   ]
  },
  {
   "cell_type": "code",
   "execution_count": 135,
   "metadata": {},
   "outputs": [],
   "source": [
    "df['sex'] = np.where((df.sex_upon_outcome.str.contains('Male')), 'Male', 0)\n",
    "df['sex'] = np.where((df.sex_upon_outcome.str.contains('Female')), 'Female', df.sex)\n",
    "df['sex'] = np.where((df.sex_upon_outcome.str.contains('Unknown')), 'Unknown', df.sex)"
   ]
  },
  {
   "cell_type": "code",
   "execution_count": 136,
   "metadata": {},
   "outputs": [],
   "source": [
    "df['is_neutered_or_spayed'] = np.where(\n",
    "    (df.sex_upon_outcome.str.contains('Neutered')) |\n",
    "    (df.sex_upon_outcome.str.contains('Spayed')), 1, 0)"
   ]
  },
  {
   "cell_type": "markdown",
   "metadata": {},
   "source": [
    "### outcome_type (target variable)"
   ]
  },
  {
   "cell_type": "code",
   "execution_count": 137,
   "metadata": {},
   "outputs": [
    {
     "data": {
      "text/plain": [
       "Adoption           33112\n",
       "Transfer           23497\n",
       "Return to Owner    14353\n",
       "Euthanasia          6076\n",
       "Died                 680\n",
       "Disposal             307\n",
       "Rto-Adopt            150\n",
       "Missing               46\n",
       "Relocate              16\n",
       "Name: outcome_type, dtype: int64"
      ]
     },
     "execution_count": 137,
     "metadata": {},
     "output_type": "execute_result"
    }
   ],
   "source": [
    "df.outcome_type.value_counts()"
   ]
  },
  {
   "cell_type": "code",
   "execution_count": 138,
   "metadata": {},
   "outputs": [],
   "source": [
    "df['is_adopted'] = np.where((df.outcome_type.str.contains('Adopt')), 1, 0)"
   ]
  },
  {
   "cell_type": "markdown",
   "metadata": {},
   "source": [
    "### Alternate age column"
   ]
  },
  {
   "cell_type": "code",
   "execution_count": 139,
   "metadata": {
    "scrolled": true
   },
   "outputs": [],
   "source": [
    "age_split = df.age_upon_outcome.str.split(expand=True)\n",
    "\n",
    "age_split.columns = (['num', 'period'])\n",
    "\n",
    "age_split.num = pd.to_numeric(age_split.num)\n",
    "\n",
    "age_split['age_in_weeks'] = np.where((age_split.period.str.contains('day')), 1, 0)\n",
    "age_split['age_in_weeks'] = np.where((age_split.period.str.contains('week')), age_split.num, age_split.age_in_weeks)\n",
    "age_split['age_in_weeks'] = np.where((age_split.period.str.contains('month')), age_split.num * 4, age_split.age_in_weeks)\n",
    "age_split['age_in_weeks'] = np.where((age_split.period.str.contains('year')), age_split.num * 52, age_split.age_in_weeks)\n",
    "\n",
    "df = pd.concat([df, age_split['age_in_weeks']], axis = 1)"
   ]
  },
  {
   "cell_type": "code",
   "execution_count": 140,
   "metadata": {},
   "outputs": [
    {
     "data": {
      "text/plain": [
       "Index(['age_upon_outcome', 'animal_type', 'sex_upon_outcome', 'color',\n",
       "       'outcome_type', 'is_bird', 'is_cat', 'is_dog', 'is_other', 'is_male',\n",
       "       'is_female', 'sex_unknown', 'sex', 'is_neutered_or_spayed',\n",
       "       'is_adopted', 'age_in_weeks'],\n",
       "      dtype='object')"
      ]
     },
     "execution_count": 140,
     "metadata": {},
     "output_type": "execute_result"
    }
   ],
   "source": [
    "df.columns"
   ]
  },
  {
   "cell_type": "markdown",
   "metadata": {},
   "source": [
    "### Copy original df, split copy, drop old columns"
   ]
  },
  {
   "cell_type": "code",
   "execution_count": 141,
   "metadata": {},
   "outputs": [],
   "source": [
    "df = df[['animal_type', 'is_bird', 'is_cat', 'is_dog', 'is_other', 'sex', 'is_male',\n",
    "       'is_female', 'sex_unknown', 'is_neutered_or_spayed', 'age_in_weeks', 'is_adopted']]"
   ]
  },
  {
   "cell_type": "code",
   "execution_count": 142,
   "metadata": {},
   "outputs": [],
   "source": [
    "def split_data(df):\n",
    "    \"\"\"\n",
    "    Accepts DF. Returns data split into 3 dataframes: train, validate, and test.\n",
    "    \"\"\"\n",
    "    # splitting data\n",
    "    train_validate, test = train_test_split(df, test_size=.2, random_state=123)\n",
    "    train, validate = train_test_split(train_validate, test_size=.3, random_state=123)\n",
    "    \n",
    "    # return split data frames\n",
    "    return train, validate, test\n"
   ]
  },
  {
   "cell_type": "code",
   "execution_count": 143,
   "metadata": {},
   "outputs": [],
   "source": [
    "train, validate, test = split_data(df)"
   ]
  },
  {
   "cell_type": "markdown",
   "metadata": {},
   "source": [
    "# Explore\n",
    "I'm now going to explore the data to identify drivers of adoption.\n",
    "***"
   ]
  },
  {
   "cell_type": "markdown",
   "metadata": {},
   "source": [
    "## animal type"
   ]
  },
  {
   "cell_type": "code",
   "execution_count": 156,
   "metadata": {},
   "outputs": [
    {
     "data": {
      "text/html": [
       "<div>\n",
       "<style scoped>\n",
       "    .dataframe tbody tr th:only-of-type {\n",
       "        vertical-align: middle;\n",
       "    }\n",
       "\n",
       "    .dataframe tbody tr th {\n",
       "        vertical-align: top;\n",
       "    }\n",
       "\n",
       "    .dataframe thead th {\n",
       "        text-align: right;\n",
       "    }\n",
       "</style>\n",
       "<table border=\"1\" class=\"dataframe\">\n",
       "  <thead>\n",
       "    <tr style=\"text-align: right;\">\n",
       "      <th>is_adopted</th>\n",
       "      <th>0</th>\n",
       "      <th>1</th>\n",
       "    </tr>\n",
       "    <tr>\n",
       "      <th>animal_type</th>\n",
       "      <th></th>\n",
       "      <th></th>\n",
       "    </tr>\n",
       "  </thead>\n",
       "  <tbody>\n",
       "    <tr>\n",
       "      <th>bird</th>\n",
       "      <td>119</td>\n",
       "      <td>52</td>\n",
       "    </tr>\n",
       "    <tr>\n",
       "      <th>cat</th>\n",
       "      <td>9331</td>\n",
       "      <td>7114</td>\n",
       "    </tr>\n",
       "    <tr>\n",
       "      <th>dog</th>\n",
       "      <td>13467</td>\n",
       "      <td>11381</td>\n",
       "    </tr>\n",
       "    <tr>\n",
       "      <th>other</th>\n",
       "      <td>2235</td>\n",
       "      <td>113</td>\n",
       "    </tr>\n",
       "  </tbody>\n",
       "</table>\n",
       "</div>"
      ],
      "text/plain": [
       "is_adopted       0      1\n",
       "animal_type              \n",
       "bird           119     52\n",
       "cat           9331   7114\n",
       "dog          13467  11381\n",
       "other         2235    113"
      ]
     },
     "execution_count": 156,
     "metadata": {},
     "output_type": "execute_result"
    }
   ],
   "source": [
    "observed_atype = pd.crosstab(train.animal_type, train.is_adopted)\n",
    "\n",
    "observed_atype "
   ]
  },
  {
   "cell_type": "code",
   "execution_count": 158,
   "metadata": {},
   "outputs": [
    {
     "data": {
      "text/plain": [
       "<matplotlib.axes._subplots.AxesSubplot at 0x7ff355a0e910>"
      ]
     },
     "execution_count": 158,
     "metadata": {},
     "output_type": "execute_result"
    },
    {
     "data": {
      "image/png": "[encoded data removed]",
      "text/plain": [
       "<Figure size 1152x360 with 2 Axes>"
      ]
     },
     "metadata": {
      "needs_background": "light"
     },
     "output_type": "display_data"
    }
   ],
   "source": [
    "plt.figure(figsize = (16,5))\n",
    "sns.heatmap(observed_atype, annot=True)"
   ]
  },
  {
   "cell_type": "code",
   "execution_count": 145,
   "metadata": {
    "scrolled": true
   },
   "outputs": [
    {
     "name": "stdout",
     "output_type": "stream",
     "text": [
      "chi^2 = 1488.7177\n",
      "p     = 0.0000\n"
     ]
    }
   ],
   "source": [
    "chi2, p, degf, expected = stats.chi2_contingency(observed_atype)\n",
    "\n",
    "print(f'chi^2 = {chi2:.4f}')\n",
    "print(f'p     = {p:.4f}')"
   ]
  },
  {
   "cell_type": "markdown",
   "metadata": {},
   "source": [
    "## sex"
   ]
  },
  {
   "cell_type": "code",
   "execution_count": 146,
   "metadata": {},
   "outputs": [
    {
     "data": {
      "text/html": [
       "<div>\n",
       "<style scoped>\n",
       "    .dataframe tbody tr th:only-of-type {\n",
       "        vertical-align: middle;\n",
       "    }\n",
       "\n",
       "    .dataframe tbody tr th {\n",
       "        vertical-align: top;\n",
       "    }\n",
       "\n",
       "    .dataframe thead th {\n",
       "        text-align: right;\n",
       "    }\n",
       "</style>\n",
       "<table border=\"1\" class=\"dataframe\">\n",
       "  <thead>\n",
       "    <tr style=\"text-align: right;\">\n",
       "      <th>is_adopted</th>\n",
       "      <th>0</th>\n",
       "      <th>1</th>\n",
       "    </tr>\n",
       "    <tr>\n",
       "      <th>sex</th>\n",
       "      <th></th>\n",
       "      <th></th>\n",
       "    </tr>\n",
       "  </thead>\n",
       "  <tbody>\n",
       "    <tr>\n",
       "      <th>Female</th>\n",
       "      <td>9889</td>\n",
       "      <td>9329</td>\n",
       "    </tr>\n",
       "    <tr>\n",
       "      <th>Male</th>\n",
       "      <td>11670</td>\n",
       "      <td>9301</td>\n",
       "    </tr>\n",
       "    <tr>\n",
       "      <th>Unknown</th>\n",
       "      <td>3593</td>\n",
       "      <td>30</td>\n",
       "    </tr>\n",
       "  </tbody>\n",
       "</table>\n",
       "</div>"
      ],
      "text/plain": [
       "is_adopted      0     1\n",
       "sex                    \n",
       "Female       9889  9329\n",
       "Male        11670  9301\n",
       "Unknown      3593    30"
      ]
     },
     "execution_count": 146,
     "metadata": {},
     "output_type": "execute_result"
    }
   ],
   "source": [
    "observed_sex = pd.crosstab(train.sex, train.is_adopted)\n",
    "\n",
    "observed_sex"
   ]
  },
  {
   "cell_type": "code",
   "execution_count": 147,
   "metadata": {
    "scrolled": true
   },
   "outputs": [
    {
     "name": "stdout",
     "output_type": "stream",
     "text": [
      "chi^2 = 2889.3938\n",
      "p     = 0.0000\n"
     ]
    }
   ],
   "source": [
    "chi2, p, degf, expected = stats.chi2_contingency(observed_sex)\n",
    "\n",
    "print(f'chi^2 = {chi2:.4f}')\n",
    "print(f'p     = {p:.4f}')"
   ]
  },
  {
   "cell_type": "markdown",
   "metadata": {},
   "source": [
    "## neutered or spayed"
   ]
  },
  {
   "cell_type": "code",
   "execution_count": 230,
   "metadata": {
    "scrolled": true
   },
   "outputs": [
    {
     "data": {
      "text/html": [
       "<div>\n",
       "<style scoped>\n",
       "    .dataframe tbody tr th:only-of-type {\n",
       "        vertical-align: middle;\n",
       "    }\n",
       "\n",
       "    .dataframe tbody tr th {\n",
       "        vertical-align: top;\n",
       "    }\n",
       "\n",
       "    .dataframe thead th {\n",
       "        text-align: right;\n",
       "    }\n",
       "</style>\n",
       "<table border=\"1\" class=\"dataframe\">\n",
       "  <thead>\n",
       "    <tr style=\"text-align: right;\">\n",
       "      <th>is_adopted</th>\n",
       "      <th>0</th>\n",
       "      <th>1</th>\n",
       "    </tr>\n",
       "    <tr>\n",
       "      <th>is_neutered_or_spayed</th>\n",
       "      <th></th>\n",
       "      <th></th>\n",
       "    </tr>\n",
       "  </thead>\n",
       "  <tbody>\n",
       "    <tr>\n",
       "      <th>0</th>\n",
       "      <td>13276</td>\n",
       "      <td>842</td>\n",
       "    </tr>\n",
       "    <tr>\n",
       "      <th>1</th>\n",
       "      <td>11876</td>\n",
       "      <td>17818</td>\n",
       "    </tr>\n",
       "  </tbody>\n",
       "</table>\n",
       "</div>"
      ],
      "text/plain": [
       "is_adopted                 0      1\n",
       "is_neutered_or_spayed              \n",
       "0                      13276    842\n",
       "1                      11876  17818"
      ]
     },
     "execution_count": 230,
     "metadata": {},
     "output_type": "execute_result"
    }
   ],
   "source": [
    "observed_nors = pd.crosstab(train.is_neutered_or_spayed, train.is_adopted)\n",
    "\n",
    "observed_nors"
   ]
  },
  {
   "cell_type": "code",
   "execution_count": 231,
   "metadata": {},
   "outputs": [
    {
     "data": {
      "text/plain": [
       "<matplotlib.legend.Legend at 0x7ff34b85fe10>"
      ]
     },
     "execution_count": 231,
     "metadata": {},
     "output_type": "execute_result"
    },
    {
     "data": {
      "image/png": "[encoded data removed]",
      "text/plain": [
       "<Figure size 864x432 with 1 Axes>"
      ]
     },
     "metadata": {},
     "output_type": "display_data"
    }
   ],
   "source": [
    "observed_nors.index = ['Not Neutered or Spayed', 'Neutered or Spayed']\n",
    "observed_nors.columns = ['Not Adopted', 'Adopted']\n",
    "\n",
    "nors_plot = observed_nors / 1000\n",
    "\n",
    "nors_plot.plot.bar(stacked=True, rot=0)\n",
    "\n",
    "plt.ylabel('Number of Animals (Thousands)')\n",
    "plt.title('Majority of Adopted Animals are Neutered or Spayed')\n",
    "plt.legend(bbox_to_anchor=(1,1))"
   ]
  },
  {
   "cell_type": "code",
   "execution_count": 192,
   "metadata": {},
   "outputs": [
    {
     "name": "stdout",
     "output_type": "stream",
     "text": [
      "chi^2 = 11426.6656\n",
      "p     = 0.0000\n"
     ]
    }
   ],
   "source": [
    "chi2, p, degf, expected = stats.chi2_contingency(observed_nors)\n",
    "\n",
    "print(f'chi^2 = {chi2:.4f}')\n",
    "print(f'p     = {p:.4f}')"
   ]
  },
  {
   "cell_type": "markdown",
   "metadata": {},
   "source": [
    "## age in weeks"
   ]
  },
  {
   "cell_type": "code",
   "execution_count": 185,
   "metadata": {},
   "outputs": [
    {
     "data": {
      "text/plain": [
       "(array([1.2771e+04, 3.3260e+03, 1.0670e+03, 6.0500e+02, 2.9900e+02,\n",
       "        3.4200e+02, 1.5100e+02, 6.8000e+01, 2.6000e+01, 5.0000e+00]),\n",
       " array([  0. ,  93.6, 187.2, 280.8, 374.4, 468. , 561.6, 655.2, 748.8,\n",
       "        842.4, 936. ]),\n",
       " <a list of 10 Patch objects>)"
      ]
     },
     "execution_count": 185,
     "metadata": {},
     "output_type": "execute_result"
    },
    {
     "data": {
      "image/png": "[encoded data removed]",
      "text/plain": [
       "<Figure size 864x432 with 1 Axes>"
      ]
     },
     "metadata": {},
     "output_type": "display_data"
    }
   ],
   "source": [
    "# setting figure and text size\n",
    "adopted = train[train.is_adopted == 1]\n",
    "adopted\n",
    "plt.hist(adopted.age_in_weeks)"
   ]
  },
  {
   "cell_type": "code",
   "execution_count": 168,
   "metadata": {},
   "outputs": [
    {
     "name": "stdout",
     "output_type": "stream",
     "text": [
      "alpha = .05\n",
      "\n",
      "p = 1.7634740875777462e-182\n",
      "t =  -28.919521980419926\n"
     ]
    }
   ],
   "source": [
    "# x1 = df of animals who are younger than average\n",
    "# x2 = df of animals who are average age or older\n",
    "x1 = train[train.is_adopted == 1].age_in_weeks\n",
    "x2 = train[train.is_adopted == 0].age_in_weeks\n",
    "\n",
    "# performing 2 tailed, 2 sample t-test\n",
    "t, p = stats.ttest_ind(x1, x2)\n",
    "\n",
    "# printing results\n",
    "print(f'alpha = .05\\n')\n",
    "print (f'p = {p/2}')\n",
    "print (f't = ',t)"
   ]
  },
  {
   "cell_type": "code",
   "execution_count": 170,
   "metadata": {},
   "outputs": [
    {
     "name": "stdout",
     "output_type": "stream",
     "text": [
      "reject null hypo\n",
      "the average age of adopted animals is significantly less than those who are note adopted\n"
     ]
    }
   ],
   "source": [
    "print('reject null hypo')\n",
    "print('the average age of adopted animals is significantly less than those who are note adopted')"
   ]
  },
  {
   "cell_type": "markdown",
   "metadata": {},
   "source": [
    "# Model\n",
    "I'll now create several models that will predict whether an animal was adopted based on it's various features.\n",
    "***"
   ]
  },
  {
   "cell_type": "markdown",
   "metadata": {},
   "source": [
    "## Baseline"
   ]
  },
  {
   "cell_type": "code",
   "execution_count": 64,
   "metadata": {},
   "outputs": [
    {
     "data": {
      "text/plain": [
       "0    25152\n",
       "1    18660\n",
       "Name: is_adopted, dtype: int64"
      ]
     },
     "execution_count": 64,
     "metadata": {},
     "output_type": "execute_result"
    }
   ],
   "source": [
    "train.is_adopted.value_counts()"
   ]
  },
  {
   "cell_type": "code",
   "execution_count": 65,
   "metadata": {},
   "outputs": [],
   "source": [
    "train['baseline_pred'] = 0"
   ]
  },
  {
   "cell_type": "code",
   "execution_count": 66,
   "metadata": {},
   "outputs": [
    {
     "name": "stdout",
     "output_type": "stream",
     "text": [
      "              precision    recall  f1-score   support\n",
      "\n",
      "           0       0.57      1.00      0.73     25152\n",
      "           1       0.00      0.00      0.00     18660\n",
      "\n",
      "    accuracy                           0.57     43812\n",
      "   macro avg       0.29      0.50      0.36     43812\n",
      "weighted avg       0.33      0.57      0.42     43812\n",
      "\n"
     ]
    }
   ],
   "source": [
    "# printing performance metrics\n",
    "print(classification_report(train.is_adopted, train.baseline_pred))"
   ]
  },
  {
   "cell_type": "markdown",
   "metadata": {},
   "source": [
    "# TRAIN"
   ]
  },
  {
   "cell_type": "markdown",
   "metadata": {},
   "source": [
    "## M1"
   ]
  },
  {
   "cell_type": "code",
   "execution_count": 67,
   "metadata": {
    "scrolled": true
   },
   "outputs": [
    {
     "name": "stdout",
     "output_type": "stream",
     "text": [
      "              precision    recall  f1-score   support\n",
      "\n",
      "           0       0.85      0.68      0.76     25152\n",
      "           1       0.66      0.84      0.74     18660\n",
      "\n",
      "    accuracy                           0.75     43812\n",
      "   macro avg       0.76      0.76      0.75     43812\n",
      "weighted avg       0.77      0.75      0.75     43812\n",
      "\n"
     ]
    }
   ],
   "source": [
    "# setting target variable\n",
    "y_train = train['is_adopted']\n",
    "\n",
    "# setting feature for model\n",
    "X_train_m1 = train[['is_bird', 'age_in_weeks',\n",
    "       'is_cat', 'is_dog', 'is_other', 'is_male', 'is_female', 'sex_unknown',\n",
    "       'is_neutered_or_spayed']]\n",
    "\n",
    "# creating logistic regression object\n",
    "lr_m1 = LogisticRegression(random_state=123)\n",
    "\n",
    "# fitting model to data\n",
    "lr_m1.fit(X_train_m1, y_train)\n",
    "\n",
    "# creating column with model predictions\n",
    "train['m1_prediction'] = lr_m1.predict(X_train_m1)\n",
    "\n",
    "# printing performance metrics\n",
    "print(classification_report(train.is_adopted, train.m1_prediction))"
   ]
  },
  {
   "cell_type": "markdown",
   "metadata": {},
   "source": [
    "# VALIDATE"
   ]
  },
  {
   "cell_type": "code",
   "execution_count": 69,
   "metadata": {},
   "outputs": [
    {
     "name": "stdout",
     "output_type": "stream",
     "text": [
      "              precision    recall  f1-score   support\n",
      "\n",
      "           0       0.85      0.68      0.76     10815\n",
      "           1       0.66      0.84      0.74      7962\n",
      "\n",
      "    accuracy                           0.75     18777\n",
      "   macro avg       0.76      0.76      0.75     18777\n",
      "weighted avg       0.77      0.75      0.75     18777\n",
      "\n"
     ]
    }
   ],
   "source": [
    "# setting target variable\n",
    "y_val = validate['is_adopted']\n",
    "\n",
    "# setting feature for model\n",
    "X_val_m1 = validate[['is_bird', 'age_in_weeks',\n",
    "       'is_cat', 'is_dog', 'is_other', 'is_male', 'is_female', 'sex_unknown',\n",
    "       'is_neutered_or_spayed']]\n",
    "\n",
    "# creating column with model predictions\n",
    "validate['m1_prediction'] = lr_m1.predict(X_val_m1)\n",
    "\n",
    "# printing performance metrics\n",
    "print(classification_report(validate.is_adopted, validate.m1_prediction))"
   ]
  },
  {
   "cell_type": "markdown",
   "metadata": {},
   "source": [
    "# TEST"
   ]
  },
  {
   "cell_type": "code",
   "execution_count": 70,
   "metadata": {},
   "outputs": [
    {
     "name": "stdout",
     "output_type": "stream",
     "text": [
      "              precision    recall  f1-score   support\n",
      "\n",
      "           0       0.86      0.68      0.76      9008\n",
      "           1       0.66      0.84      0.74      6640\n",
      "\n",
      "    accuracy                           0.75     15648\n",
      "   macro avg       0.76      0.76      0.75     15648\n",
      "weighted avg       0.77      0.75      0.75     15648\n",
      "\n"
     ]
    }
   ],
   "source": [
    "# setting target variable\n",
    "y_test = test['is_adopted']\n",
    "\n",
    "# setting feature for model\n",
    "X_test_m1 = test[['is_bird', 'age_in_weeks',\n",
    "       'is_cat', 'is_dog', 'is_other', 'is_male', 'is_female', 'sex_unknown',\n",
    "       'is_neutered_or_spayed']]\n",
    "\n",
    "# creating column with model predictions\n",
    "test['m1_prediction'] = lr_m1.predict(X_test_m1)\n",
    "\n",
    "# printing performance metrics\n",
    "print(classification_report(test.is_adopted, test.m1_prediction))"
   ]
  },
  {
   "cell_type": "code",
   "execution_count": null,
   "metadata": {},
   "outputs": [],
   "source": []
  },
  {
   "cell_type": "code",
   "execution_count": 173,
   "metadata": {},
   "outputs": [
    {
     "data": {
      "text/html": [
       "<div>\n",
       "<style scoped>\n",
       "    .dataframe tbody tr th:only-of-type {\n",
       "        vertical-align: middle;\n",
       "    }\n",
       "\n",
       "    .dataframe tbody tr th {\n",
       "        vertical-align: top;\n",
       "    }\n",
       "\n",
       "    .dataframe thead th {\n",
       "        text-align: right;\n",
       "    }\n",
       "</style>\n",
       "<table border=\"1\" class=\"dataframe\">\n",
       "  <thead>\n",
       "    <tr style=\"text-align: right;\">\n",
       "      <th></th>\n",
       "      <th>animal_type</th>\n",
       "      <th>is_bird</th>\n",
       "      <th>is_cat</th>\n",
       "      <th>is_dog</th>\n",
       "      <th>is_other</th>\n",
       "      <th>sex</th>\n",
       "      <th>is_male</th>\n",
       "      <th>is_female</th>\n",
       "      <th>sex_unknown</th>\n",
       "      <th>is_neutered_or_spayed</th>\n",
       "      <th>age_in_weeks</th>\n",
       "      <th>is_adopted</th>\n",
       "    </tr>\n",
       "  </thead>\n",
       "  <tbody>\n",
       "    <tr>\n",
       "      <th>11259</th>\n",
       "      <td>cat</td>\n",
       "      <td>0</td>\n",
       "      <td>1</td>\n",
       "      <td>0</td>\n",
       "      <td>0</td>\n",
       "      <td>Male</td>\n",
       "      <td>1</td>\n",
       "      <td>0</td>\n",
       "      <td>0</td>\n",
       "      <td>1</td>\n",
       "      <td>312</td>\n",
       "      <td>0</td>\n",
       "    </tr>\n",
       "    <tr>\n",
       "      <th>6981</th>\n",
       "      <td>cat</td>\n",
       "      <td>0</td>\n",
       "      <td>1</td>\n",
       "      <td>0</td>\n",
       "      <td>0</td>\n",
       "      <td>Male</td>\n",
       "      <td>1</td>\n",
       "      <td>0</td>\n",
       "      <td>0</td>\n",
       "      <td>0</td>\n",
       "      <td>104</td>\n",
       "      <td>0</td>\n",
       "    </tr>\n",
       "    <tr>\n",
       "      <th>17670</th>\n",
       "      <td>dog</td>\n",
       "      <td>0</td>\n",
       "      <td>0</td>\n",
       "      <td>1</td>\n",
       "      <td>0</td>\n",
       "      <td>Male</td>\n",
       "      <td>1</td>\n",
       "      <td>0</td>\n",
       "      <td>0</td>\n",
       "      <td>1</td>\n",
       "      <td>28</td>\n",
       "      <td>1</td>\n",
       "    </tr>\n",
       "    <tr>\n",
       "      <th>65805</th>\n",
       "      <td>cat</td>\n",
       "      <td>0</td>\n",
       "      <td>1</td>\n",
       "      <td>0</td>\n",
       "      <td>0</td>\n",
       "      <td>Male</td>\n",
       "      <td>1</td>\n",
       "      <td>0</td>\n",
       "      <td>0</td>\n",
       "      <td>1</td>\n",
       "      <td>12</td>\n",
       "      <td>1</td>\n",
       "    </tr>\n",
       "    <tr>\n",
       "      <th>36724</th>\n",
       "      <td>dog</td>\n",
       "      <td>0</td>\n",
       "      <td>0</td>\n",
       "      <td>1</td>\n",
       "      <td>0</td>\n",
       "      <td>Male</td>\n",
       "      <td>1</td>\n",
       "      <td>0</td>\n",
       "      <td>0</td>\n",
       "      <td>1</td>\n",
       "      <td>20</td>\n",
       "      <td>1</td>\n",
       "    </tr>\n",
       "    <tr>\n",
       "      <th>...</th>\n",
       "      <td>...</td>\n",
       "      <td>...</td>\n",
       "      <td>...</td>\n",
       "      <td>...</td>\n",
       "      <td>...</td>\n",
       "      <td>...</td>\n",
       "      <td>...</td>\n",
       "      <td>...</td>\n",
       "      <td>...</td>\n",
       "      <td>...</td>\n",
       "      <td>...</td>\n",
       "      <td>...</td>\n",
       "    </tr>\n",
       "    <tr>\n",
       "      <th>14541</th>\n",
       "      <td>cat</td>\n",
       "      <td>0</td>\n",
       "      <td>1</td>\n",
       "      <td>0</td>\n",
       "      <td>0</td>\n",
       "      <td>Female</td>\n",
       "      <td>0</td>\n",
       "      <td>1</td>\n",
       "      <td>0</td>\n",
       "      <td>1</td>\n",
       "      <td>12</td>\n",
       "      <td>1</td>\n",
       "    </tr>\n",
       "    <tr>\n",
       "      <th>1414</th>\n",
       "      <td>dog</td>\n",
       "      <td>0</td>\n",
       "      <td>0</td>\n",
       "      <td>1</td>\n",
       "      <td>0</td>\n",
       "      <td>Male</td>\n",
       "      <td>1</td>\n",
       "      <td>0</td>\n",
       "      <td>0</td>\n",
       "      <td>1</td>\n",
       "      <td>156</td>\n",
       "      <td>0</td>\n",
       "    </tr>\n",
       "    <tr>\n",
       "      <th>36476</th>\n",
       "      <td>cat</td>\n",
       "      <td>0</td>\n",
       "      <td>1</td>\n",
       "      <td>0</td>\n",
       "      <td>0</td>\n",
       "      <td>Female</td>\n",
       "      <td>0</td>\n",
       "      <td>1</td>\n",
       "      <td>0</td>\n",
       "      <td>1</td>\n",
       "      <td>8</td>\n",
       "      <td>1</td>\n",
       "    </tr>\n",
       "    <tr>\n",
       "      <th>14120</th>\n",
       "      <td>dog</td>\n",
       "      <td>0</td>\n",
       "      <td>0</td>\n",
       "      <td>1</td>\n",
       "      <td>0</td>\n",
       "      <td>Male</td>\n",
       "      <td>1</td>\n",
       "      <td>0</td>\n",
       "      <td>0</td>\n",
       "      <td>1</td>\n",
       "      <td>52</td>\n",
       "      <td>0</td>\n",
       "    </tr>\n",
       "    <tr>\n",
       "      <th>526</th>\n",
       "      <td>dog</td>\n",
       "      <td>0</td>\n",
       "      <td>0</td>\n",
       "      <td>1</td>\n",
       "      <td>0</td>\n",
       "      <td>Female</td>\n",
       "      <td>0</td>\n",
       "      <td>1</td>\n",
       "      <td>0</td>\n",
       "      <td>1</td>\n",
       "      <td>416</td>\n",
       "      <td>0</td>\n",
       "    </tr>\n",
       "  </tbody>\n",
       "</table>\n",
       "<p>43812 rows × 12 columns</p>\n",
       "</div>"
      ],
      "text/plain": [
       "      animal_type  is_bird  is_cat  is_dog  is_other     sex  is_male  \\\n",
       "11259         cat        0       1       0         0    Male        1   \n",
       "6981          cat        0       1       0         0    Male        1   \n",
       "17670         dog        0       0       1         0    Male        1   \n",
       "65805         cat        0       1       0         0    Male        1   \n",
       "36724         dog        0       0       1         0    Male        1   \n",
       "...           ...      ...     ...     ...       ...     ...      ...   \n",
       "14541         cat        0       1       0         0  Female        0   \n",
       "1414          dog        0       0       1         0    Male        1   \n",
       "36476         cat        0       1       0         0  Female        0   \n",
       "14120         dog        0       0       1         0    Male        1   \n",
       "526           dog        0       0       1         0  Female        0   \n",
       "\n",
       "       is_female  sex_unknown  is_neutered_or_spayed  age_in_weeks  is_adopted  \n",
       "11259          0            0                      1           312           0  \n",
       "6981           0            0                      0           104           0  \n",
       "17670          0            0                      1            28           1  \n",
       "65805          0            0                      1            12           1  \n",
       "36724          0            0                      1            20           1  \n",
       "...          ...          ...                    ...           ...         ...  \n",
       "14541          1            0                      1            12           1  \n",
       "1414           0            0                      1           156           0  \n",
       "36476          1            0                      1             8           1  \n",
       "14120          0            0                      1            52           0  \n",
       "526            1            0                      1           416           0  \n",
       "\n",
       "[43812 rows x 12 columns]"
      ]
     },
     "execution_count": 173,
     "metadata": {},
     "output_type": "execute_result"
    }
   ],
   "source": [
    "train"
   ]
  },
  {
   "cell_type": "code",
   "execution_count": null,
   "metadata": {},
   "outputs": [],
   "source": []
  }
 ],
 "metadata": {
  "kernelspec": {
   "display_name": "Python 3",
   "language": "python",
   "name": "python3"
  },
  "language_info": {
   "codemirror_mode": {
    "name": "ipython",
    "version": 3
   },
   "file_extension": ".py",
   "mimetype": "text/x-python",
   "name": "python",
   "nbconvert_exporter": "python",
   "pygments_lexer": "ipython3",
   "version": "3.7.6"
  }
 },
 "nbformat": 4,
 "nbformat_minor": 4
}
