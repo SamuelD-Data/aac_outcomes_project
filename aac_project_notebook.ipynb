{
 "cells": [
  {
   "cell_type": "code",
   "execution_count": 26,
   "metadata": {},
   "outputs": [],
   "source": [
    "import pandas as pd\n",
    "import numpy as np\n",
    "\n",
    "import warnings\n",
    "warnings.filterwarnings(\"ignore\")\n",
    "\n",
    "from sklearn.model_selection import train_test_split\n",
    "from sklearn.metrics import classification_report\n",
    "from sklearn.linear_model import LogisticRegression"
   ]
  },
  {
   "cell_type": "markdown",
   "metadata": {},
   "source": [
    "# ACQUIRE\n",
    "I'll begin by acquiring the data from a local CSV file."
   ]
  },
  {
   "cell_type": "code",
   "execution_count": 2,
   "metadata": {
    "scrolled": true
   },
   "outputs": [
    {
     "data": {
      "text/html": [
       "<div>\n",
       "<style scoped>\n",
       "    .dataframe tbody tr th:only-of-type {\n",
       "        vertical-align: middle;\n",
       "    }\n",
       "\n",
       "    .dataframe tbody tr th {\n",
       "        vertical-align: top;\n",
       "    }\n",
       "\n",
       "    .dataframe thead th {\n",
       "        text-align: right;\n",
       "    }\n",
       "</style>\n",
       "<table border=\"1\" class=\"dataframe\">\n",
       "  <thead>\n",
       "    <tr style=\"text-align: right;\">\n",
       "      <th></th>\n",
       "      <th>age_upon_outcome</th>\n",
       "      <th>animal_id</th>\n",
       "      <th>animal_type</th>\n",
       "      <th>breed</th>\n",
       "      <th>color</th>\n",
       "      <th>date_of_birth</th>\n",
       "      <th>datetime</th>\n",
       "      <th>monthyear</th>\n",
       "      <th>name</th>\n",
       "      <th>outcome_subtype</th>\n",
       "      <th>outcome_type</th>\n",
       "      <th>sex_upon_outcome</th>\n",
       "    </tr>\n",
       "  </thead>\n",
       "  <tbody>\n",
       "    <tr>\n",
       "      <th>0</th>\n",
       "      <td>2 weeks</td>\n",
       "      <td>A684346</td>\n",
       "      <td>Cat</td>\n",
       "      <td>Domestic Shorthair Mix</td>\n",
       "      <td>Orange Tabby</td>\n",
       "      <td>2014-07-07T00:00:00</td>\n",
       "      <td>2014-07-22T16:04:00</td>\n",
       "      <td>2014-07-22T16:04:00</td>\n",
       "      <td>NaN</td>\n",
       "      <td>Partner</td>\n",
       "      <td>Transfer</td>\n",
       "      <td>Intact Male</td>\n",
       "    </tr>\n",
       "    <tr>\n",
       "      <th>1</th>\n",
       "      <td>1 year</td>\n",
       "      <td>A666430</td>\n",
       "      <td>Dog</td>\n",
       "      <td>Beagle Mix</td>\n",
       "      <td>White/Brown</td>\n",
       "      <td>2012-11-06T00:00:00</td>\n",
       "      <td>2013-11-07T11:47:00</td>\n",
       "      <td>2013-11-07T11:47:00</td>\n",
       "      <td>Lucy</td>\n",
       "      <td>Partner</td>\n",
       "      <td>Transfer</td>\n",
       "      <td>Spayed Female</td>\n",
       "    </tr>\n",
       "    <tr>\n",
       "      <th>2</th>\n",
       "      <td>1 year</td>\n",
       "      <td>A675708</td>\n",
       "      <td>Dog</td>\n",
       "      <td>Pit Bull</td>\n",
       "      <td>Blue/White</td>\n",
       "      <td>2013-03-31T00:00:00</td>\n",
       "      <td>2014-06-03T14:20:00</td>\n",
       "      <td>2014-06-03T14:20:00</td>\n",
       "      <td>*Johnny</td>\n",
       "      <td>NaN</td>\n",
       "      <td>Adoption</td>\n",
       "      <td>Neutered Male</td>\n",
       "    </tr>\n",
       "    <tr>\n",
       "      <th>3</th>\n",
       "      <td>9 years</td>\n",
       "      <td>A680386</td>\n",
       "      <td>Dog</td>\n",
       "      <td>Miniature Schnauzer Mix</td>\n",
       "      <td>White</td>\n",
       "      <td>2005-06-02T00:00:00</td>\n",
       "      <td>2014-06-15T15:50:00</td>\n",
       "      <td>2014-06-15T15:50:00</td>\n",
       "      <td>Monday</td>\n",
       "      <td>Partner</td>\n",
       "      <td>Transfer</td>\n",
       "      <td>Neutered Male</td>\n",
       "    </tr>\n",
       "    <tr>\n",
       "      <th>4</th>\n",
       "      <td>5 months</td>\n",
       "      <td>A683115</td>\n",
       "      <td>Other</td>\n",
       "      <td>Bat Mix</td>\n",
       "      <td>Brown</td>\n",
       "      <td>2014-01-07T00:00:00</td>\n",
       "      <td>2014-07-07T14:04:00</td>\n",
       "      <td>2014-07-07T14:04:00</td>\n",
       "      <td>NaN</td>\n",
       "      <td>Rabies Risk</td>\n",
       "      <td>Euthanasia</td>\n",
       "      <td>Unknown</td>\n",
       "    </tr>\n",
       "  </tbody>\n",
       "</table>\n",
       "</div>"
      ],
      "text/plain": [
       "  age_upon_outcome animal_id animal_type                    breed  \\\n",
       "0          2 weeks   A684346         Cat   Domestic Shorthair Mix   \n",
       "1           1 year   A666430         Dog               Beagle Mix   \n",
       "2           1 year   A675708         Dog                 Pit Bull   \n",
       "3          9 years   A680386         Dog  Miniature Schnauzer Mix   \n",
       "4         5 months   A683115       Other                  Bat Mix   \n",
       "\n",
       "          color        date_of_birth             datetime  \\\n",
       "0  Orange Tabby  2014-07-07T00:00:00  2014-07-22T16:04:00   \n",
       "1   White/Brown  2012-11-06T00:00:00  2013-11-07T11:47:00   \n",
       "2    Blue/White  2013-03-31T00:00:00  2014-06-03T14:20:00   \n",
       "3         White  2005-06-02T00:00:00  2014-06-15T15:50:00   \n",
       "4         Brown  2014-01-07T00:00:00  2014-07-07T14:04:00   \n",
       "\n",
       "             monthyear     name outcome_subtype outcome_type sex_upon_outcome  \n",
       "0  2014-07-22T16:04:00      NaN         Partner     Transfer      Intact Male  \n",
       "1  2013-11-07T11:47:00     Lucy         Partner     Transfer    Spayed Female  \n",
       "2  2014-06-03T14:20:00  *Johnny             NaN     Adoption    Neutered Male  \n",
       "3  2014-06-15T15:50:00   Monday         Partner     Transfer    Neutered Male  \n",
       "4  2014-07-07T14:04:00      NaN     Rabies Risk   Euthanasia          Unknown  "
      ]
     },
     "execution_count": 2,
     "metadata": {},
     "output_type": "execute_result"
    }
   ],
   "source": [
    "df = pd.read_csv('aac_shelter_outcomes.csv')\n",
    "\n",
    "df.head()"
   ]
  },
  {
   "cell_type": "markdown",
   "metadata": {},
   "source": [
    "# PREPARE\n",
    "I'm now going to prepare the data for exploration.\n",
    "***"
   ]
  },
  {
   "cell_type": "code",
   "execution_count": 3,
   "metadata": {},
   "outputs": [
    {
     "name": "stdout",
     "output_type": "stream",
     "text": [
      "<class 'pandas.core.frame.DataFrame'>\n",
      "RangeIndex: 78256 entries, 0 to 78255\n",
      "Data columns (total 12 columns):\n",
      " #   Column            Non-Null Count  Dtype \n",
      "---  ------            --------------  ----- \n",
      " 0   age_upon_outcome  78248 non-null  object\n",
      " 1   animal_id         78256 non-null  object\n",
      " 2   animal_type       78256 non-null  object\n",
      " 3   breed             78256 non-null  object\n",
      " 4   color             78256 non-null  object\n",
      " 5   date_of_birth     78256 non-null  object\n",
      " 6   datetime          78256 non-null  object\n",
      " 7   monthyear         78256 non-null  object\n",
      " 8   name              54370 non-null  object\n",
      " 9   outcome_subtype   35963 non-null  object\n",
      " 10  outcome_type      78244 non-null  object\n",
      " 11  sex_upon_outcome  78254 non-null  object\n",
      "dtypes: object(12)\n",
      "memory usage: 7.2+ MB\n"
     ]
    }
   ],
   "source": [
    "df.info()"
   ]
  },
  {
   "cell_type": "markdown",
   "metadata": {},
   "source": [
    "After reviewing the data and my goals for this project, I'll need to make the following changes:\n",
    "- Drop the following columns\n",
    "    - animal_id\n",
    "        - Unique id's won't be useful in predicting outcomes\n",
    "    - breed\n",
    "        - Highly variable, categorical column. \n",
    "        - At a later time I'd like to bin these values and explore them for statistical signifigance\n",
    "    - color\n",
    "        - Highly variable, categorical column. \n",
    "        - At a later time I'd like to bin these values and explore them for statistical signifigance\n",
    "    - date_of_birth\n",
    "        - Since I have the age of each animal at the time of outcome, I won't need to calculate their age using this variable\n",
    "    - datetime, monthyear\n",
    "        - Duplicate columns that presumably reflect when a record was entered and are thus not useful for predicting outcomes\n",
    "    - outcome_subtype\n",
    "        - Gives details about outcome (example: why was an animal euthanised?)\n",
    "        - May prove useful but appears to only be known when the outcome is known (example: (outcome_subtype partner) (outcome_type: transfer) could only be known when an animal is set for transfer to a partner)\n",
    "        - The value of this project is to create a model that will predict if an animal will be adopted, so outcome_subtype probably wouldn't be set until outcome is set, so I'm going to drop it for now\n",
    "    - Any columns that are split into categorical columns and no longer needed\n",
    "- Rename columns to better reflect the data they represent\n",
    "- Bin age_upon_outcome into categorical columns \n",
    "    - < 1 year\n",
    "    - 1-2 years old\n",
    "    - 2 or more yrs old\n",
    "- Convert animal type to categorical columns\n",
    "    - is_cat\n",
    "    - is_dog\n",
    "- Transform outcome_type to binary categorical column 'adopted' ( 1 = yes, 2 = no)\n",
    "- Split sex_upon_outcome into categorical columns for neutered/spaded and sex\n",
    "    - is_neutered_or_spaded\n",
    "    - is_male\n",
    "    - is_female\n",
    "    - sex_unknown\n",
    "- Drop null values\n",
    "    - Very few nulls so dropping won't have a meaningful impact"
   ]
  },
  {
   "cell_type": "markdown",
   "metadata": {},
   "source": [
    "### Dropping columns and nulls"
   ]
  },
  {
   "cell_type": "code",
   "execution_count": 4,
   "metadata": {},
   "outputs": [],
   "source": [
    "df = df[['age_upon_outcome', 'animal_type', 'sex_upon_outcome', 'outcome_type']]\n",
    "\n",
    "df.dropna(inplace = True)"
   ]
  },
  {
   "cell_type": "markdown",
   "metadata": {},
   "source": [
    "### Binning age data"
   ]
  },
  {
   "cell_type": "code",
   "execution_count": 5,
   "metadata": {
    "scrolled": true
   },
   "outputs": [
    {
     "data": {
      "text/plain": [
       "1 year       14352\n",
       "2 years      11194\n",
       "2 months      9213\n",
       "3 years       5157\n",
       "3 months      3442\n",
       "1 month       3341\n",
       "4 years       2990\n",
       "5 years       2691\n",
       "4 months      2425\n",
       "5 months      1951\n",
       "6 months      1897\n",
       "6 years       1810\n",
       "8 years       1554\n",
       "7 years       1536\n",
       "3 weeks       1467\n",
       "2 weeks       1330\n",
       "10 months     1203\n",
       "4 weeks       1193\n",
       "8 months      1178\n",
       "10 years      1158\n",
       "7 months       963\n",
       "9 years        822\n",
       "9 months       673\n",
       "12 years       609\n",
       "1 weeks        513\n",
       "11 months      490\n",
       "11 years       429\n",
       "1 week         427\n",
       "13 years       389\n",
       "14 years       253\n",
       "3 days         235\n",
       "2 days         217\n",
       "15 years       208\n",
       "1 day          153\n",
       "6 days         152\n",
       "4 days         136\n",
       "5 days         116\n",
       "16 years       101\n",
       "0 years         94\n",
       "5 weeks         61\n",
       "17 years        58\n",
       "18 years        26\n",
       "19 years        13\n",
       "20 years        12\n",
       "22 years         4\n",
       "25 years         1\n",
       "Name: age_upon_outcome, dtype: int64"
      ]
     },
     "execution_count": 5,
     "metadata": {},
     "output_type": "execute_result"
    }
   ],
   "source": [
    "df.age_upon_outcome.value_counts(dropna=False)"
   ]
  },
  {
   "cell_type": "code",
   "execution_count": 6,
   "metadata": {
    "scrolled": false
   },
   "outputs": [],
   "source": [
    "df['age_under_1'] = np.where(\n",
    "    (df.age_upon_outcome.str.contains('week')) | \n",
    "    (df.age_upon_outcome.str.contains('month')) |\n",
    "    (df.age_upon_outcome.str.contains('days')), 1, 0)\n",
    "\n",
    "df['age_between_1_and_2'] = np.where((df.age_upon_outcome.str.contains('1 year')), 1, 0)\n",
    "\n",
    "df['age_2_or_more'] = np.where((df.age_upon_outcome.str.contains('years')), 1, 0)"
   ]
  },
  {
   "cell_type": "markdown",
   "metadata": {},
   "source": [
    "### animal type"
   ]
  },
  {
   "cell_type": "code",
   "execution_count": 7,
   "metadata": {
    "scrolled": true
   },
   "outputs": [
    {
     "data": {
      "text/plain": [
       "Dog          44234\n",
       "Cat          29418\n",
       "Other         4243\n",
       "Bird           333\n",
       "Livestock        9\n",
       "Name: animal_type, dtype: int64"
      ]
     },
     "execution_count": 7,
     "metadata": {},
     "output_type": "execute_result"
    }
   ],
   "source": [
    "df.animal_type.value_counts()"
   ]
  },
  {
   "cell_type": "code",
   "execution_count": 8,
   "metadata": {},
   "outputs": [],
   "source": [
    "# change livestock to other\n",
    "df['animal_type'] = np.where((df.animal_type == 'Livestock'), 'Other', df.animal_type)\n",
    "\n",
    "# dummies\n",
    "df.animal_type = df.animal_type.str.lower()\n",
    "\n",
    "a_type = pd.get_dummies(df.animal_type, prefix = 'is')\n",
    "\n",
    "df = pd.concat([df, a_type], axis = 1)"
   ]
  },
  {
   "cell_type": "markdown",
   "metadata": {},
   "source": [
    "### sex upon outcome"
   ]
  },
  {
   "cell_type": "code",
   "execution_count": 9,
   "metadata": {
    "scrolled": true
   },
   "outputs": [
    {
     "data": {
      "text/plain": [
       "Neutered Male    27782\n",
       "Spayed Female    25203\n",
       "Intact Male       9544\n",
       "Intact Female     9139\n",
       "Unknown           6569\n",
       "Name: sex_upon_outcome, dtype: int64"
      ]
     },
     "execution_count": 9,
     "metadata": {},
     "output_type": "execute_result"
    }
   ],
   "source": [
    "df.sex_upon_outcome.value_counts()"
   ]
  },
  {
   "cell_type": "code",
   "execution_count": 10,
   "metadata": {},
   "outputs": [],
   "source": [
    "df['is_male'] = np.where((df.sex_upon_outcome.str.contains('Male')), 1, 0)\n",
    "df['is_female'] = np.where((df.sex_upon_outcome.str.contains('Female')), 1, 0)\n",
    "df['sex_unknown'] = np.where((df.sex_upon_outcome.str.contains('Unknown')), 1, 0)\n"
   ]
  },
  {
   "cell_type": "code",
   "execution_count": 11,
   "metadata": {},
   "outputs": [],
   "source": [
    "df['is_neutered_or_spayed'] = np.where(\n",
    "    (df.sex_upon_outcome.str.contains('Neutered')) |\n",
    "    (df.sex_upon_outcome.str.contains('Spayed')), 1, 0)"
   ]
  },
  {
   "cell_type": "markdown",
   "metadata": {},
   "source": [
    "### outcome_type (target variable)"
   ]
  },
  {
   "cell_type": "code",
   "execution_count": 12,
   "metadata": {},
   "outputs": [
    {
     "data": {
      "text/plain": [
       "Adoption           33112\n",
       "Transfer           23497\n",
       "Return to Owner    14353\n",
       "Euthanasia          6076\n",
       "Died                 680\n",
       "Disposal             307\n",
       "Rto-Adopt            150\n",
       "Missing               46\n",
       "Relocate              16\n",
       "Name: outcome_type, dtype: int64"
      ]
     },
     "execution_count": 12,
     "metadata": {},
     "output_type": "execute_result"
    }
   ],
   "source": [
    "df.outcome_type.value_counts()"
   ]
  },
  {
   "cell_type": "code",
   "execution_count": 13,
   "metadata": {},
   "outputs": [],
   "source": [
    "df['adopted'] = np.where((df.outcome_type.str.contains('Adopt')), 1, 0)"
   ]
  },
  {
   "cell_type": "code",
   "execution_count": null,
   "metadata": {},
   "outputs": [],
   "source": [
    "alternate age c"
   ]
  },
  {
   "cell_type": "markdown",
   "metadata": {},
   "source": [
    "### Copy original df, split copy, drop old columns"
   ]
  },
  {
   "cell_type": "code",
   "execution_count": 14,
   "metadata": {},
   "outputs": [],
   "source": [
    "dfp = df.copy()"
   ]
  },
  {
   "cell_type": "code",
   "execution_count": 15,
   "metadata": {},
   "outputs": [],
   "source": [
    "dfp = dfp[['age_under_1', 'age_between_1_and_2', 'age_2_or_more', 'is_bird',\n",
    "       'is_cat', 'is_dog', 'is_other', 'is_male', 'is_female', 'sex_unknown',\n",
    "       'is_neutered_or_spayed', 'adopted']]"
   ]
  },
  {
   "cell_type": "code",
   "execution_count": 18,
   "metadata": {},
   "outputs": [],
   "source": [
    "def split_data(df):\n",
    "    \"\"\"\n",
    "    Accepts DF. Returns data split into 3 dataframes: train, validate, and test.\n",
    "    \"\"\"\n",
    "    # splitting data\n",
    "    train_validate, test = train_test_split(df, test_size=.2, random_state=123)\n",
    "    train, validate = train_test_split(train_validate, test_size=.3, random_state=123)\n",
    "    \n",
    "    # return split data frames\n",
    "    return train, validate, test\n"
   ]
  },
  {
   "cell_type": "code",
   "execution_count": 19,
   "metadata": {},
   "outputs": [],
   "source": [
    "train, validate, test = split_data(dfp)"
   ]
  },
  {
   "cell_type": "markdown",
   "metadata": {},
   "source": [
    "# Explore"
   ]
  },
  {
   "cell_type": "code",
   "execution_count": null,
   "metadata": {},
   "outputs": [],
   "source": []
  },
  {
   "cell_type": "code",
   "execution_count": null,
   "metadata": {},
   "outputs": [],
   "source": []
  },
  {
   "cell_type": "code",
   "execution_count": null,
   "metadata": {},
   "outputs": [],
   "source": []
  },
  {
   "cell_type": "code",
   "execution_count": null,
   "metadata": {},
   "outputs": [],
   "source": []
  },
  {
   "cell_type": "code",
   "execution_count": null,
   "metadata": {},
   "outputs": [],
   "source": []
  },
  {
   "cell_type": "markdown",
   "metadata": {},
   "source": [
    "# Model\n",
    "I'll now create several models that will predict whether an animal was adopted based on it's various features.\n",
    "***"
   ]
  },
  {
   "cell_type": "markdown",
   "metadata": {},
   "source": [
    "## Baseline"
   ]
  },
  {
   "cell_type": "code",
   "execution_count": 28,
   "metadata": {},
   "outputs": [
    {
     "data": {
      "text/plain": [
       "0    25152\n",
       "1    18660\n",
       "Name: adopted, dtype: int64"
      ]
     },
     "execution_count": 28,
     "metadata": {},
     "output_type": "execute_result"
    }
   ],
   "source": [
    "train.adopted.value_counts()"
   ]
  },
  {
   "cell_type": "code",
   "execution_count": 29,
   "metadata": {},
   "outputs": [],
   "source": [
    "train['baseline_pred'] = 0"
   ]
  },
  {
   "cell_type": "code",
   "execution_count": 30,
   "metadata": {},
   "outputs": [
    {
     "name": "stdout",
     "output_type": "stream",
     "text": [
      "              precision    recall  f1-score   support\n",
      "\n",
      "           0       0.57      1.00      0.73     25152\n",
      "           1       0.00      0.00      0.00     18660\n",
      "\n",
      "    accuracy                           0.57     43812\n",
      "   macro avg       0.29      0.50      0.36     43812\n",
      "weighted avg       0.33      0.57      0.42     43812\n",
      "\n"
     ]
    }
   ],
   "source": [
    "# printing performance metrics\n",
    "print(classification_report(train.adopted, train.baseline_pred))"
   ]
  },
  {
   "cell_type": "markdown",
   "metadata": {},
   "source": [
    "# TRAIN"
   ]
  },
  {
   "cell_type": "markdown",
   "metadata": {},
   "source": [
    "## M1"
   ]
  },
  {
   "cell_type": "code",
   "execution_count": 32,
   "metadata": {
    "scrolled": true
   },
   "outputs": [
    {
     "name": "stdout",
     "output_type": "stream",
     "text": [
      "              precision    recall  f1-score   support\n",
      "\n",
      "           0       0.76      0.84      0.80     25152\n",
      "           1       0.75      0.65      0.70     18660\n",
      "\n",
      "    accuracy                           0.76     43812\n",
      "   macro avg       0.76      0.74      0.75     43812\n",
      "weighted avg       0.76      0.76      0.76     43812\n",
      "\n"
     ]
    }
   ],
   "source": [
    "# setting target variable\n",
    "y_train = train['adopted']\n",
    "\n",
    "# setting feature for model\n",
    "X_train_m1 = train[['age_under_1', 'age_between_1_and_2', 'age_2_or_more', 'is_bird',\n",
    "       'is_cat', 'is_dog', 'is_other', 'is_male', 'is_female', 'sex_unknown',\n",
    "       'is_neutered_or_spayed']]\n",
    "\n",
    "# creating logistic regression object\n",
    "lr_m1 = LogisticRegression(random_state=123)\n",
    "\n",
    "# fitting model to data\n",
    "lr_m1.fit(X_train_m1, y_train)\n",
    "\n",
    "# creating column with model predictions\n",
    "train['m1_prediction'] = lr_m1.predict(X_train_m1)\n",
    "\n",
    "# printing performance metrics\n",
    "print(classification_report(train.adopted, train.m1_prediction))"
   ]
  },
  {
   "cell_type": "code",
   "execution_count": 31,
   "metadata": {},
   "outputs": [
    {
     "data": {
      "text/plain": [
       "Index(['age_under_1', 'age_between_1_and_2', 'age_2_or_more', 'is_bird',\n",
       "       'is_cat', 'is_dog', 'is_other', 'is_male', 'is_female', 'sex_unknown',\n",
       "       'is_neutered_or_spayed', 'adopted', 'baseline_pred'],\n",
       "      dtype='object')"
      ]
     },
     "execution_count": 31,
     "metadata": {},
     "output_type": "execute_result"
    }
   ],
   "source": [
    "train.columns"
   ]
  },
  {
   "cell_type": "markdown",
   "metadata": {},
   "source": [
    "# VALIDATE"
   ]
  },
  {
   "cell_type": "code",
   "execution_count": 34,
   "metadata": {},
   "outputs": [
    {
     "name": "stdout",
     "output_type": "stream",
     "text": [
      "              precision    recall  f1-score   support\n",
      "\n",
      "           0       0.76      0.84      0.80     10815\n",
      "           1       0.75      0.65      0.69      7962\n",
      "\n",
      "    accuracy                           0.76     18777\n",
      "   macro avg       0.76      0.74      0.75     18777\n",
      "weighted avg       0.76      0.76      0.75     18777\n",
      "\n"
     ]
    }
   ],
   "source": [
    "# setting target variable\n",
    "y_val = validate['adopted']\n",
    "\n",
    "# setting feature for model\n",
    "X_val_m1 = validate[['age_under_1', 'age_between_1_and_2', 'age_2_or_more', 'is_bird',\n",
    "       'is_cat', 'is_dog', 'is_other', 'is_male', 'is_female', 'sex_unknown',\n",
    "       'is_neutered_or_spayed']]\n",
    "\n",
    "# creating column with model predictions\n",
    "validate['m1_prediction'] = lr_m1.predict(X_val_m1)\n",
    "\n",
    "# printing performance metrics\n",
    "print(classification_report(validate.adopted, validate.m1_prediction))"
   ]
  },
  {
   "cell_type": "markdown",
   "metadata": {},
   "source": [
    "# TEST"
   ]
  },
  {
   "cell_type": "code",
   "execution_count": 35,
   "metadata": {},
   "outputs": [
    {
     "name": "stdout",
     "output_type": "stream",
     "text": [
      "              precision    recall  f1-score   support\n",
      "\n",
      "           0       0.76      0.84      0.80      9008\n",
      "           1       0.75      0.64      0.69      6640\n",
      "\n",
      "    accuracy                           0.76     15648\n",
      "   macro avg       0.76      0.74      0.75     15648\n",
      "weighted avg       0.76      0.76      0.76     15648\n",
      "\n"
     ]
    }
   ],
   "source": [
    "# setting target variable\n",
    "y_test = test['adopted']\n",
    "\n",
    "# setting feature for model\n",
    "X_test_m1 = test[['age_under_1', 'age_between_1_and_2', 'age_2_or_more', 'is_bird',\n",
    "       'is_cat', 'is_dog', 'is_other', 'is_male', 'is_female', 'sex_unknown',\n",
    "       'is_neutered_or_spayed']]\n",
    "\n",
    "# creating column with model predictions\n",
    "test['m1_prediction'] = lr_m1.predict(X_test_m1)\n",
    "\n",
    "# printing performance metrics\n",
    "print(classification_report(test.adopted, test.m1_prediction))"
   ]
  },
  {
   "cell_type": "code",
   "execution_count": null,
   "metadata": {},
   "outputs": [],
   "source": []
  }
 ],
 "metadata": {
  "kernelspec": {
   "display_name": "Python 3",
   "language": "python",
   "name": "python3"
  },
  "language_info": {
   "codemirror_mode": {
    "name": "ipython",
    "version": 3
   },
   "file_extension": ".py",
   "mimetype": "text/x-python",
   "name": "python",
   "nbconvert_exporter": "python",
   "pygments_lexer": "ipython3",
   "version": "3.7.6"
  }
 },
 "nbformat": 4,
 "nbformat_minor": 4
}
