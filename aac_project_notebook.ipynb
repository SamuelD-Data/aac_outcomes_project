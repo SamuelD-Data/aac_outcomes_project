{
 "cells": [
  {
   "cell_type": "markdown",
   "metadata": {},
   "source": [
    "# Predicting Cat and Dog Adoptions at the AAC (Austin Animal Center)\n",
    "***\n",
    "***"
   ]
  },
  {
   "cell_type": "markdown",
   "metadata": {},
   "source": [
    "# Goals <a id='goals'></a>\n",
    "***"
   ]
  },
  {
   "cell_type": "markdown",
   "metadata": {},
   "source": [
    "This project has 2 goals:\n",
    "- Identify variables that drive adoption \n",
    "- Create a model that predicts cat and dog adoptions at the AAC\n",
    "\n",
    "I will also deliver the following: \n",
    "- aac_project_notebook.ipynb\n",
    "    - This notebook which provides a start-to-finish walkthrough of the project\n",
    "- README.md\n",
    "    - A markdown file that provides various information about this project including a data dictionary, project plan, and a link to the source data\n",
    "- wrangle.py\n",
    "    - A file that contains all of the custom functions featured in this notebook\n",
    "- A presentation of the project\n",
    "    - A 3-5 minute presentation that summarizes the findings of this project (link to presentation slides below)\n",
    "        - https://docs.google.com/presentation/d/1KTZ6N8kW-pXHV-GPKc_N_vQAmfRyqcuD25e6xDMk4mo/edit?usp=sharing"
   ]
  },
  {
   "cell_type": "code",
   "execution_count": 1,
   "metadata": {},
   "outputs": [],
   "source": [
    "# establishing environment\n",
    "import sklearn\n",
    "\n",
    "import pandas as pd\n",
    "import numpy as np\n",
    "import matplotlib.pyplot as plt\n",
    "import seaborn as sns\n",
    "import scipy.stats as stats\n",
    "\n",
    "import warnings\n",
    "warnings.filterwarnings(\"ignore\")\n",
    "\n",
    "from sklearn.metrics import classification_report\n",
    "from sklearn.linear_model import LogisticRegression\n",
    "from sklearn.tree import DecisionTreeClassifier\n",
    "from sklearn.ensemble import RandomForestClassifier\n",
    "from sklearn.neighbors import KNeighborsClassifier\n",
    "from wrangle import get_aac, prep_aac, wrangle_aac"
   ]
  },
  {
   "cell_type": "markdown",
   "metadata": {},
   "source": [
    "# Acquire<a id='acquire'></a>\n",
    "I'll begin by acquiring the data from a local CSV file. The data I'm using can be accessed via a link in the README file of this repository.\n",
    "***"
   ]
  },
  {
   "cell_type": "code",
   "execution_count": 2,
   "metadata": {
    "scrolled": true
   },
   "outputs": [
    {
     "data": {
      "text/html": [
       "<div>\n",
       "<style scoped>\n",
       "    .dataframe tbody tr th:only-of-type {\n",
       "        vertical-align: middle;\n",
       "    }\n",
       "\n",
       "    .dataframe tbody tr th {\n",
       "        vertical-align: top;\n",
       "    }\n",
       "\n",
       "    .dataframe thead th {\n",
       "        text-align: right;\n",
       "    }\n",
       "</style>\n",
       "<table border=\"1\" class=\"dataframe\">\n",
       "  <thead>\n",
       "    <tr style=\"text-align: right;\">\n",
       "      <th></th>\n",
       "      <th>age_upon_outcome</th>\n",
       "      <th>animal_id_outcome</th>\n",
       "      <th>date_of_birth</th>\n",
       "      <th>outcome_subtype</th>\n",
       "      <th>outcome_type</th>\n",
       "      <th>sex_upon_outcome</th>\n",
       "      <th>age_upon_outcome_(days)</th>\n",
       "      <th>age_upon_outcome_(years)</th>\n",
       "      <th>age_upon_outcome_age_group</th>\n",
       "      <th>outcome_datetime</th>\n",
       "      <th>...</th>\n",
       "      <th>age_upon_intake_age_group</th>\n",
       "      <th>intake_datetime</th>\n",
       "      <th>intake_month</th>\n",
       "      <th>intake_year</th>\n",
       "      <th>intake_monthyear</th>\n",
       "      <th>intake_weekday</th>\n",
       "      <th>intake_hour</th>\n",
       "      <th>intake_number</th>\n",
       "      <th>time_in_shelter</th>\n",
       "      <th>time_in_shelter_days</th>\n",
       "    </tr>\n",
       "  </thead>\n",
       "  <tbody>\n",
       "    <tr>\n",
       "      <th>0</th>\n",
       "      <td>10 years</td>\n",
       "      <td>A006100</td>\n",
       "      <td>2007-07-09 00:00:00</td>\n",
       "      <td>NaN</td>\n",
       "      <td>Return to Owner</td>\n",
       "      <td>Neutered Male</td>\n",
       "      <td>3650</td>\n",
       "      <td>10.0</td>\n",
       "      <td>(7.5, 10.0]</td>\n",
       "      <td>2017-12-07 14:07:00</td>\n",
       "      <td>...</td>\n",
       "      <td>(7.5, 10.0]</td>\n",
       "      <td>2017-12-07 00:00:00</td>\n",
       "      <td>12</td>\n",
       "      <td>2017</td>\n",
       "      <td>2017-12</td>\n",
       "      <td>Thursday</td>\n",
       "      <td>14</td>\n",
       "      <td>1.0</td>\n",
       "      <td>0 days 14:07:00.000000000</td>\n",
       "      <td>0.588194</td>\n",
       "    </tr>\n",
       "    <tr>\n",
       "      <th>1</th>\n",
       "      <td>7 years</td>\n",
       "      <td>A006100</td>\n",
       "      <td>2007-07-09 00:00:00</td>\n",
       "      <td>NaN</td>\n",
       "      <td>Return to Owner</td>\n",
       "      <td>Neutered Male</td>\n",
       "      <td>2555</td>\n",
       "      <td>7.0</td>\n",
       "      <td>(5.0, 7.5]</td>\n",
       "      <td>2014-12-20 16:35:00</td>\n",
       "      <td>...</td>\n",
       "      <td>(5.0, 7.5]</td>\n",
       "      <td>2014-12-19 10:21:00</td>\n",
       "      <td>12</td>\n",
       "      <td>2014</td>\n",
       "      <td>2014-12</td>\n",
       "      <td>Friday</td>\n",
       "      <td>10</td>\n",
       "      <td>2.0</td>\n",
       "      <td>1 days 06:14:00.000000000</td>\n",
       "      <td>1.259722</td>\n",
       "    </tr>\n",
       "    <tr>\n",
       "      <th>2</th>\n",
       "      <td>6 years</td>\n",
       "      <td>A006100</td>\n",
       "      <td>2007-07-09 00:00:00</td>\n",
       "      <td>NaN</td>\n",
       "      <td>Return to Owner</td>\n",
       "      <td>Neutered Male</td>\n",
       "      <td>2190</td>\n",
       "      <td>6.0</td>\n",
       "      <td>(5.0, 7.5]</td>\n",
       "      <td>2014-03-08 17:10:00</td>\n",
       "      <td>...</td>\n",
       "      <td>(5.0, 7.5]</td>\n",
       "      <td>2014-03-07 14:26:00</td>\n",
       "      <td>3</td>\n",
       "      <td>2014</td>\n",
       "      <td>2014-03</td>\n",
       "      <td>Friday</td>\n",
       "      <td>14</td>\n",
       "      <td>3.0</td>\n",
       "      <td>1 days 02:44:00.000000000</td>\n",
       "      <td>1.113889</td>\n",
       "    </tr>\n",
       "    <tr>\n",
       "      <th>3</th>\n",
       "      <td>10 years</td>\n",
       "      <td>A047759</td>\n",
       "      <td>2004-04-02 00:00:00</td>\n",
       "      <td>Partner</td>\n",
       "      <td>Transfer</td>\n",
       "      <td>Neutered Male</td>\n",
       "      <td>3650</td>\n",
       "      <td>10.0</td>\n",
       "      <td>(7.5, 10.0]</td>\n",
       "      <td>2014-04-07 15:12:00</td>\n",
       "      <td>...</td>\n",
       "      <td>(7.5, 10.0]</td>\n",
       "      <td>2014-04-02 15:55:00</td>\n",
       "      <td>4</td>\n",
       "      <td>2014</td>\n",
       "      <td>2014-04</td>\n",
       "      <td>Wednesday</td>\n",
       "      <td>15</td>\n",
       "      <td>1.0</td>\n",
       "      <td>4 days 23:17:00.000000000</td>\n",
       "      <td>4.970139</td>\n",
       "    </tr>\n",
       "    <tr>\n",
       "      <th>4</th>\n",
       "      <td>16 years</td>\n",
       "      <td>A134067</td>\n",
       "      <td>1997-10-16 00:00:00</td>\n",
       "      <td>NaN</td>\n",
       "      <td>Return to Owner</td>\n",
       "      <td>Neutered Male</td>\n",
       "      <td>5840</td>\n",
       "      <td>16.0</td>\n",
       "      <td>(15.0, 17.5]</td>\n",
       "      <td>2013-11-16 11:54:00</td>\n",
       "      <td>...</td>\n",
       "      <td>(15.0, 17.5]</td>\n",
       "      <td>2013-11-16 09:02:00</td>\n",
       "      <td>11</td>\n",
       "      <td>2013</td>\n",
       "      <td>2013-11</td>\n",
       "      <td>Saturday</td>\n",
       "      <td>9</td>\n",
       "      <td>1.0</td>\n",
       "      <td>0 days 02:52:00.000000000</td>\n",
       "      <td>0.119444</td>\n",
       "    </tr>\n",
       "  </tbody>\n",
       "</table>\n",
       "<p>5 rows × 41 columns</p>\n",
       "</div>"
      ],
      "text/plain": [
       "  age_upon_outcome animal_id_outcome        date_of_birth outcome_subtype  \\\n",
       "0         10 years           A006100  2007-07-09 00:00:00             NaN   \n",
       "1          7 years           A006100  2007-07-09 00:00:00             NaN   \n",
       "2          6 years           A006100  2007-07-09 00:00:00             NaN   \n",
       "3         10 years           A047759  2004-04-02 00:00:00         Partner   \n",
       "4         16 years           A134067  1997-10-16 00:00:00             NaN   \n",
       "\n",
       "      outcome_type sex_upon_outcome  age_upon_outcome_(days)  \\\n",
       "0  Return to Owner    Neutered Male                     3650   \n",
       "1  Return to Owner    Neutered Male                     2555   \n",
       "2  Return to Owner    Neutered Male                     2190   \n",
       "3         Transfer    Neutered Male                     3650   \n",
       "4  Return to Owner    Neutered Male                     5840   \n",
       "\n",
       "   age_upon_outcome_(years) age_upon_outcome_age_group     outcome_datetime  \\\n",
       "0                      10.0                (7.5, 10.0]  2017-12-07 14:07:00   \n",
       "1                       7.0                 (5.0, 7.5]  2014-12-20 16:35:00   \n",
       "2                       6.0                 (5.0, 7.5]  2014-03-08 17:10:00   \n",
       "3                      10.0                (7.5, 10.0]  2014-04-07 15:12:00   \n",
       "4                      16.0               (15.0, 17.5]  2013-11-16 11:54:00   \n",
       "\n",
       "   ...  age_upon_intake_age_group      intake_datetime intake_month  \\\n",
       "0  ...                (7.5, 10.0]  2017-12-07 00:00:00           12   \n",
       "1  ...                 (5.0, 7.5]  2014-12-19 10:21:00           12   \n",
       "2  ...                 (5.0, 7.5]  2014-03-07 14:26:00            3   \n",
       "3  ...                (7.5, 10.0]  2014-04-02 15:55:00            4   \n",
       "4  ...               (15.0, 17.5]  2013-11-16 09:02:00           11   \n",
       "\n",
       "  intake_year  intake_monthyear  intake_weekday  intake_hour  intake_number  \\\n",
       "0        2017           2017-12        Thursday           14            1.0   \n",
       "1        2014           2014-12          Friday           10            2.0   \n",
       "2        2014           2014-03          Friday           14            3.0   \n",
       "3        2014           2014-04       Wednesday           15            1.0   \n",
       "4        2013           2013-11        Saturday            9            1.0   \n",
       "\n",
       "             time_in_shelter time_in_shelter_days  \n",
       "0  0 days 14:07:00.000000000             0.588194  \n",
       "1  1 days 06:14:00.000000000             1.259722  \n",
       "2  1 days 02:44:00.000000000             1.113889  \n",
       "3  4 days 23:17:00.000000000             4.970139  \n",
       "4  0 days 02:52:00.000000000             0.119444  \n",
       "\n",
       "[5 rows x 41 columns]"
      ]
     },
     "execution_count": 2,
     "metadata": {},
     "output_type": "execute_result"
    }
   ],
   "source": [
    "# reading data in as DF\n",
    "df = get_aac()\n",
    "\n",
    "# previewing data\n",
    "df.head()"
   ]
  },
  {
   "cell_type": "markdown",
   "metadata": {},
   "source": [
    "### Acquire Takeaways\n",
    "- Acquired data from local csv file using pandas __read_csv__ function\n",
    "- Data can also be acquired via the __wrangle_aac__ function in the __wrangle.py__ file\n",
    "    - Note that the __wrangle_aac__ function will also prep the data for exploration"
   ]
  },
  {
   "cell_type": "markdown",
   "metadata": {},
   "source": [
    "# Prepare<a id='prepare'></a>\n",
    "I'm now going to prepare the data for exploration.\n",
    "***"
   ]
  },
  {
   "cell_type": "markdown",
   "metadata": {},
   "source": [
    "### Checking data for null value counts and data types"
   ]
  },
  {
   "cell_type": "code",
   "execution_count": 3,
   "metadata": {},
   "outputs": [
    {
     "name": "stdout",
     "output_type": "stream",
     "text": [
      "<class 'pandas.core.frame.DataFrame'>\n",
      "RangeIndex: 79672 entries, 0 to 79671\n",
      "Data columns (total 41 columns):\n",
      " #   Column                      Non-Null Count  Dtype  \n",
      "---  ------                      --------------  -----  \n",
      " 0   age_upon_outcome            79672 non-null  object \n",
      " 1   animal_id_outcome           79672 non-null  object \n",
      " 2   date_of_birth               79672 non-null  object \n",
      " 3   outcome_subtype             36348 non-null  object \n",
      " 4   outcome_type                79662 non-null  object \n",
      " 5   sex_upon_outcome            79671 non-null  object \n",
      " 6   age_upon_outcome_(days)     79672 non-null  int64  \n",
      " 7   age_upon_outcome_(years)    79672 non-null  float64\n",
      " 8   age_upon_outcome_age_group  79672 non-null  object \n",
      " 9   outcome_datetime            79672 non-null  object \n",
      " 10  outcome_month               79672 non-null  int64  \n",
      " 11  outcome_year                79672 non-null  int64  \n",
      " 12  outcome_monthyear           79672 non-null  object \n",
      " 13  outcome_weekday             79672 non-null  object \n",
      " 14  outcome_hour                79672 non-null  int64  \n",
      " 15  outcome_number              79672 non-null  float64\n",
      " 16  dob_year                    79672 non-null  int64  \n",
      " 17  dob_month                   79672 non-null  int64  \n",
      " 18  dob_monthyear               79672 non-null  object \n",
      " 19  age_upon_intake             79672 non-null  object \n",
      " 20  animal_id_intake            79672 non-null  object \n",
      " 21  animal_type                 79672 non-null  object \n",
      " 22  breed                       79672 non-null  object \n",
      " 23  color                       79672 non-null  object \n",
      " 24  found_location              79672 non-null  object \n",
      " 25  intake_condition            79672 non-null  object \n",
      " 26  intake_type                 79672 non-null  object \n",
      " 27  sex_upon_intake             79671 non-null  object \n",
      " 28  count                       79672 non-null  int64  \n",
      " 29  age_upon_intake_(days)      79672 non-null  int64  \n",
      " 30  age_upon_intake_(years)     79672 non-null  float64\n",
      " 31  age_upon_intake_age_group   79672 non-null  object \n",
      " 32  intake_datetime             79672 non-null  object \n",
      " 33  intake_month                79672 non-null  int64  \n",
      " 34  intake_year                 79672 non-null  int64  \n",
      " 35  intake_monthyear            79672 non-null  object \n",
      " 36  intake_weekday              79672 non-null  object \n",
      " 37  intake_hour                 79672 non-null  int64  \n",
      " 38  intake_number               79672 non-null  float64\n",
      " 39  time_in_shelter             79672 non-null  object \n",
      " 40  time_in_shelter_days        79672 non-null  float64\n",
      "dtypes: float64(5), int64(11), object(25)\n",
      "memory usage: 24.9+ MB\n"
     ]
    }
   ],
   "source": [
    "# previewing data for null value counts and data types\n",
    "df.info()"
   ]
  },
  {
   "cell_type": "markdown",
   "metadata": {},
   "source": [
    "### Prepping Data via prep_aac function"
   ]
  },
  {
   "cell_type": "code",
   "execution_count": 4,
   "metadata": {},
   "outputs": [],
   "source": [
    "# prepping data with changes outlined in prepare takeaway section (below)\n",
    "train, validate, test = prep_aac(df)"
   ]
  },
  {
   "cell_type": "code",
   "execution_count": 5,
   "metadata": {
    "scrolled": false
   },
   "outputs": [
    {
     "data": {
      "text/html": [
       "<div>\n",
       "<style scoped>\n",
       "    .dataframe tbody tr th:only-of-type {\n",
       "        vertical-align: middle;\n",
       "    }\n",
       "\n",
       "    .dataframe tbody tr th {\n",
       "        vertical-align: top;\n",
       "    }\n",
       "\n",
       "    .dataframe thead th {\n",
       "        text-align: right;\n",
       "    }\n",
       "</style>\n",
       "<table border=\"1\" class=\"dataframe\">\n",
       "  <thead>\n",
       "    <tr style=\"text-align: right;\">\n",
       "      <th></th>\n",
       "      <th>perceived_agg_breed</th>\n",
       "      <th>is_cat</th>\n",
       "      <th>is_dog</th>\n",
       "      <th>species</th>\n",
       "      <th>is_male</th>\n",
       "      <th>is_female</th>\n",
       "      <th>gender_unknown</th>\n",
       "      <th>gender</th>\n",
       "      <th>sterilized_income</th>\n",
       "      <th>outcome_subtype</th>\n",
       "      <th>outcome_type</th>\n",
       "      <th>age_group_years</th>\n",
       "      <th>age_outcome_days</th>\n",
       "      <th>age_outcome_days_s</th>\n",
       "      <th>is_adopted</th>\n",
       "    </tr>\n",
       "  </thead>\n",
       "  <tbody>\n",
       "    <tr>\n",
       "      <th>30342</th>\n",
       "      <td>0</td>\n",
       "      <td>0</td>\n",
       "      <td>1</td>\n",
       "      <td>dog</td>\n",
       "      <td>1</td>\n",
       "      <td>0</td>\n",
       "      <td>0</td>\n",
       "      <td>Male</td>\n",
       "      <td>0</td>\n",
       "      <td>Partner</td>\n",
       "      <td>Transfer</td>\n",
       "      <td>b.2-3</td>\n",
       "      <td>730</td>\n",
       "      <td>0.100000</td>\n",
       "      <td>0</td>\n",
       "    </tr>\n",
       "    <tr>\n",
       "      <th>50064</th>\n",
       "      <td>1</td>\n",
       "      <td>0</td>\n",
       "      <td>1</td>\n",
       "      <td>dog</td>\n",
       "      <td>1</td>\n",
       "      <td>0</td>\n",
       "      <td>0</td>\n",
       "      <td>Male</td>\n",
       "      <td>0</td>\n",
       "      <td>Foster</td>\n",
       "      <td>Adoption</td>\n",
       "      <td>a.0-1</td>\n",
       "      <td>365</td>\n",
       "      <td>0.050000</td>\n",
       "      <td>1</td>\n",
       "    </tr>\n",
       "    <tr>\n",
       "      <th>59932</th>\n",
       "      <td>0</td>\n",
       "      <td>1</td>\n",
       "      <td>0</td>\n",
       "      <td>cat</td>\n",
       "      <td>0</td>\n",
       "      <td>0</td>\n",
       "      <td>1</td>\n",
       "      <td>Unknown</td>\n",
       "      <td>0</td>\n",
       "      <td>Partner</td>\n",
       "      <td>Transfer</td>\n",
       "      <td>a.0-1</td>\n",
       "      <td>14</td>\n",
       "      <td>0.001918</td>\n",
       "      <td>0</td>\n",
       "    </tr>\n",
       "    <tr>\n",
       "      <th>62745</th>\n",
       "      <td>1</td>\n",
       "      <td>0</td>\n",
       "      <td>1</td>\n",
       "      <td>dog</td>\n",
       "      <td>1</td>\n",
       "      <td>0</td>\n",
       "      <td>0</td>\n",
       "      <td>Male</td>\n",
       "      <td>0</td>\n",
       "      <td>Partner</td>\n",
       "      <td>Transfer</td>\n",
       "      <td>c.4-5</td>\n",
       "      <td>1825</td>\n",
       "      <td>0.250000</td>\n",
       "      <td>0</td>\n",
       "    </tr>\n",
       "    <tr>\n",
       "      <th>76243</th>\n",
       "      <td>0</td>\n",
       "      <td>1</td>\n",
       "      <td>0</td>\n",
       "      <td>cat</td>\n",
       "      <td>1</td>\n",
       "      <td>0</td>\n",
       "      <td>0</td>\n",
       "      <td>Male</td>\n",
       "      <td>0</td>\n",
       "      <td>In Foster</td>\n",
       "      <td>Died</td>\n",
       "      <td>a.0-1</td>\n",
       "      <td>21</td>\n",
       "      <td>0.002877</td>\n",
       "      <td>0</td>\n",
       "    </tr>\n",
       "  </tbody>\n",
       "</table>\n",
       "</div>"
      ],
      "text/plain": [
       "       perceived_agg_breed  is_cat  is_dog species  is_male  is_female  \\\n",
       "30342                    0       0       1     dog        1          0   \n",
       "50064                    1       0       1     dog        1          0   \n",
       "59932                    0       1       0     cat        0          0   \n",
       "62745                    1       0       1     dog        1          0   \n",
       "76243                    0       1       0     cat        1          0   \n",
       "\n",
       "       gender_unknown   gender  sterilized_income outcome_subtype  \\\n",
       "30342               0     Male                  0         Partner   \n",
       "50064               0     Male                  0          Foster   \n",
       "59932               1  Unknown                  0         Partner   \n",
       "62745               0     Male                  0         Partner   \n",
       "76243               0     Male                  0       In Foster   \n",
       "\n",
       "      outcome_type age_group_years  age_outcome_days  age_outcome_days_s  \\\n",
       "30342     Transfer           b.2-3               730            0.100000   \n",
       "50064     Adoption           a.0-1               365            0.050000   \n",
       "59932     Transfer           a.0-1                14            0.001918   \n",
       "62745     Transfer           c.4-5              1825            0.250000   \n",
       "76243         Died           a.0-1                21            0.002877   \n",
       "\n",
       "       is_adopted  \n",
       "30342           0  \n",
       "50064           1  \n",
       "59932           0  \n",
       "62745           0  \n",
       "76243           0  "
      ]
     },
     "execution_count": 5,
     "metadata": {},
     "output_type": "execute_result"
    }
   ],
   "source": [
    "# previewing train df\n",
    "train.head()"
   ]
  },
  {
   "cell_type": "markdown",
   "metadata": {},
   "source": [
    "### Prepare Takeaways\n",
    "After reviewing the data for this project, I elected to make the following changes by creating a function, __prep_aac__, located in the __wrangle.py file__. \n",
    "\n",
    "Alternatively, the __wrangle_aac__ function from the __wrangle.py file__ can be ran to both acquire and prep the data with a single function.\n",
    "\n",
    "- Dropped columns that will not be used in this iteration of project (to preserve time) but may be explored in future iteration\n",
    "    - animal_id_outcome | animal_id_intake | outcome_number | intake_number\n",
    "        - Could prove useful in allowing me to track animals that visit the AAC multiple times\n",
    "    - outcome_datetime | outcome_month | outcome_year | outcome_monthyear | outcome_weekday | outcome_hour\n",
    "        - Would be interesting to see if there are time periods when adoptions spike / dip\n",
    "    - age_upon_intake_(days) |found_location | intake_condition | intake_type | intake_datetime | time_in_shelter_days\n",
    "        - Do these variables correlate with any other features or outcomes? \n",
    "    - color\n",
    "        - Are some color / animal combinations adopted more often?\n",
    "        \n",
    "      \n",
    "- Dropped columns that were not needed since the value of their information can be derived from other columns\n",
    "    - date_of_birth | age_upon_outcome | age_upon_outcome_(years) | age_upon_outcome_age_group | dob_year | dob_month | dob_monthyear | age_upon_intake_(years) | age_upon_intake | age_upon_intake_age_group |  intake_month | intake_year | intake_monthyear | intake_weekday | intake_hour | time_in_shelter | age_group_year \n",
    "\n",
    "\n",
    "- Dropped \"count\" column\n",
    "    - created by uploader of data to Kaggle, not useful for this project\n",
    "\n",
    "\n",
    "- Dropped duplicate rows\n",
    "    - Each row should have a unique combination of animal_id_intake and intake_number at minimum \n",
    "    \n",
    "    \n",
    "- Renamed age_upon_outcome_(days) to age_outcome_days\n",
    "\n",
    "\n",
    "- Renamed animal_type to species\n",
    "\n",
    "\n",
    "- Created \"perceived_agg_breed\" column that reflects if animal is of breed that is commonly perceived as aggressive (chow, doberman, pitbull, rottweiler)\n",
    "\n",
    "\n",
    "- Created scaled versions of age_outcome_days column, age_outcome_days_s\n",
    "\n",
    "\n",
    "- Added age_group_years columns, holds binned values of age in years\n",
    "\n",
    "\n",
    "- Converted sex_upon_outcome into gender column and created boolean columns for each value within it (male, female, unknown)\n",
    "    - sex_upon_outcome also contains information about the sterilization status of an animal at the time of outcome but i did not create a column for this data\n",
    "        - Per the AAC, if an animal wasn't sterilized prior to entering the AAC, they can only be sterilized at the adopters discression upon adoption\n",
    "        - Thus the AAC wouldn't have the information available to use sterilization status at outcome feature prior prior to animal's adoption.\n",
    "        - That being said, I'm excluding it as a feature in this project since my goal is to create a model that the AAC could use in a real-world setting\n",
    "        \n",
    "        \n",
    "- Add boolean columns for animal type (dog, cat)\n",
    "\n",
    "\n",
    "- Transform outcome_type to binary categorical column 'is_adopted' \n",
    "\n",
    "\n",
    "- Dropped all animals that were not cats or dogs to simplify scope of project and save time\n",
    "    - Will explore alternate species in next iteration of project\n",
    "    \n",
    "    \n",
    "- Dropped rows with outcome type that indicated animal was returned to owner\n",
    "\n",
    "\n",
    "- Dropped rows with outcome type of \"disposal\"\n",
    "    - Rows represent animals that were deceased prior to arrival at AAC, no chance of adoption\n",
    "    \n",
    "    \n",
    "- Drop null values\n",
    "    - Very few nulls so dropping won't have a meaningful impact\n",
    "    \n",
    "    \n",
    "- Splitting data into train, validate, and test sets"
   ]
  },
  {
   "cell_type": "markdown",
   "metadata": {},
   "source": [
    "# Explore<a id='explore'></a>\n",
    "I'm going to explore the data using plots and hypothesis tests to identify viable features for predicting adoption.\n",
    "***"
   ]
  },
  {
   "cell_type": "markdown",
   "metadata": {},
   "source": [
    "## Variable to Explore: Age\n",
    "Is there a connection between age and adoption? I suspect that older animals are adopted less often."
   ]
  },
  {
   "cell_type": "markdown",
   "metadata": {},
   "source": [
    "### Visualization"
   ]
  },
  {
   "cell_type": "code",
   "execution_count": 6,
   "metadata": {},
   "outputs": [],
   "source": [
    "# setting figure and text size for all plots\n",
    "sns.set(rc = {'figure.figsize':(12,6)})\n",
    "sns.set(font_scale = 2)"
   ]
  },
  {
   "cell_type": "code",
   "execution_count": 7,
   "metadata": {},
   "outputs": [
    {
     "data": {
      "image/png": "[encoded data removed]",
      "text/plain": [
       "<Figure size 864x432 with 1 Axes>"
      ]
     },
     "metadata": {},
     "output_type": "display_data"
    }
   ],
   "source": [
    "# grouping by age groups (years) and aggregating average % of adopted animals within each group\n",
    "# sorting by age groups\n",
    "age_group_adopts = train.groupby('age_group_years').mean()[['is_adopted']].sort_values('age_group_years')\n",
    "\n",
    "# relabeling index to make x axis ticks simpler\n",
    "age_group_adopts.index = ['0-1', '2-3', '4-5', '6-7', '8-9', '10-11', '12-13', '14-15', '16+']\n",
    "\n",
    "# creating plot\n",
    "sns.barplot(data=age_group_adopts, x=age_group_adopts.index, y='is_adopted')\n",
    "plt.xlabel(\"Age Group (Years)\")\n",
    "plt.ylabel(\"Percent of Age Group Adopted\")\n",
    "plt.title(\"Adoption Rates Drop Rapidly at Ages 10+\", fontweight='bold', fontsize=23)\n",
    "fmt = [f'{i:0.0%}' for i in np.linspace(0, 1, 11)]\n",
    "plt.yticks(np.linspace(0, 1, 11), labels=fmt)\n",
    "plt.show()"
   ]
  },
  {
   "cell_type": "markdown",
   "metadata": {},
   "source": [
    "### Average % of animals 0 to 9 years old that get adopted?"
   ]
  },
  {
   "cell_type": "code",
   "execution_count": 8,
   "metadata": {},
   "outputs": [
    {
     "data": {
      "text/plain": [
       "0.56"
      ]
     },
     "execution_count": 8,
     "metadata": {},
     "output_type": "execute_result"
    }
   ],
   "source": [
    "round(train.groupby('age_group_years').mean()['is_adopted'][0:5].mean(),2)"
   ]
  },
  {
   "cell_type": "markdown",
   "metadata": {},
   "source": [
    "### Average % of animals 10 to 16 years old that get adopted?"
   ]
  },
  {
   "cell_type": "code",
   "execution_count": 9,
   "metadata": {},
   "outputs": [
    {
     "data": {
      "text/plain": [
       "0.35"
      ]
     },
     "execution_count": 9,
     "metadata": {},
     "output_type": "execute_result"
    }
   ],
   "source": [
    "round(train.groupby('age_group_years').mean()['is_adopted'][5:9].mean(),2)"
   ]
  },
  {
   "cell_type": "markdown",
   "metadata": {},
   "source": [
    "### Average % of animals 15+ years old that get adopted?"
   ]
  },
  {
   "cell_type": "code",
   "execution_count": 10,
   "metadata": {},
   "outputs": [
    {
     "data": {
      "text/plain": [
       "0.28"
      ]
     },
     "execution_count": 10,
     "metadata": {},
     "output_type": "execute_result"
    }
   ],
   "source": [
    "round(train.groupby('age_group_years').mean()['is_adopted'][7:].mean(),2)"
   ]
  },
  {
   "cell_type": "markdown",
   "metadata": {},
   "source": [
    "- Adoption rates between animals ages 0-9 years of age are fairly close\n",
    "\n",
    "\n",
    "- From age 10 onward, adoption rates drop rapidly\n",
    "\n",
    "\n",
    "- The age 16+ age group has roughly half the adoption rate of the 0-1 age group"
   ]
  },
  {
   "cell_type": "markdown",
   "metadata": {},
   "source": [
    "## Two-sample one-tailed t-test\n",
    "### Hypothesis\n",
    "<br>\n",
    "H0: The average age of animals who are adopted is equal to or greater than the average age of animals that are not adopted\n",
    "<br>\n",
    "Ha: The average age of animals who are adopted is less than the average age of animals that are not adopted"
   ]
  },
  {
   "cell_type": "code",
   "execution_count": 11,
   "metadata": {},
   "outputs": [
    {
     "name": "stdout",
     "output_type": "stream",
     "text": [
      "alpha = .05\n",
      "\n",
      "p = 1.648605924794486e-11\n",
      "t = -6.634870041004602\n"
     ]
    }
   ],
   "source": [
    "# x1 = series of ages of animals who were adopted\n",
    "# x2 = series of ages of animals who were not adopted\n",
    "x1 = train[train.is_adopted == 1]['age_outcome_days']\n",
    "x2 = train[train.is_adopted == 0]['age_outcome_days']\n",
    "\n",
    "# performing t-test\n",
    "t, p = stats.ttest_ind(x1, x2)\n",
    "\n",
    "# printing results\n",
    "print(f'alpha = .05\\n')\n",
    "print (f'p = {p/2}')\n",
    "print (f't =',t)"
   ]
  },
  {
   "cell_type": "markdown",
   "metadata": {},
   "source": [
    "- Since p is less than alpha and t is negative (for a \"less than\" test) I reject the null hypothesis\n",
    "\n",
    "\n",
    "- The t-test results and visual are both evidence that younger animals are favored for adoption"
   ]
  },
  {
   "cell_type": "markdown",
   "metadata": {},
   "source": [
    "## Variable to Explore: Species\n",
    "In terms of percent, is one species adopted more often that the other?"
   ]
  },
  {
   "cell_type": "markdown",
   "metadata": {},
   "source": [
    "### Comparing adoption rates: cats vs. dogs"
   ]
  },
  {
   "cell_type": "code",
   "execution_count": 12,
   "metadata": {
    "scrolled": true
   },
   "outputs": [
    {
     "data": {
      "text/html": [
       "<div>\n",
       "<style scoped>\n",
       "    .dataframe tbody tr th:only-of-type {\n",
       "        vertical-align: middle;\n",
       "    }\n",
       "\n",
       "    .dataframe tbody tr th {\n",
       "        vertical-align: top;\n",
       "    }\n",
       "\n",
       "    .dataframe thead th {\n",
       "        text-align: right;\n",
       "    }\n",
       "</style>\n",
       "<table border=\"1\" class=\"dataframe\">\n",
       "  <thead>\n",
       "    <tr style=\"text-align: right;\">\n",
       "      <th></th>\n",
       "      <th>is_adopted</th>\n",
       "    </tr>\n",
       "    <tr>\n",
       "      <th>species</th>\n",
       "      <th></th>\n",
       "    </tr>\n",
       "  </thead>\n",
       "  <tbody>\n",
       "    <tr>\n",
       "      <th>cat</th>\n",
       "      <td>0.454505</td>\n",
       "    </tr>\n",
       "    <tr>\n",
       "      <th>dog</th>\n",
       "      <td>0.644565</td>\n",
       "    </tr>\n",
       "  </tbody>\n",
       "</table>\n",
       "</div>"
      ],
      "text/plain": [
       "         is_adopted\n",
       "species            \n",
       "cat        0.454505\n",
       "dog        0.644565"
      ]
     },
     "execution_count": 12,
     "metadata": {},
     "output_type": "execute_result"
    }
   ],
   "source": [
    "# using groupby to examine adoption rates within species\n",
    "cat_v_dog = train.groupby('species').mean()[['is_adopted']]\n",
    "\n",
    "cat_v_dog"
   ]
  },
  {
   "cell_type": "markdown",
   "metadata": {},
   "source": [
    "- 45% of all cats are adopted\n",
    "\n",
    "\n",
    "- 64% of all dogs are adopted"
   ]
  },
  {
   "cell_type": "markdown",
   "metadata": {},
   "source": [
    "### Visualization"
   ]
  },
  {
   "cell_type": "code",
   "execution_count": 13,
   "metadata": {},
   "outputs": [
    {
     "data": {
      "image/png": "[encoded data removed]",
      "text/plain": [
       "<Figure size 720x432 with 1 Axes>"
      ]
     },
     "metadata": {},
     "output_type": "display_data"
    }
   ],
   "source": [
    "# grouping by species and aggregating % of each species that are adopted\n",
    "type_adopt = train.groupby('species').mean()[['is_adopted']].sort_values('species')\n",
    "\n",
    "# creating plot\n",
    "plt.figure(figsize=(10, 6))\n",
    "sns.barplot(data = type_adopt, x = type_adopt.index, y='is_adopted')\n",
    "plt.xlabel(\"Animal Species\", fontsize= 20)\n",
    "plt.ylabel(\"Percent of Species Adopted\", fontsize= 20)\n",
    "plt.title(\"Higher Percent of Dogs are Adopted than Cats\", fontweight='bold', fontsize=23)\n",
    "fmt = [f'{i:0.0%}' for i in np.linspace(0, 1, 11)]\n",
    "plt.yticks(np.linspace(0, 1, 11), labels=fmt)\n",
    "plt.show()"
   ]
  },
  {
   "cell_type": "markdown",
   "metadata": {},
   "source": [
    "### Chi-Squared Test"
   ]
  },
  {
   "cell_type": "markdown",
   "metadata": {},
   "source": [
    "### Hypothesis\n",
    "<br>\n",
    "H0: Adoption and animal type are independent\n",
    "<br>\n",
    "Ha: Adoption and animal type are dependent"
   ]
  },
  {
   "cell_type": "code",
   "execution_count": 14,
   "metadata": {
    "scrolled": false
   },
   "outputs": [
    {
     "name": "stdout",
     "output_type": "stream",
     "text": [
      "alpha = .05\n",
      "\n",
      "p = 0.0000\n"
     ]
    }
   ],
   "source": [
    "# creating crosstab of cat adoptions vs dog adoptions\n",
    "ct_species = pd.crosstab(train.species, train.is_adopted)\n",
    "\n",
    "# calculating chi^2, p value, degrees of freedom and expected values\n",
    "chi2, p, degf, expected = stats.chi2_contingency(ct_species)\n",
    "\n",
    "# printing results\n",
    "print('alpha = .05\\n')\n",
    "print(f'p = {p:.4f}')"
   ]
  },
  {
   "cell_type": "markdown",
   "metadata": {},
   "source": [
    "- Since p is less than alpha, I am rejecting the null hypothesis that adopation and animal type are independent\n",
    "\n",
    "\n",
    "- Based on the average adoption rates between species and bar plot it appears that dogs are favored for adoption over cats"
   ]
  },
  {
   "cell_type": "markdown",
   "metadata": {},
   "source": [
    "## Variable to Explore: Gender"
   ]
  },
  {
   "cell_type": "markdown",
   "metadata": {},
   "source": [
    "### Identifying # of unknown gender animals"
   ]
  },
  {
   "cell_type": "code",
   "execution_count": 15,
   "metadata": {},
   "outputs": [
    {
     "data": {
      "text/html": [
       "<div>\n",
       "<style scoped>\n",
       "    .dataframe tbody tr th:only-of-type {\n",
       "        vertical-align: middle;\n",
       "    }\n",
       "\n",
       "    .dataframe tbody tr th {\n",
       "        vertical-align: top;\n",
       "    }\n",
       "\n",
       "    .dataframe thead th {\n",
       "        text-align: right;\n",
       "    }\n",
       "</style>\n",
       "<table border=\"1\" class=\"dataframe\">\n",
       "  <thead>\n",
       "    <tr style=\"text-align: right;\">\n",
       "      <th></th>\n",
       "      <th>is_adopted</th>\n",
       "    </tr>\n",
       "    <tr>\n",
       "      <th>gender</th>\n",
       "      <th></th>\n",
       "    </tr>\n",
       "  </thead>\n",
       "  <tbody>\n",
       "    <tr>\n",
       "      <th>Female</th>\n",
       "      <td>0.589574</td>\n",
       "    </tr>\n",
       "    <tr>\n",
       "      <th>Male</th>\n",
       "      <td>0.574067</td>\n",
       "    </tr>\n",
       "    <tr>\n",
       "      <th>Unknown</th>\n",
       "      <td>0.000656</td>\n",
       "    </tr>\n",
       "  </tbody>\n",
       "</table>\n",
       "</div>"
      ],
      "text/plain": [
       "         is_adopted\n",
       "gender             \n",
       "Female     0.589574\n",
       "Male       0.574067\n",
       "Unknown    0.000656"
      ]
     },
     "execution_count": 15,
     "metadata": {},
     "output_type": "execute_result"
    }
   ],
   "source": [
    "# using groupby to examine adoption rates within each gender value\n",
    "male_v_female = train.groupby('gender').mean()[['is_adopted']]\n",
    "\n",
    "male_v_female"
   ]
  },
  {
   "cell_type": "markdown",
   "metadata": {},
   "source": [
    "### Checking total number of cats and dogs with no gender"
   ]
  },
  {
   "cell_type": "code",
   "execution_count": 16,
   "metadata": {
    "scrolled": true
   },
   "outputs": [
    {
     "data": {
      "text/plain": [
       "1524"
      ]
     },
     "execution_count": 16,
     "metadata": {},
     "output_type": "execute_result"
    }
   ],
   "source": [
    "# counting rows with gender unknown\n",
    "train[train.gender == 'Unknown'].shape[0]"
   ]
  },
  {
   "cell_type": "markdown",
   "metadata": {},
   "source": [
    "### Researching unknown gender cats and dogs in depth\n",
    "Very peculiar that of all unknown gender animals, almost none out of nearly 1500 were adopted"
   ]
  },
  {
   "cell_type": "code",
   "execution_count": 17,
   "metadata": {},
   "outputs": [
    {
     "data": {
      "text/plain": [
       "Transfer      1346\n",
       "Euthanasia     139\n",
       "Died            37\n",
       "Adoption         1\n",
       "Missing          1\n",
       "Name: outcome_type, dtype: int64"
      ]
     },
     "execution_count": 17,
     "metadata": {},
     "output_type": "execute_result"
    }
   ],
   "source": [
    "# counting occurences of each outcome type for unknown gender animals\n",
    "train[train.gender == 'Unknown']['outcome_type'].value_counts()"
   ]
  },
  {
   "cell_type": "code",
   "execution_count": 18,
   "metadata": {
    "scrolled": true
   },
   "outputs": [
    {
     "data": {
      "text/plain": [
       "Partner        1060\n",
       "SCRP            223\n",
       "Suffering       117\n",
       "Snr              63\n",
       "In Kennel        24\n",
       "At Vet           11\n",
       "Rabies Risk       6\n",
       "unknown           6\n",
       "In Foster         5\n",
       "Medical           5\n",
       "Enroute           3\n",
       "Underage          1\n",
       "Name: outcome_subtype, dtype: int64"
      ]
     },
     "execution_count": 18,
     "metadata": {},
     "output_type": "execute_result"
    }
   ],
   "source": [
    "# counting occurences of each outcome subtype for unknown gender animals\n",
    "train[train.gender == 'Unknown']['outcome_subtype'].value_counts()"
   ]
  },
  {
   "cell_type": "markdown",
   "metadata": {},
   "source": [
    "- Almost all the unknown gender animals that were not adopted were either transfered, put down, or passed away"
   ]
  },
  {
   "cell_type": "markdown",
   "metadata": {},
   "source": [
    "### Visualization"
   ]
  },
  {
   "cell_type": "code",
   "execution_count": 19,
   "metadata": {},
   "outputs": [
    {
     "data": {
      "image/png": "[encoded data removed]",
      "text/plain": [
       "<Figure size 720x432 with 1 Axes>"
      ]
     },
     "metadata": {},
     "output_type": "display_data"
    }
   ],
   "source": [
    "# grouping by gender and aggregating % of adoptions within each gender value\n",
    "gender_adopt = train.groupby('gender').mean()[['is_adopted']].sort_values('gender')\n",
    "\n",
    "# plotting \n",
    "plt.figure(figsize=(10, 6))\n",
    "sns.barplot(data = gender_adopt, x = gender_adopt.index, y='is_adopted')\n",
    "plt.xlabel(\"Animal Gender\", fontsize= 20)\n",
    "plt.ylabel(\"Percent of Gender Adopted\", fontsize= 20)\n",
    "plt.title(\"Females and Males Adopted Almost Equally\", fontweight='bold', fontsize=23)\n",
    "fmt = [f'{i:0.0%}' for i in np.linspace(0, 1, 11)]\n",
    "plt.yticks(np.linspace(0, 1, 11), labels=fmt)\n",
    "plt.show()"
   ]
  },
  {
   "cell_type": "markdown",
   "metadata": {},
   "source": [
    "- Females\n",
    "    - 58% of all male animals are adopted\n",
    "    \n",
    "    \n",
    "- Males\n",
    "    - 58% of all female animals are adopted\n",
    "    \n",
    "    \n",
    "- Unknown gender\n",
    "    - Almost none of the unknown gender animals were adopted, despite there being over 1500 of them\n",
    "    - Almost all of the unknown gender cats and dogs that were not adopted were either transfered, put down, or passed away\n",
    "\n",
    "\n",
    "- Rates of adoption between male and female animals are virtually even\n",
    "\n",
    "\n",
    "- Male and female animals have much higher adoption rates than animals of unknown gender"
   ]
  },
  {
   "cell_type": "markdown",
   "metadata": {},
   "source": [
    "### Chi-Squared Test"
   ]
  },
  {
   "cell_type": "markdown",
   "metadata": {},
   "source": [
    "### Hypothesis\n",
    "<br>\n",
    "H0: Adoption and gender (including unknown gender) are independent\n",
    "<br>\n",
    "Ha: Adoption and gender (including unknown gender) are dependent"
   ]
  },
  {
   "cell_type": "code",
   "execution_count": 20,
   "metadata": {
    "scrolled": true
   },
   "outputs": [
    {
     "name": "stdout",
     "output_type": "stream",
     "text": [
      "alpha = .05\n",
      "\n",
      "p     = 0.0000\n"
     ]
    }
   ],
   "source": [
    "# creating crosstab of male, female and gender unknown adoptions\n",
    "ct_gender = pd.crosstab(train.gender, train.is_adopted)\n",
    "\n",
    "# calculating chi^2, p value, degrees of freedom and expected values\n",
    "chi2, p, degf, expected = stats.chi2_contingency(ct_gender)\n",
    "\n",
    "# printing results\n",
    "print('alpha = .05\\n')\n",
    "print(f'p     = {p:.4f}')"
   ]
  },
  {
   "cell_type": "markdown",
   "metadata": {},
   "source": [
    "- Since p is less than alpha, I am rejecting the null hypothesis that adoption and gender (including unknown gender) are independent\n",
    "\n",
    "\n",
    "- I suspect that the unknown gender values are responsible for the low p value so I'm going to conduct this test again without them"
   ]
  },
  {
   "cell_type": "markdown",
   "metadata": {},
   "source": [
    "### Chi-Squared Test\n",
    "### Hypothesis\n",
    "<br>\n",
    "H0: Adoption and gender (not including unknown gender) are independent\n",
    "<br>\n",
    "Ha: Adoption and gender (not including unknown gender) are dependent"
   ]
  },
  {
   "cell_type": "code",
   "execution_count": 21,
   "metadata": {},
   "outputs": [
    {
     "name": "stdout",
     "output_type": "stream",
     "text": [
      "alpha = .05\n",
      "\n",
      "p     = 0.0051\n"
     ]
    }
   ],
   "source": [
    "# creating df that only includes rows with animals of identified gender\n",
    "fm = train[train.gender != \"Unknown\"]\n",
    "\n",
    "# creating crosstab using gender and is_adopted columns\n",
    "ct_fm = pd.crosstab(fm.gender, fm.is_adopted)\n",
    "\n",
    "# calculating chi^2, p value, degrees of freedom and expected values\n",
    "chi2, p, degf, expected = stats.chi2_contingency(ct_fm)\n",
    "\n",
    "# printing results\n",
    "print('alpha = .05\\n')\n",
    "print(f'p     = {p:.4f}')"
   ]
  },
  {
   "cell_type": "markdown",
   "metadata": {},
   "source": [
    "- Since p is greater than alpha, I fail to reject the null hypothesis that adoption and gender are independent\n",
    "\n",
    "\n",
    "- This makes sense given that adoption rates only significantly differ between known and unknown gender animals and not between the animals with identified genders (male and female)\n",
    "\n",
    "\n",
    "- The percentages of adoption seen between genders and visualization suggest that gender only significantly impacts adoption if the animal's gender is unknown "
   ]
  },
  {
   "cell_type": "markdown",
   "metadata": {},
   "source": [
    "## Variable to Explore: Animal's Sterilization Status Prior to AAC\n",
    "The AAC only sterilizes animals at the adopters requests upon adoption. Do animals that were sterilized (netured or spayed) prior to entering the AAC have higher rates of adoption?"
   ]
  },
  {
   "cell_type": "code",
   "execution_count": 22,
   "metadata": {
    "scrolled": true
   },
   "outputs": [
    {
     "data": {
      "text/html": [
       "<div>\n",
       "<style scoped>\n",
       "    .dataframe tbody tr th:only-of-type {\n",
       "        vertical-align: middle;\n",
       "    }\n",
       "\n",
       "    .dataframe tbody tr th {\n",
       "        vertical-align: top;\n",
       "    }\n",
       "\n",
       "    .dataframe thead th {\n",
       "        text-align: right;\n",
       "    }\n",
       "</style>\n",
       "<table border=\"1\" class=\"dataframe\">\n",
       "  <thead>\n",
       "    <tr style=\"text-align: right;\">\n",
       "      <th></th>\n",
       "      <th>is_adopted</th>\n",
       "    </tr>\n",
       "    <tr>\n",
       "      <th>sterilized_income</th>\n",
       "      <th></th>\n",
       "    </tr>\n",
       "  </thead>\n",
       "  <tbody>\n",
       "    <tr>\n",
       "      <th>0</th>\n",
       "      <td>0.537175</td>\n",
       "    </tr>\n",
       "    <tr>\n",
       "      <th>1</th>\n",
       "      <td>0.611111</td>\n",
       "    </tr>\n",
       "  </tbody>\n",
       "</table>\n",
       "</div>"
      ],
      "text/plain": [
       "                   is_adopted\n",
       "sterilized_income            \n",
       "0                    0.537175\n",
       "1                    0.611111"
      ]
     },
     "execution_count": 22,
     "metadata": {},
     "output_type": "execute_result"
    }
   ],
   "source": [
    "# using groupby to examine adoption rates between \n",
    "# sterilized and unsterilized animals (prior to AAC)\n",
    "income_ster = train.groupby('sterilized_income').mean()[['is_adopted']]\n",
    "\n",
    "income_ster"
   ]
  },
  {
   "cell_type": "markdown",
   "metadata": {},
   "source": [
    "### Visualization"
   ]
  },
  {
   "cell_type": "code",
   "execution_count": 23,
   "metadata": {},
   "outputs": [
    {
     "data": {
      "image/png": "[encoded data removed]",
      "text/plain": [
       "<Figure size 720x432 with 1 Axes>"
      ]
     },
     "metadata": {},
     "output_type": "display_data"
    }
   ],
   "source": [
    "# grouping by sterilization status prior to AAC and aggregating % of adoptions\n",
    "# within each status group\n",
    "sterile_adopt = train.groupby('sterilized_income').mean()[['is_adopted']].sort_values('sterilized_income')\n",
    "\n",
    "# changing index values to no and yes from 0 and 1, respectively\n",
    "sterile_adopt.index = ['No', 'Yes']\n",
    "\n",
    "# creating plot\n",
    "plt.figure(figsize=(10, 6))\n",
    "sns.barplot(data = sterile_adopt, x = sterile_adopt.index, y='is_adopted')\n",
    "plt.xlabel(\"Sterile Prior to AAC\")\n",
    "plt.ylabel(\"Percent of Animals Adopted\")\n",
    "plt.title(\"Animals Sterilized Prior to AAC are Adopted More Often\", fontweight='bold', fontsize=23, y=1.05)\n",
    "fmt = [f'{i:0.0%}' for i in np.linspace(0, 1, 11)]\n",
    "plt.yticks(np.linspace(0, 1, 11), labels=fmt)\n",
    "plt.show()"
   ]
  },
  {
   "cell_type": "markdown",
   "metadata": {},
   "source": [
    "## Chi Squared Test\n",
    "### Hypothesis\n",
    "<br>\n",
    "H0: sterilized_income and adoption are independent\n",
    "<br>\n",
    "Ha: sterilized_income and adoption are dependent"
   ]
  },
  {
   "cell_type": "code",
   "execution_count": 24,
   "metadata": {},
   "outputs": [
    {
     "name": "stdout",
     "output_type": "stream",
     "text": [
      "alpha = .05\n",
      "\n",
      "p     = 0.0000\n"
     ]
    }
   ],
   "source": [
    "# creating crosstab using sterilization prior to AAC and is_adopted columns\n",
    "observed_sterile = pd.crosstab(train.sterilized_income, train.is_adopted)\n",
    "\n",
    "# calculating chi^2, p value, degrees of freedom and expected values\n",
    "chi2, p, degf, expected = stats.chi2_contingency(observed_sterile)\n",
    "\n",
    "# printing results\n",
    "print('alpha = .05\\n')\n",
    "print(f'p     = {p:.4f}')"
   ]
  },
  {
   "cell_type": "markdown",
   "metadata": {},
   "source": [
    "- Since p is less than alpha, I reject the null hypothesis that income_sterilization and gender are independent\n",
    "\n",
    "\n",
    "- The calculated percentages and visualization indicate that animals that a higher percent of animals sterilized prior to the AAC are adopted than those were not sterilized prior to the AAC"
   ]
  },
  {
   "cell_type": "markdown",
   "metadata": {},
   "source": [
    "## Feature to Explore: Breeds that are commonly perceived as aggressive\n",
    "Many people believe that there are \"agressive\" breeds of dogs. Dogs of these breeds may have a harder time getting adopted (Pit Bull, Rottweiler, Chow, Doberman)."
   ]
  },
  {
   "cell_type": "code",
   "execution_count": 25,
   "metadata": {},
   "outputs": [
    {
     "data": {
      "text/html": [
       "<div>\n",
       "<style scoped>\n",
       "    .dataframe tbody tr th:only-of-type {\n",
       "        vertical-align: middle;\n",
       "    }\n",
       "\n",
       "    .dataframe tbody tr th {\n",
       "        vertical-align: top;\n",
       "    }\n",
       "\n",
       "    .dataframe thead th {\n",
       "        text-align: right;\n",
       "    }\n",
       "</style>\n",
       "<table border=\"1\" class=\"dataframe\">\n",
       "  <thead>\n",
       "    <tr style=\"text-align: right;\">\n",
       "      <th></th>\n",
       "      <th>is_adopted</th>\n",
       "    </tr>\n",
       "    <tr>\n",
       "      <th>perceived_agg_breed</th>\n",
       "      <th></th>\n",
       "    </tr>\n",
       "  </thead>\n",
       "  <tbody>\n",
       "    <tr>\n",
       "      <th>0</th>\n",
       "      <td>0.659497</td>\n",
       "    </tr>\n",
       "    <tr>\n",
       "      <th>1</th>\n",
       "      <td>0.573008</td>\n",
       "    </tr>\n",
       "  </tbody>\n",
       "</table>\n",
       "</div>"
      ],
      "text/plain": [
       "                     is_adopted\n",
       "perceived_agg_breed            \n",
       "0                      0.659497\n",
       "1                      0.573008"
      ]
     },
     "execution_count": 25,
     "metadata": {},
     "output_type": "execute_result"
    }
   ],
   "source": [
    "# filtering for only rows that include dogs\n",
    "dogs = train[train.species == 'dog']\n",
    "\n",
    "# using groupby to examine adoption rates within species\n",
    "agg = dogs.groupby('perceived_agg_breed').mean()[['is_adopted']]\n",
    "\n",
    "agg"
   ]
  },
  {
   "cell_type": "markdown",
   "metadata": {},
   "source": [
    "### Visualization"
   ]
  },
  {
   "cell_type": "code",
   "execution_count": 26,
   "metadata": {},
   "outputs": [
    {
     "data": {
      "image/png": "[encoded data removed]",
      "text/plain": [
       "<Figure size 720x432 with 1 Axes>"
      ]
     },
     "metadata": {},
     "output_type": "display_data"
    }
   ],
   "source": [
    "# changing index to no and yes from 0 and 1, respectively\n",
    "agg.index = (['No', 'Yes'])\n",
    "\n",
    "# creating plot\n",
    "plt.figure(figsize=(10, 6))\n",
    "sns.barplot(data=agg, x=agg.index, y='is_adopted')\n",
    "plt.xlabel(\"Breed Perceived as Aggressive\")\n",
    "plt.ylabel(\"Percent of Dogs Adopted\")\n",
    "plt.title(\"Breeds Considered Aggresive Are Adopted Less\", fontweight='bold', fontsize=23,y = 1.05)\n",
    "fmt = [f'{i:0.0%}' for i in np.linspace(0, 1, 11)]\n",
    "plt.yticks(np.linspace(0, 1, 11), labels=fmt)\n",
    "plt.show()"
   ]
  },
  {
   "cell_type": "markdown",
   "metadata": {},
   "source": [
    "### Chi-Squared Test"
   ]
  },
  {
   "cell_type": "markdown",
   "metadata": {},
   "source": [
    "### Hypothesis\n",
    "<br>\n",
    "H0: Adoption and whether an animal is neutered of spayed are independent\n",
    "<br>\n",
    "Ha: Adoption and whether an animal is neutered of spayed are dependent"
   ]
  },
  {
   "cell_type": "code",
   "execution_count": 27,
   "metadata": {},
   "outputs": [
    {
     "name": "stdout",
     "output_type": "stream",
     "text": [
      "alpha = .05\n",
      "\n",
      "p     = 0.0000\n"
     ]
    }
   ],
   "source": [
    "# creating crosstab using agg_breed and is_adopted columns\n",
    "ct_breed = pd.crosstab(dogs.perceived_agg_breed, dogs.is_adopted)\n",
    "\n",
    "# calculating chi^2, p value, degrees of freedom and expected values\n",
    "chi2, p, degf, expected = stats.chi2_contingency(ct_breed)\n",
    "\n",
    "# printing results\n",
    "print('alpha = .05\\n')\n",
    "print(f'p     = {p:.4f}')"
   ]
  },
  {
   "cell_type": "markdown",
   "metadata": {},
   "source": [
    "- Since p is less than alpha I am rejecting the null hypothesis that dogs of a breed that is perceived as aggressive and adoption are independent\n",
    "\n",
    "\n",
    "- The calculated percentages and visualization suggest that dogs of an aggressive breed are adopted less often"
   ]
  },
  {
   "cell_type": "markdown",
   "metadata": {},
   "source": [
    "### Exploration Takeaways\n",
    "- A lower percentage of animals that are 10 years or older are adopted than their younger counterparts\n",
    "\n",
    "\n",
    "- A percentage of dogs that are adopted is higher than the percentage of cats that are adopted\n",
    "\n",
    "\n",
    "- The percentage of male and female animals adopted are nearly identical\n",
    "\n",
    "\n",
    "- None of the animals in the dataset with ah unknown gender were adopted\n",
    "    - Most of these animal were stray cats who were transferred to another facility\n",
    "    - I'll be exploring these animals more in-depth in my upcoming expansion of this project\n",
    "\n",
    "\n",
    "- The adoption percentage of animals that are sterilized prior to entering the AAC is higher than the adoption percentage of other animals\n",
    "\n",
    "\n",
    "- Dogs of a breed that is perceived as aggressive are adopted less often than other breeds\n",
    "\n",
    "\n",
    "- Two-sample, one-tailed t-test suggested that the average age of adopted animals is lower than the average age of animals that are not adopted\n",
    "\n",
    "\n",
    "- Chi square tests showed that is_adopted and all of the following variables are not independent of each other\n",
    "    - animal_type (cat or dog)\n",
    "    - gender (male, female, unknown)\n",
    "    - agg_breed (if a breed of dog is commonly perceived as aggressive)\n",
    "    - sterilized_income (if an animal was sterilized prior to entering the AAC)"
   ]
  },
  {
   "cell_type": "markdown",
   "metadata": {},
   "source": [
    "# Model<a id='model'></a>\n",
    "I'll now create several models that will predict whether an animal was adopted based on it's various features.\n",
    "***"
   ]
  },
  {
   "cell_type": "markdown",
   "metadata": {},
   "source": [
    "## Choosing a performance metric (accuracy, recall, precision, f1-score, etc.)\n",
    "- False positives (predicting an animal will be adopted when they won't) are troublesome because they can create scenarios where the AAC focuses on finding homes for animals that they think will not be adopted, while skipping over at-risk animals due to the model's false positive prediction.\n",
    "- False negatives (predicting an animal won't be adopted when they actually will be) can also be troublesome since like false positives, they can create scenarios where the AAC is focusing on getting animals adopted that were going to be adopted regardless.\n",
    "\n",
    "However, false positives are arguably more disruptive than false negatives since identifying less at-risk animals is worse than focusing on more animals that are not at-risk. For example, if the AAC posts pictures of the most at-risk animals, leaving an at-risk animal out of the group arguably does more harm than including a picture of an animal that it not at-risk.\n",
    "\n",
    "\n",
    "In light of these points, I'll judge each model based on it's accuracy and precision scores.\n",
    "- Accuracy gauges how often the model made a correct prediction overall\n",
    "- Preicision guages the percent of true positives out of all predicted positives. So it's a good metric to use if my aim is to avoid false positives (since more false positives = lower precision)."
   ]
  },
  {
   "cell_type": "markdown",
   "metadata": {},
   "source": [
    "## Baseline"
   ]
  },
  {
   "cell_type": "code",
   "execution_count": 28,
   "metadata": {},
   "outputs": [
    {
     "data": {
      "text/plain": [
       "1    18639\n",
       "0    14922\n",
       "Name: is_adopted, dtype: int64"
      ]
     },
     "execution_count": 28,
     "metadata": {},
     "output_type": "execute_result"
    }
   ],
   "source": [
    "# checking most common value of target variable\n",
    "# ie. are animals more adopted more often than not?\n",
    "train.is_adopted.value_counts()"
   ]
  },
  {
   "cell_type": "code",
   "execution_count": 29,
   "metadata": {},
   "outputs": [],
   "source": [
    "# setting baseline prediction to 1\n",
    "train['baseline_pred'] = 1"
   ]
  },
  {
   "cell_type": "code",
   "execution_count": 30,
   "metadata": {},
   "outputs": [
    {
     "name": "stdout",
     "output_type": "stream",
     "text": [
      "              precision    recall  f1-score   support\n",
      "\n",
      "           0       0.00      0.00      0.00     14922\n",
      "           1       0.56      1.00      0.71     18639\n",
      "\n",
      "    accuracy                           0.56     33561\n",
      "   macro avg       0.28      0.50      0.36     33561\n",
      "weighted avg       0.31      0.56      0.40     33561\n",
      "\n"
     ]
    }
   ],
   "source": [
    "# printing performance metrics\n",
    "print(classification_report(train.is_adopted, train.baseline_pred))"
   ]
  },
  {
   "cell_type": "markdown",
   "metadata": {},
   "source": [
    "## Train"
   ]
  },
  {
   "cell_type": "code",
   "execution_count": 31,
   "metadata": {},
   "outputs": [],
   "source": [
    "# setting target variable\n",
    "y_train = train['is_adopted']"
   ]
  },
  {
   "cell_type": "markdown",
   "metadata": {},
   "source": [
    "### Model 1 - Logistic Regression - Train"
   ]
  },
  {
   "cell_type": "code",
   "execution_count": 32,
   "metadata": {
    "scrolled": true
   },
   "outputs": [
    {
     "name": "stdout",
     "output_type": "stream",
     "text": [
      "              precision    recall  f1-score   support\n",
      "\n",
      "           0       0.73      0.30      0.43     14922\n",
      "           1       0.62      0.91      0.74     18639\n",
      "\n",
      "    accuracy                           0.64     33561\n",
      "   macro avg       0.68      0.61      0.58     33561\n",
      "weighted avg       0.67      0.64      0.60     33561\n",
      "\n"
     ]
    }
   ],
   "source": [
    "# setting feature for model\n",
    "X_train_m1 = train[['age_outcome_days_s', 'is_dog', \n",
    "                    'gender_unknown', 'sterilized_income', 'perceived_agg_breed']]\n",
    "\n",
    "# creating logistic regression object\n",
    "lr = LogisticRegression(random_state=123)\n",
    "\n",
    "# fitting model to data\n",
    "lr.fit(X_train_m1, y_train)\n",
    "\n",
    "# creating column with model predictions\n",
    "train['m1_prediction'] = lr.predict(X_train_m1)\n",
    "\n",
    "# printing performance metrics\n",
    "print(classification_report(train.is_adopted, train.m1_prediction))"
   ]
  },
  {
   "cell_type": "markdown",
   "metadata": {},
   "source": [
    "### Model 2 - Random Forest - Train"
   ]
  },
  {
   "cell_type": "code",
   "execution_count": 33,
   "metadata": {},
   "outputs": [
    {
     "name": "stdout",
     "output_type": "stream",
     "text": [
      "              precision    recall  f1-score   support\n",
      "\n",
      "           0       0.78      0.52      0.62     14922\n",
      "           1       0.70      0.88      0.78     18639\n",
      "\n",
      "    accuracy                           0.72     33561\n",
      "   macro avg       0.74      0.70      0.70     33561\n",
      "weighted avg       0.73      0.72      0.71     33561\n",
      "\n"
     ]
    }
   ],
   "source": [
    "# creating DF with selected features for logistic regression model\n",
    "X_train_m2 = train[['age_outcome_days_s', 'is_dog', \n",
    "                    'gender_unknown', 'sterilized_income', 'perceived_agg_breed']]\n",
    "\n",
    "# creating random forest object\n",
    "rf = RandomForestClassifier(random_state=123)\n",
    "\n",
    "# fitting to data\n",
    "rf.fit(X_train_m2, y_train)\n",
    "\n",
    "# making predictions\n",
    "train['m2_prediction'] = rf.predict(X_train_m2)\n",
    "\n",
    "# printing performance metrics\n",
    "print(classification_report(train.is_adopted, train.m2_prediction))"
   ]
  },
  {
   "cell_type": "markdown",
   "metadata": {},
   "source": [
    "### Model 3 - K-nearest Neighbors - Train"
   ]
  },
  {
   "cell_type": "code",
   "execution_count": 34,
   "metadata": {},
   "outputs": [
    {
     "name": "stdout",
     "output_type": "stream",
     "text": [
      "              precision    recall  f1-score   support\n",
      "\n",
      "           0       0.69      0.58      0.63     14922\n",
      "           1       0.70      0.79      0.74     18639\n",
      "\n",
      "    accuracy                           0.70     33561\n",
      "   macro avg       0.70      0.69      0.69     33561\n",
      "weighted avg       0.70      0.70      0.69     33561\n",
      "\n"
     ]
    }
   ],
   "source": [
    "# creating DF with selected features for KNN model\n",
    "X_train_m3 = train[['age_outcome_days_s', 'is_dog', \n",
    "                    'gender_unknown', 'sterilized_income', 'perceived_agg_breed']]\n",
    "\n",
    "# creating KNN object\n",
    "knn = KNeighborsClassifier()\n",
    "\n",
    "# fitting model to data\n",
    "knn.fit(X_train_m3, y_train)\n",
    "\n",
    "# making predictions on x train\n",
    "m3_y_pred = pd.DataFrame(knn.predict(X_train_m3))\n",
    "\n",
    "# creating column with model predictions\n",
    "train['m3_prediction'] = knn.predict(X_train_m3)\n",
    "\n",
    "# printing performance metrics\n",
    "print(classification_report(train.is_adopted, train.m3_prediction))"
   ]
  },
  {
   "cell_type": "markdown",
   "metadata": {},
   "source": [
    "## Train Sample Performance Summary\n",
    "\n",
    "__Baseline Model__\n",
    "- Precision: 56%\n",
    "- Accuracy: 56%\n",
    "\n",
    "\n",
    "__Model 1 - Logistic Regression__\n",
    "- Precision: 62%\n",
    "- Accuracy: 64%\n",
    "\n",
    "\n",
    "__Model 2 - Random Forest__\n",
    "- Precision: 70%\n",
    "- Accuracy: 72%\n",
    "\n",
    "\n",
    "__Model 3 - K-nearest Neighbors__\n",
    "- Precision: 70%\n",
    "- Accuracy: 70%\n",
    "\n",
    "\n",
    "\n",
    "__Top 2 models are__\n",
    "    \n",
    "- __Model 2 (Random Forest)__\n",
    "    - Tied for highest precision\n",
    "    - Has highest accuracy (2% higher than second best accuracy)\n",
    "    \n",
    "    \n",
    "- __Model 3 (K-nearest Neighbors)__\n",
    "    - Tied for highest precision\n",
    "    - Second highest accuracy (only lower than model 2 by 2%)\n",
    "    \n",
    "    \n",
    "- __Model 2__ and __Model 3__ will be used on the validatation set"
   ]
  },
  {
   "cell_type": "markdown",
   "metadata": {},
   "source": [
    "## Validate"
   ]
  },
  {
   "cell_type": "code",
   "execution_count": 35,
   "metadata": {},
   "outputs": [],
   "source": [
    "# setting target variable\n",
    "y_val = validate['is_adopted']"
   ]
  },
  {
   "cell_type": "markdown",
   "metadata": {},
   "source": [
    "### Model 2 - Random Forest - Validation - No Hyperparameter Tuning\n",
    "\n",
    "__NOTE: I was not able to find any hyperparameter configuration for model 2 on the validation sample that allowed it to outperform the configuration from the training sample. With that in mind, the hyperparameter settings from the train sample will not be changed.__"
   ]
  },
  {
   "cell_type": "code",
   "execution_count": 36,
   "metadata": {},
   "outputs": [
    {
     "name": "stdout",
     "output_type": "stream",
     "text": [
      "              precision    recall  f1-score   support\n",
      "\n",
      "           0       0.77      0.52      0.62      6420\n",
      "           1       0.69      0.88      0.77      7964\n",
      "\n",
      "    accuracy                           0.72     14384\n",
      "   macro avg       0.73      0.70      0.70     14384\n",
      "weighted avg       0.73      0.72      0.70     14384\n",
      "\n"
     ]
    }
   ],
   "source": [
    "# setting features for model\n",
    "X_val_m2 = validate[['age_outcome_days_s', 'is_dog', \n",
    "                    'gender_unknown', 'sterilized_income', 'perceived_agg_breed']]\n",
    "\n",
    "# creating column with model predictions\n",
    "validate['m2_prediction'] = rf.predict(X_val_m2)\n",
    "\n",
    "# printing performance metrics\n",
    "print(classification_report(validate.is_adopted, validate.m2_prediction))"
   ]
  },
  {
   "cell_type": "markdown",
   "metadata": {},
   "source": [
    "### Model 3 - K-nearest Neightbors - Validation - No hyperparameter tuning\n",
    "\n",
    "__NOTE: I was not able to find any hyperparameter configuration for model 3 on the validation sample that allowed it to outperform the configuration from the training sample. With that in mind, the hyperparameter settings from the train sample will not be changed.__"
   ]
  },
  {
   "cell_type": "code",
   "execution_count": 37,
   "metadata": {},
   "outputs": [
    {
     "name": "stdout",
     "output_type": "stream",
     "text": [
      "              precision    recall  f1-score   support\n",
      "\n",
      "           0       0.68      0.58      0.63      6420\n",
      "           1       0.70      0.78      0.73      7964\n",
      "\n",
      "    accuracy                           0.69     14384\n",
      "   macro avg       0.69      0.68      0.68     14384\n",
      "weighted avg       0.69      0.69      0.69     14384\n",
      "\n"
     ]
    }
   ],
   "source": [
    "# setting features for model\n",
    "X_val_m3 = validate[['age_outcome_days_s', 'is_dog', \n",
    "                    'gender_unknown', 'sterilized_income', 'perceived_agg_breed']]\n",
    "\n",
    "# creating column with model predictions\n",
    "validate['m3_prediction'] = knn.predict(X_val_m3)\n",
    "\n",
    "# printing performance metrics\n",
    "print(classification_report(validate.is_adopted, validate.m3_prediction))"
   ]
  },
  {
   "cell_type": "markdown",
   "metadata": {},
   "source": [
    "## Validate Sample Performance Summary\n",
    "\n",
    "__Model 2 (Random Forest)__\n",
    "- Precision: 69%\n",
    "- Accuracy: 72%\n",
    "- Recall: 88%\n",
    "- F1-Score: 77%\n",
    "\n",
    "\n",
    "__Model 3 (K-nearest Neighbors)__\n",
    "- Precision: 70%\n",
    "- Accuracy: 69%\n",
    "- Recall: 78%\n",
    "- F1-Score: 73%\n",
    "\n",
    "\n",
    "__Both models performed with very similar results__\n",
    "- Model 2 has lower precision by 1%\n",
    "- Model 3 has lower accuracy by 3%\n",
    "\n",
    "For this project, I consider precision to be the more valuable of the two metrics but given that the difference is so minimal and model 3 has higher accuracy, I decided to also factor in each model's recall and F1-score to decide which model to proceed with.\n",
    "\n",
    "Since model 2's recall score is 10% higher and it's F1-score (the weighted average of precision and recall) is 4% higher, along with the fact that its precision and accuracy are so close to model 3's, I'll be moving forward with model 2.\n"
   ]
  },
  {
   "cell_type": "markdown",
   "metadata": {},
   "source": [
    "## Test"
   ]
  },
  {
   "cell_type": "markdown",
   "metadata": {},
   "source": [
    "### Model 2 - Random Forest"
   ]
  },
  {
   "cell_type": "code",
   "execution_count": 38,
   "metadata": {},
   "outputs": [
    {
     "name": "stdout",
     "output_type": "stream",
     "text": [
      "              precision    recall  f1-score   support\n",
      "\n",
      "           0       0.78      0.52      0.62      5345\n",
      "           1       0.69      0.88      0.78      6642\n",
      "\n",
      "    accuracy                           0.72     11987\n",
      "   macro avg       0.74      0.70      0.70     11987\n",
      "weighted avg       0.73      0.72      0.71     11987\n",
      "\n"
     ]
    }
   ],
   "source": [
    "# setting target variable\n",
    "y_test = test['is_adopted']\n",
    "\n",
    "# setting features for model\n",
    "X_test_m2 = test[['age_outcome_days_s', 'is_dog', \n",
    "                    'gender_unknown', 'sterilized_income', 'perceived_agg_breed']]\n",
    "\n",
    "# creating column with model predictions\n",
    "test['m2_prediction'] = rf.predict(X_test_m2)\n",
    "\n",
    "# printing performance metrics\n",
    "print(classification_report(test.is_adopted, test.m2_prediction))"
   ]
  },
  {
   "cell_type": "markdown",
   "metadata": {},
   "source": [
    "## Test Sample Performance Summary\n",
    "- Random forest model \n",
    "    - Precision: 69%\n",
    "    - Accuracy: 72%\n",
    "    - Proved to be the best model on both in-sample and out-of-sample data"
   ]
  },
  {
   "cell_type": "markdown",
   "metadata": {},
   "source": [
    "## Modeling Takeaways\n",
    "\n",
    "__Created models using the following algorithms__\n",
    "- logistic regression\n",
    "- random forest\n",
    "- k-nearest neighbor\n",
    "\n",
    "\n",
    "### Train Set Model Performances\n",
    "    \n",
    "    \n",
    "__Baseline Model__\n",
    "- Precision: 56%\n",
    "- Accuracy: 56%\n",
    "\n",
    "\n",
    "__Model 1 - Logistic Regression__\n",
    "- Precision: 62%\n",
    "- Accuracy: 64%\n",
    "\n",
    "\n",
    "__Model 2 - Random Forest__\n",
    "- Precision: 70%\n",
    "- Accuracy: 72%\n",
    "\n",
    "\n",
    "__Model 3 - K-nearest Neighbors__\n",
    "- Precision: 70%\n",
    "- Accuracy: 70%\n",
    "    \n",
    "    \n",
    "### Validate Set Model Performances\n",
    "__Model 2 (Random Forest)__\n",
    "- Precision: 69%\n",
    "- Accuracy: 72%\n",
    "- Recall: 88%\n",
    "- F1-Score: 77%\n",
    "\n",
    "\n",
    "__Model 3 (K-nearest Neighbors)__\n",
    "- Precision: 70%\n",
    "- Accuracy: 69%\n",
    "- Recall: 78%\n",
    "- F1-Score: 73%\n",
    "\n",
    "Given how close models 2 and 3 performed on validate with regard to precision and accuracy, additional metrics (Recall and F1-Score) were used to determine which to use on the test sample\n",
    "\n",
    "\n",
    "### Test Set Model Performance\n",
    "- Model 2 (Random forest)\n",
    "    - Precision: 69%\n",
    "    - Accuracy: 72%\n",
    "       "
   ]
  },
  {
   "cell_type": "markdown",
   "metadata": {},
   "source": [
    "# Conclusion<a id='conclusion'></a>"
   ]
  },
  {
   "cell_type": "markdown",
   "metadata": {},
   "source": [
    "### Acquire\n",
    "- Acquired data from local csv file\n",
    "\n",
    "### Prepare\n",
    "- Prepped data with various changes, namely:\n",
    "    - Dropped columns for various reason\n",
    "        - Some will be restored and explore in a future iteration of this project\n",
    "    - Split column that contained gender and sterilization at time of intake information\n",
    "    - Added boolean columns for categorical data\n",
    "    - Renamed columns\n",
    "    - Dropped null values\n",
    "    - Split Data\n",
    "    \n",
    "### Explore\n",
    "- A lower percentage of animals that are 10 years or older are adopted than their younger counterparts\n",
    "\n",
    "\n",
    "- A percentage of dogs that are adopted is higher than the percentage of cats that are adopted\n",
    "\n",
    "\n",
    "- The percentage of male and female animals adopted are nearly identical\n",
    "\n",
    "\n",
    "- None of the animals in the dataset with ah unknown gender were adopted\n",
    "    - Most of these animal were stray cats who were transferred to another facility\n",
    "    - I'll be exploring these animals more in-depth in my upcoming expansion of this project\n",
    "\n",
    "\n",
    "- The adoption percentage of animals that are sterilized prior to entering the AAC is higher than the adoption percentage of other animals\n",
    "\n",
    "\n",
    "- Dogs of a breed that is perceived as aggressive are adopted less often than other breeds\n",
    "\n",
    "\n",
    "- Two-sample, one-tailed t-test suggested that the average age of adopted animals is lower than the average age of animals that are not adopted\n",
    "\n",
    "\n",
    "- Chi square tests showed that is_adopted and all of the following variables are not independent of each other\n",
    "    - animal_type (cat or dog)\n",
    "    - gender (male, female, unknown)\n",
    "    - agg_breed (if a breed of dog is commonly perceived as aggressive)\n",
    "    - sterilized_income (if an animal was sterilized prior to entering the AAC)\n",
    "    \n",
    "### Model\n",
    "- Created baseline model that produced 56% accuracy on train data\n",
    "\n",
    "\n",
    "- Created 3 alternate models using various algorithms\n",
    "\n",
    "\n",
    "- Best Model was created with the following profile\n",
    "    - Type: Random Forest\n",
    "    - Features: \n",
    "        - age_outcome_days_s (animal's age)\n",
    "        - is_dog (represents if animal is a dog)\n",
    "        - gender_unknown (if animal's gender is unknown)\n",
    "        - sterilized_income (if animal was sterile at time of intake into AAC)\n",
    "        - perceived_agg_breed (if animal's breed is commonly perceived as aggressive)\n",
    "        \n",
    "        \n",
    "- Best model performance on test sample\n",
    "    - Model 2 (Random forest)\n",
    "    - Precision: 69%\n",
    "    - Accuracy: 72%\n",
    "\n",
    "### Recommendations\n",
    "- Develop a program that advocates for the adoption of animals of demographics that are less likely to be adopted\n",
    "    - elderly animals\n",
    "    - cats\n",
    "    - dogs of breeds that are perceived as \"aggressive\"\n",
    "- Sterilize animals prior to adoption\n",
    "\n",
    "\n",
    "### Predictions\n",
    "- By following the recommendations above, the AAC may be able to increase their adoption rates\n",
    "\n",
    "### Plans for the future\n",
    "- I'd like to explore the features that I was not able to explore in this iteration of the project in the interest of time (color, intake/outcome date, etc.)."
   ]
  },
  {
   "cell_type": "code",
   "execution_count": null,
   "metadata": {},
   "outputs": [],
   "source": []
  }
 ],
 "metadata": {
  "kernelspec": {
   "display_name": "Python 3",
   "language": "python",
   "name": "python3"
  },
  "language_info": {
   "codemirror_mode": {
    "name": "ipython",
    "version": 3
   },
   "file_extension": ".py",
   "mimetype": "text/x-python",
   "name": "python",
   "nbconvert_exporter": "python",
   "pygments_lexer": "ipython3",
   "version": "3.7.6"
  }
 },
 "nbformat": 4,
 "nbformat_minor": 4
}
