{
 "cells": [
  {
   "cell_type": "markdown",
   "metadata": {},
   "source": [
    "# Predicting Animal Adoptions and Identifying the Drivers of Adoption\n",
    "***"
   ]
  },
  {
   "cell_type": "markdown",
   "metadata": {},
   "source": [
    "# Table of Contents\n",
    "***\n",
    "\n",
    "## [Goals](#goals)\n",
    "\n",
    "## [Acquire](#acquire)\n",
    "\n",
    "## [Prepare](#prepare)\n",
    "\n",
    "## [Explore](#explore)\n",
    "\n",
    "## [Model](#model)\n",
    "\n",
    "## [Conclusion](#conclusion)\n",
    "<br>"
   ]
  },
  {
   "cell_type": "markdown",
   "metadata": {},
   "source": [
    "# Goals <a id='goals'></a>\n",
    "***"
   ]
  },
  {
   "cell_type": "markdown",
   "metadata": {},
   "source": [
    "My goal for this project are as follows\n",
    "- Identify key variables that drive adoption\n",
    "- Create a model that will acurrately predict if an animal will be adopted based on information about it\n",
    "\n",
    "I will deliver the following \n",
    "- aac_project_notebook.ipynb\n",
    "    - This notebook which provides a start-to-finish walkthrough of the project\n",
    "- README.md\n",
    "    - A markdown file that provides various information about this project including a data dictionary, project plan, and a link to the source data\n",
    "- wrangle.py\n",
    "    - A file that contains all of the custom functions featured in this notebook\n",
    "- A presentation of the project\n",
    "    - A 3-5 minute presentation that summarizes the findings of this project\n",
    "        - The slides for this project can be found at the link below\n",
    "            - <link>"
   ]
  },
  {
   "cell_type": "code",
   "execution_count": 1,
   "metadata": {},
   "outputs": [],
   "source": [
    "# establishing environment\n",
    "import sklearn\n",
    "\n",
    "import pandas as pd\n",
    "import numpy as np\n",
    "import matplotlib.pyplot as plt\n",
    "import seaborn as sns\n",
    "import scipy.stats as stats\n",
    "\n",
    "import warnings\n",
    "warnings.filterwarnings(\"ignore\")\n",
    "\n",
    "from sklearn.metrics import classification_report\n",
    "from sklearn.linear_model import LogisticRegression\n",
    "from sklearn.tree import DecisionTreeClassifier\n",
    "from sklearn.ensemble import RandomForestClassifier\n",
    "from sklearn.neighbors import KNeighborsClassifier\n",
    "from wrangle import get_aac, prep_aac, wrangle_aac"
   ]
  },
  {
   "cell_type": "markdown",
   "metadata": {},
   "source": [
    "# Acquire<a id='acquire'></a>\n",
    "I'll begin by acquiring the data from a local CSV file.\n",
    "***"
   ]
  },
  {
   "cell_type": "code",
   "execution_count": 2,
   "metadata": {
    "scrolled": true
   },
   "outputs": [
    {
     "data": {
      "text/html": [
       "<div>\n",
       "<style scoped>\n",
       "    .dataframe tbody tr th:only-of-type {\n",
       "        vertical-align: middle;\n",
       "    }\n",
       "\n",
       "    .dataframe tbody tr th {\n",
       "        vertical-align: top;\n",
       "    }\n",
       "\n",
       "    .dataframe thead th {\n",
       "        text-align: right;\n",
       "    }\n",
       "</style>\n",
       "<table border=\"1\" class=\"dataframe\">\n",
       "  <thead>\n",
       "    <tr style=\"text-align: right;\">\n",
       "      <th></th>\n",
       "      <th>age_upon_outcome</th>\n",
       "      <th>animal_id</th>\n",
       "      <th>animal_type</th>\n",
       "      <th>breed</th>\n",
       "      <th>color</th>\n",
       "      <th>date_of_birth</th>\n",
       "      <th>datetime</th>\n",
       "      <th>monthyear</th>\n",
       "      <th>name</th>\n",
       "      <th>outcome_subtype</th>\n",
       "      <th>outcome_type</th>\n",
       "      <th>sex_upon_outcome</th>\n",
       "    </tr>\n",
       "  </thead>\n",
       "  <tbody>\n",
       "    <tr>\n",
       "      <th>0</th>\n",
       "      <td>2 weeks</td>\n",
       "      <td>A684346</td>\n",
       "      <td>Cat</td>\n",
       "      <td>Domestic Shorthair Mix</td>\n",
       "      <td>Orange Tabby</td>\n",
       "      <td>2014-07-07T00:00:00</td>\n",
       "      <td>2014-07-22T16:04:00</td>\n",
       "      <td>2014-07-22T16:04:00</td>\n",
       "      <td>NaN</td>\n",
       "      <td>Partner</td>\n",
       "      <td>Transfer</td>\n",
       "      <td>Intact Male</td>\n",
       "    </tr>\n",
       "    <tr>\n",
       "      <th>1</th>\n",
       "      <td>1 year</td>\n",
       "      <td>A666430</td>\n",
       "      <td>Dog</td>\n",
       "      <td>Beagle Mix</td>\n",
       "      <td>White/Brown</td>\n",
       "      <td>2012-11-06T00:00:00</td>\n",
       "      <td>2013-11-07T11:47:00</td>\n",
       "      <td>2013-11-07T11:47:00</td>\n",
       "      <td>Lucy</td>\n",
       "      <td>Partner</td>\n",
       "      <td>Transfer</td>\n",
       "      <td>Spayed Female</td>\n",
       "    </tr>\n",
       "    <tr>\n",
       "      <th>2</th>\n",
       "      <td>1 year</td>\n",
       "      <td>A675708</td>\n",
       "      <td>Dog</td>\n",
       "      <td>Pit Bull</td>\n",
       "      <td>Blue/White</td>\n",
       "      <td>2013-03-31T00:00:00</td>\n",
       "      <td>2014-06-03T14:20:00</td>\n",
       "      <td>2014-06-03T14:20:00</td>\n",
       "      <td>*Johnny</td>\n",
       "      <td>NaN</td>\n",
       "      <td>Adoption</td>\n",
       "      <td>Neutered Male</td>\n",
       "    </tr>\n",
       "    <tr>\n",
       "      <th>3</th>\n",
       "      <td>9 years</td>\n",
       "      <td>A680386</td>\n",
       "      <td>Dog</td>\n",
       "      <td>Miniature Schnauzer Mix</td>\n",
       "      <td>White</td>\n",
       "      <td>2005-06-02T00:00:00</td>\n",
       "      <td>2014-06-15T15:50:00</td>\n",
       "      <td>2014-06-15T15:50:00</td>\n",
       "      <td>Monday</td>\n",
       "      <td>Partner</td>\n",
       "      <td>Transfer</td>\n",
       "      <td>Neutered Male</td>\n",
       "    </tr>\n",
       "    <tr>\n",
       "      <th>4</th>\n",
       "      <td>5 months</td>\n",
       "      <td>A683115</td>\n",
       "      <td>Other</td>\n",
       "      <td>Bat Mix</td>\n",
       "      <td>Brown</td>\n",
       "      <td>2014-01-07T00:00:00</td>\n",
       "      <td>2014-07-07T14:04:00</td>\n",
       "      <td>2014-07-07T14:04:00</td>\n",
       "      <td>NaN</td>\n",
       "      <td>Rabies Risk</td>\n",
       "      <td>Euthanasia</td>\n",
       "      <td>Unknown</td>\n",
       "    </tr>\n",
       "  </tbody>\n",
       "</table>\n",
       "</div>"
      ],
      "text/plain": [
       "  age_upon_outcome animal_id animal_type                    breed  \\\n",
       "0          2 weeks   A684346         Cat   Domestic Shorthair Mix   \n",
       "1           1 year   A666430         Dog               Beagle Mix   \n",
       "2           1 year   A675708         Dog                 Pit Bull   \n",
       "3          9 years   A680386         Dog  Miniature Schnauzer Mix   \n",
       "4         5 months   A683115       Other                  Bat Mix   \n",
       "\n",
       "          color        date_of_birth             datetime  \\\n",
       "0  Orange Tabby  2014-07-07T00:00:00  2014-07-22T16:04:00   \n",
       "1   White/Brown  2012-11-06T00:00:00  2013-11-07T11:47:00   \n",
       "2    Blue/White  2013-03-31T00:00:00  2014-06-03T14:20:00   \n",
       "3         White  2005-06-02T00:00:00  2014-06-15T15:50:00   \n",
       "4         Brown  2014-01-07T00:00:00  2014-07-07T14:04:00   \n",
       "\n",
       "             monthyear     name outcome_subtype outcome_type sex_upon_outcome  \n",
       "0  2014-07-22T16:04:00      NaN         Partner     Transfer      Intact Male  \n",
       "1  2013-11-07T11:47:00     Lucy         Partner     Transfer    Spayed Female  \n",
       "2  2014-06-03T14:20:00  *Johnny             NaN     Adoption    Neutered Male  \n",
       "3  2014-06-15T15:50:00   Monday         Partner     Transfer    Neutered Male  \n",
       "4  2014-07-07T14:04:00      NaN     Rabies Risk   Euthanasia          Unknown  "
      ]
     },
     "execution_count": 2,
     "metadata": {},
     "output_type": "execute_result"
    }
   ],
   "source": [
    "# reading data in as DF\n",
    "df = get_aac()\n",
    "\n",
    "# previewing data\n",
    "df.head()"
   ]
  },
  {
   "cell_type": "markdown",
   "metadata": {},
   "source": [
    "### Acquire Takeaways\n",
    "- Acquired data from local csv file using pandas __read_csv__ function\n",
    "- Data can also be acquired via the __wrangle_aac__ function in the __wrangle.py__ file\n",
    "    - Note that the __wrangle_aac__ function will also prep the data for exploration"
   ]
  },
  {
   "cell_type": "markdown",
   "metadata": {},
   "source": [
    "# Prepare<a id='prepare'></a>\n",
    "I'm now going to prepare the data for exploration.\n",
    "***"
   ]
  },
  {
   "cell_type": "code",
   "execution_count": 3,
   "metadata": {},
   "outputs": [
    {
     "name": "stdout",
     "output_type": "stream",
     "text": [
      "<class 'pandas.core.frame.DataFrame'>\n",
      "RangeIndex: 78256 entries, 0 to 78255\n",
      "Data columns (total 12 columns):\n",
      " #   Column            Non-Null Count  Dtype \n",
      "---  ------            --------------  ----- \n",
      " 0   age_upon_outcome  78248 non-null  object\n",
      " 1   animal_id         78256 non-null  object\n",
      " 2   animal_type       78256 non-null  object\n",
      " 3   breed             78256 non-null  object\n",
      " 4   color             78256 non-null  object\n",
      " 5   date_of_birth     78256 non-null  object\n",
      " 6   datetime          78256 non-null  object\n",
      " 7   monthyear         78256 non-null  object\n",
      " 8   name              54370 non-null  object\n",
      " 9   outcome_subtype   35963 non-null  object\n",
      " 10  outcome_type      78244 non-null  object\n",
      " 11  sex_upon_outcome  78254 non-null  object\n",
      "dtypes: object(12)\n",
      "memory usage: 7.2+ MB\n"
     ]
    }
   ],
   "source": [
    "# previewing data for null value counts and data types\n",
    "df.info()"
   ]
  },
  {
   "cell_type": "code",
   "execution_count": 4,
   "metadata": {
    "scrolled": true
   },
   "outputs": [
    {
     "data": {
      "text/plain": [
       "1 year      14355\n",
       "2 years     11194\n",
       "2 months     9213\n",
       "3 years      5157\n",
       "3 months     3442\n",
       "1 month      3344\n",
       "4 years      2990\n",
       "5 years      2691\n",
       "4 months     2425\n",
       "5 months     1951\n",
       "Name: age_upon_outcome, dtype: int64"
      ]
     },
     "execution_count": 4,
     "metadata": {},
     "output_type": "execute_result"
    }
   ],
   "source": [
    "# previewing age_upon_outcome values\n",
    "df.age_upon_outcome.value_counts().head(10)"
   ]
  },
  {
   "cell_type": "code",
   "execution_count": 5,
   "metadata": {
    "scrolled": true
   },
   "outputs": [
    {
     "data": {
      "text/plain": [
       "Dog          44242\n",
       "Cat          29422\n",
       "Other         4249\n",
       "Bird           334\n",
       "Livestock        9\n",
       "Name: animal_type, dtype: int64"
      ]
     },
     "execution_count": 5,
     "metadata": {},
     "output_type": "execute_result"
    }
   ],
   "source": [
    "# previewing animal_type values\n",
    "df.animal_type.value_counts()"
   ]
  },
  {
   "cell_type": "code",
   "execution_count": 6,
   "metadata": {},
   "outputs": [
    {
     "data": {
      "text/plain": [
       "Adoption           33112\n",
       "Transfer           23499\n",
       "Return to Owner    14354\n",
       "Euthanasia          6080\n",
       "Died                 680\n",
       "Disposal             307\n",
       "Rto-Adopt            150\n",
       "Missing               46\n",
       "Relocate              16\n",
       "Name: outcome_type, dtype: int64"
      ]
     },
     "execution_count": 6,
     "metadata": {},
     "output_type": "execute_result"
    }
   ],
   "source": [
    "# previewing outcome_type values\n",
    "df.outcome_type.value_counts()"
   ]
  },
  {
   "cell_type": "code",
   "execution_count": 7,
   "metadata": {},
   "outputs": [
    {
     "data": {
      "text/plain": [
       "Neutered Male    27784\n",
       "Spayed Female    25203\n",
       "Intact Male       9549\n",
       "Intact Female     9143\n",
       "Unknown           6575\n",
       "Name: sex_upon_outcome, dtype: int64"
      ]
     },
     "execution_count": 7,
     "metadata": {},
     "output_type": "execute_result"
    }
   ],
   "source": [
    "# previewing sex_upon_outcome values\n",
    "df.sex_upon_outcome.value_counts()"
   ]
  },
  {
   "cell_type": "markdown",
   "metadata": {},
   "source": [
    "### Prepping Data via prep_aac function"
   ]
  },
  {
   "cell_type": "code",
   "execution_count": 8,
   "metadata": {},
   "outputs": [],
   "source": [
    "# prepping data with changes outlined in prepare takeaway section\n",
    "train, validate, test = prep_aac(df)"
   ]
  },
  {
   "cell_type": "code",
   "execution_count": 9,
   "metadata": {},
   "outputs": [
    {
     "data": {
      "text/html": [
       "<div>\n",
       "<style scoped>\n",
       "    .dataframe tbody tr th:only-of-type {\n",
       "        vertical-align: middle;\n",
       "    }\n",
       "\n",
       "    .dataframe tbody tr th {\n",
       "        vertical-align: top;\n",
       "    }\n",
       "\n",
       "    .dataframe thead th {\n",
       "        text-align: right;\n",
       "    }\n",
       "</style>\n",
       "<table border=\"1\" class=\"dataframe\">\n",
       "  <thead>\n",
       "    <tr style=\"text-align: right;\">\n",
       "      <th></th>\n",
       "      <th>animal_type</th>\n",
       "      <th>is_cat</th>\n",
       "      <th>is_dog</th>\n",
       "      <th>is_other</th>\n",
       "      <th>sex</th>\n",
       "      <th>is_male</th>\n",
       "      <th>is_female</th>\n",
       "      <th>sex_unknown</th>\n",
       "      <th>is_neutered_or_spayed</th>\n",
       "      <th>age_in_weeks</th>\n",
       "      <th>age_in_weeks_s</th>\n",
       "      <th>is_adopted</th>\n",
       "    </tr>\n",
       "  </thead>\n",
       "  <tbody>\n",
       "    <tr>\n",
       "      <th>11259</th>\n",
       "      <td>cat</td>\n",
       "      <td>1</td>\n",
       "      <td>0</td>\n",
       "      <td>0</td>\n",
       "      <td>Male</td>\n",
       "      <td>1</td>\n",
       "      <td>0</td>\n",
       "      <td>0</td>\n",
       "      <td>1</td>\n",
       "      <td>312</td>\n",
       "      <td>0.240000</td>\n",
       "      <td>0</td>\n",
       "    </tr>\n",
       "    <tr>\n",
       "      <th>6981</th>\n",
       "      <td>cat</td>\n",
       "      <td>1</td>\n",
       "      <td>0</td>\n",
       "      <td>0</td>\n",
       "      <td>Male</td>\n",
       "      <td>1</td>\n",
       "      <td>0</td>\n",
       "      <td>0</td>\n",
       "      <td>0</td>\n",
       "      <td>104</td>\n",
       "      <td>0.080000</td>\n",
       "      <td>0</td>\n",
       "    </tr>\n",
       "    <tr>\n",
       "      <th>17670</th>\n",
       "      <td>dog</td>\n",
       "      <td>0</td>\n",
       "      <td>1</td>\n",
       "      <td>0</td>\n",
       "      <td>Male</td>\n",
       "      <td>1</td>\n",
       "      <td>0</td>\n",
       "      <td>0</td>\n",
       "      <td>1</td>\n",
       "      <td>28</td>\n",
       "      <td>0.021538</td>\n",
       "      <td>1</td>\n",
       "    </tr>\n",
       "    <tr>\n",
       "      <th>65805</th>\n",
       "      <td>cat</td>\n",
       "      <td>1</td>\n",
       "      <td>0</td>\n",
       "      <td>0</td>\n",
       "      <td>Male</td>\n",
       "      <td>1</td>\n",
       "      <td>0</td>\n",
       "      <td>0</td>\n",
       "      <td>1</td>\n",
       "      <td>12</td>\n",
       "      <td>0.009231</td>\n",
       "      <td>1</td>\n",
       "    </tr>\n",
       "    <tr>\n",
       "      <th>36724</th>\n",
       "      <td>dog</td>\n",
       "      <td>0</td>\n",
       "      <td>1</td>\n",
       "      <td>0</td>\n",
       "      <td>Male</td>\n",
       "      <td>1</td>\n",
       "      <td>0</td>\n",
       "      <td>0</td>\n",
       "      <td>1</td>\n",
       "      <td>20</td>\n",
       "      <td>0.015385</td>\n",
       "      <td>1</td>\n",
       "    </tr>\n",
       "  </tbody>\n",
       "</table>\n",
       "</div>"
      ],
      "text/plain": [
       "      animal_type  is_cat  is_dog  is_other   sex  is_male  is_female  \\\n",
       "11259         cat       1       0         0  Male        1          0   \n",
       "6981          cat       1       0         0  Male        1          0   \n",
       "17670         dog       0       1         0  Male        1          0   \n",
       "65805         cat       1       0         0  Male        1          0   \n",
       "36724         dog       0       1         0  Male        1          0   \n",
       "\n",
       "       sex_unknown  is_neutered_or_spayed  age_in_weeks  age_in_weeks_s  \\\n",
       "11259            0                      1           312        0.240000   \n",
       "6981             0                      0           104        0.080000   \n",
       "17670            0                      1            28        0.021538   \n",
       "65805            0                      1            12        0.009231   \n",
       "36724            0                      1            20        0.015385   \n",
       "\n",
       "       is_adopted  \n",
       "11259           0  \n",
       "6981            0  \n",
       "17670           1  \n",
       "65805           1  \n",
       "36724           1  "
      ]
     },
     "execution_count": 9,
     "metadata": {},
     "output_type": "execute_result"
    }
   ],
   "source": [
    "# previewing train df\n",
    "train.head()"
   ]
  },
  {
   "cell_type": "markdown",
   "metadata": {},
   "source": [
    "### Prepare Takeaways\n",
    "After reviewing the data for this project, I elected to make the following changes by creating a function, __prep_aac__, located in the __wrangle.py file__. \n",
    "\n",
    "Alternatively, the __wrangle_aac__ function from the __wrangle.py file__ can be ran to both acquire and prep the data simultaneously.\n",
    "\n",
    "- Drop the following columns\n",
    "    - animal_id\n",
    "        - Unique id's won't be useful in predicting outcomes\n",
    "    - breed\n",
    "        - Highly variable, categorical column. \n",
    "        - At a later time I'd like to bin these values and explore them for statistical signifigance\n",
    "    - color\n",
    "        - Highly variable, categorical column. \n",
    "        - At a later time I'd like to bin these values and explore them for statistical signifigance\n",
    "    - date_of_birth\n",
    "        - Since I have the age of each animal at the time of outcome, I won't need to calculate their age using this variable\n",
    "    - datetime, monthyear\n",
    "        - Duplicate columns that presumably reflect when an outcome (adopted, transferred, etc.) occured\n",
    "        - The scope of this project will only include data pertaining to outcomes, at a later time I will expand this scope to include data from when each animal was inducted and at that time I will make use of one of these columns\n",
    "    - outcome_subtype\n",
    "        - Gives details about outcome (example: why was an animal euthanised?)\n",
    "        - May prove useful but appears to only be known when the outcome is known (example: (outcome_subtype partner) (outcome_type: transfer) could only be known when an animal is set for transfer to a partner)\n",
    "        - The value of this project is to create a model that will predict if an animal will be adopted, so outcome_subtype probably wouldn't be set until outcome is set, so I'm going to drop it for now\n",
    "- Rename columns where appropriate to better reflect the data they represent\n",
    "- Convert age_upon_outcome to value representing weeks\n",
    "    - Create scaled version of this column if this becomes a model feature\n",
    "- Add boolean columns for animal type\n",
    "    - is_cat\n",
    "    - is_dog\n",
    "    - Bird and Livestock will be converted to \"is_other\" since they make up a very small % of the overall amount\n",
    "- Transform outcome_type to binary categorical column 'is_adopted' \n",
    "- Split sex_upon_outcome into categorical columns for neutered/spaded and sex\n",
    "    - is_neutered_or_spaded\n",
    "    - is_male\n",
    "    - is_female\n",
    "    - sex_unknown\n",
    "- Drop null values\n",
    "    - Very few nulls so dropping won't have a meaningful impact\n",
    "- Splitting data into train, validate, and test sets"
   ]
  },
  {
   "cell_type": "markdown",
   "metadata": {},
   "source": [
    "# Explore<a id='explore'></a>\n",
    "I'm now going to explore the data using plots and hypothesis tests to identify drivers of adoption.\n",
    "***"
   ]
  },
  {
   "cell_type": "markdown",
   "metadata": {},
   "source": [
    "### Features: age_in_weeks, animal_type \n",
    "Plotting to see a get a general view of the two variables I initally thought would be the most impactful, age and animal type."
   ]
  },
  {
   "cell_type": "code",
   "execution_count": 170,
   "metadata": {},
   "outputs": [
    {
     "data": {
      "text/plain": [
       "Text(0.5, 1.0, 'Young Cats and Dogs are Adopted More Often')"
      ]
     },
     "execution_count": 170,
     "metadata": {},
     "output_type": "execute_result"
    },
    {
     "data": {
      "image/png": "[encoded data removed]",
      "text/plain": [
       "<Figure size 720x720 with 1 Axes>"
      ]
     },
     "metadata": {},
     "output_type": "display_data"
    }
   ],
   "source": [
    "# Our current train DF has over 40,000 rows. To avoid lengthy load times while working with the swarmplot\n",
    "# I'm going to plot a sample of the train set instead\n",
    "swarm = train.sample(frac=0.03, replace = False, random_state=123)\n",
    "\n",
    "# converting age to years\n",
    "swarm.age_in_weeks = swarm.age_in_weeks / 52\n",
    "\n",
    "# removing unneeded columns in swarm DF\n",
    "swarm = swarm[['age_in_weeks', 'is_adopted', 'animal_type']]\n",
    "\n",
    "# renaming columns so the plots labels are easier to read\n",
    "swarm.columns = ['Age (Years)', 'Adoption Status', 'Species']\n",
    "\n",
    "# changing boolean values to be more fitting as x axis labels\n",
    "swarm['Adoption Status'] = np.where((swarm['Adoption Status'] == 1), 'Adopted', 'Not Adopted')\n",
    "\n",
    "# creating swam plot\n",
    "fig, ax = plt.subplots(figsize=(10,10))\n",
    "ax.set(xticks = [0,1])\n",
    "ax = sns.swarmplot(x=\"Adoption Status\", y=\"Age (Years)\", data=swarm, hue = 'Species')\n",
    "plt.legend(bbox_to_anchor=(1.30, 1), title ='Species')\n",
    "plt.title('Young Cats and Dogs are Adopted More Often')"
   ]
  },
  {
   "cell_type": "markdown",
   "metadata": {},
   "source": [
    "- As a city shelter, the AAC seems to take in more cats and dogs than other species\n",
    "    - This would explain why there are so few \"other\" animal types in general\n",
    "    - The \"other\" animal types may have lower rates of adoption none the less so further exploration is needed\n",
    "- Seems that younger animals are preferred for adoption over older animals but further exploration is needed"
   ]
  },
  {
   "cell_type": "markdown",
   "metadata": {},
   "source": [
    "## Feature: animal_type"
   ]
  },
  {
   "cell_type": "markdown",
   "metadata": {},
   "source": [
    "### Crosstab"
   ]
  },
  {
   "cell_type": "code",
   "execution_count": 10,
   "metadata": {},
   "outputs": [
    {
     "data": {
      "text/html": [
       "<div>\n",
       "<style scoped>\n",
       "    .dataframe tbody tr th:only-of-type {\n",
       "        vertical-align: middle;\n",
       "    }\n",
       "\n",
       "    .dataframe tbody tr th {\n",
       "        vertical-align: top;\n",
       "    }\n",
       "\n",
       "    .dataframe thead th {\n",
       "        text-align: right;\n",
       "    }\n",
       "</style>\n",
       "<table border=\"1\" class=\"dataframe\">\n",
       "  <thead>\n",
       "    <tr style=\"text-align: right;\">\n",
       "      <th>is_adopted</th>\n",
       "      <th>0</th>\n",
       "      <th>1</th>\n",
       "    </tr>\n",
       "    <tr>\n",
       "      <th>animal_type</th>\n",
       "      <th></th>\n",
       "      <th></th>\n",
       "    </tr>\n",
       "  </thead>\n",
       "  <tbody>\n",
       "    <tr>\n",
       "      <th>cat</th>\n",
       "      <td>9331</td>\n",
       "      <td>7114</td>\n",
       "    </tr>\n",
       "    <tr>\n",
       "      <th>dog</th>\n",
       "      <td>13467</td>\n",
       "      <td>11381</td>\n",
       "    </tr>\n",
       "    <tr>\n",
       "      <th>other</th>\n",
       "      <td>2354</td>\n",
       "      <td>165</td>\n",
       "    </tr>\n",
       "  </tbody>\n",
       "</table>\n",
       "</div>"
      ],
      "text/plain": [
       "is_adopted       0      1\n",
       "animal_type              \n",
       "cat           9331   7114\n",
       "dog          13467  11381\n",
       "other         2354    165"
      ]
     },
     "execution_count": 10,
     "metadata": {},
     "output_type": "execute_result"
    }
   ],
   "source": [
    "# creating crosstab using animal_type and is_adopted columns\n",
    "observed_atype = pd.crosstab(train.animal_type, train.is_adopted)\n",
    "\n",
    "observed_atype "
   ]
  },
  {
   "cell_type": "markdown",
   "metadata": {},
   "source": [
    "- Crosstab reflects that the % of dog and cat adoptions is much higher than other animal types"
   ]
  },
  {
   "cell_type": "markdown",
   "metadata": {},
   "source": [
    "### Visualization"
   ]
  },
  {
   "cell_type": "code",
   "execution_count": 11,
   "metadata": {},
   "outputs": [],
   "source": [
    "# setting figure and text size for all plots\n",
    "sns.set(rc = {'figure.figsize':(12,6)})\n",
    "sns.set(font_scale = 2)"
   ]
  },
  {
   "cell_type": "code",
   "execution_count": 12,
   "metadata": {},
   "outputs": [
    {
     "data": {
      "text/plain": [
       "<matplotlib.legend.Legend at 0x7fbf67a09d90>"
      ]
     },
     "execution_count": 12,
     "metadata": {},
     "output_type": "execute_result"
    },
    {
     "data": {
      "image/png": "[encoded data removed]",
      "text/plain": [
       "<Figure size 864x432 with 1 Axes>"
      ]
     },
     "metadata": {},
     "output_type": "display_data"
    }
   ],
   "source": [
    "# renaming crosstab columns and index for use in plot\n",
    "observed_atype.columns = ['Not Adopted', 'Adopted']\n",
    "observed_atype.index = ['Cat', 'Dog', 'Other']\n",
    "\n",
    "# creating barplot\n",
    "atype_plot = observed_atype / 1000\n",
    "atype_plot.plot.bar(stacked=True, rot=0)\n",
    "plt.ylabel('Number of Animals (Thousands)')\n",
    "plt.xlabel('Animal Species')\n",
    "plt.title('Cat and Dog Adoption % are Higher than Other Species')\n",
    "plt.legend(bbox_to_anchor=(1.33,1))"
   ]
  },
  {
   "cell_type": "markdown",
   "metadata": {},
   "source": [
    "### Chi-Squared Test"
   ]
  },
  {
   "cell_type": "markdown",
   "metadata": {},
   "source": [
    "### Hypothesis\n",
    "<br>\n",
    "H0: Adoption is independent of animal type\n",
    "<br>\n",
    "Ha: Adoption is not independent of animal type"
   ]
  },
  {
   "cell_type": "code",
   "execution_count": 13,
   "metadata": {
    "scrolled": true
   },
   "outputs": [
    {
     "name": "stdout",
     "output_type": "stream",
     "text": [
      "alpha = .05\n",
      "\n",
      "p = 0.0000\n"
     ]
    }
   ],
   "source": [
    "# calculating chi^2, p value, degrees of freedom and expected values\n",
    "chi2, p, degf, expected = stats.chi2_contingency(observed_atype)\n",
    "\n",
    "# printing results\n",
    "print('alpha = .05\\n')\n",
    "print(f'p = {p:.4f}')"
   ]
  },
  {
   "cell_type": "markdown",
   "metadata": {},
   "source": [
    "- Since p is less than alpha, I'm rejecting the null hypothesis that adoption is independent of animal type"
   ]
  },
  {
   "cell_type": "markdown",
   "metadata": {},
   "source": [
    "## Feature: sex"
   ]
  },
  {
   "cell_type": "markdown",
   "metadata": {},
   "source": [
    "### Crosstab"
   ]
  },
  {
   "cell_type": "code",
   "execution_count": 14,
   "metadata": {},
   "outputs": [
    {
     "data": {
      "text/html": [
       "<div>\n",
       "<style scoped>\n",
       "    .dataframe tbody tr th:only-of-type {\n",
       "        vertical-align: middle;\n",
       "    }\n",
       "\n",
       "    .dataframe tbody tr th {\n",
       "        vertical-align: top;\n",
       "    }\n",
       "\n",
       "    .dataframe thead th {\n",
       "        text-align: right;\n",
       "    }\n",
       "</style>\n",
       "<table border=\"1\" class=\"dataframe\">\n",
       "  <thead>\n",
       "    <tr style=\"text-align: right;\">\n",
       "      <th>is_adopted</th>\n",
       "      <th>0</th>\n",
       "      <th>1</th>\n",
       "    </tr>\n",
       "    <tr>\n",
       "      <th>sex</th>\n",
       "      <th></th>\n",
       "      <th></th>\n",
       "    </tr>\n",
       "  </thead>\n",
       "  <tbody>\n",
       "    <tr>\n",
       "      <th>Female</th>\n",
       "      <td>9889</td>\n",
       "      <td>9329</td>\n",
       "    </tr>\n",
       "    <tr>\n",
       "      <th>Male</th>\n",
       "      <td>11670</td>\n",
       "      <td>9301</td>\n",
       "    </tr>\n",
       "    <tr>\n",
       "      <th>Unknown</th>\n",
       "      <td>3593</td>\n",
       "      <td>30</td>\n",
       "    </tr>\n",
       "  </tbody>\n",
       "</table>\n",
       "</div>"
      ],
      "text/plain": [
       "is_adopted      0     1\n",
       "sex                    \n",
       "Female       9889  9329\n",
       "Male        11670  9301\n",
       "Unknown      3593    30"
      ]
     },
     "execution_count": 14,
     "metadata": {},
     "output_type": "execute_result"
    }
   ],
   "source": [
    "# creating crosstab using sex and is_adopted columns\n",
    "observed_sex = pd.crosstab(train.sex, train.is_adopted)\n",
    "\n",
    "observed_sex"
   ]
  },
  {
   "cell_type": "markdown",
   "metadata": {},
   "source": [
    "- Crosstab shows animals of an unidentified sex are rarely adopted\n",
    "- Confirmed male and female animals are much more likely to be adopted\n",
    "    - Males seem to have a moderage edge over females in their likelihood of being adopted"
   ]
  },
  {
   "cell_type": "markdown",
   "metadata": {},
   "source": [
    "### Visualization"
   ]
  },
  {
   "cell_type": "code",
   "execution_count": 15,
   "metadata": {},
   "outputs": [
    {
     "data": {
      "text/plain": [
       "<matplotlib.legend.Legend at 0x7fbf6cb36b90>"
      ]
     },
     "execution_count": 15,
     "metadata": {},
     "output_type": "execute_result"
    },
    {
     "data": {
      "image/png": "[encoded data removed]",
      "text/plain": [
       "<Figure size 864x432 with 1 Axes>"
      ]
     },
     "metadata": {},
     "output_type": "display_data"
    }
   ],
   "source": [
    "# renaming crosstab columns for plot\n",
    "observed_sex.columns = ['Not Adopted', 'Adopted']\n",
    "\n",
    "# creating barplot \n",
    "sex_plot = observed_sex / 1000\n",
    "sex_plot.plot.bar(stacked=True, rot=0)\n",
    "plt.ylabel('Number of Animals (Thousands)')\n",
    "plt.xlabel('Sex')\n",
    "plt.title('Majority of Adopted Animals are Male')\n",
    "plt.legend(bbox_to_anchor=(1.33,1))"
   ]
  },
  {
   "cell_type": "markdown",
   "metadata": {},
   "source": [
    "### Chi-Squared Test"
   ]
  },
  {
   "cell_type": "markdown",
   "metadata": {},
   "source": [
    "### Hypothesis\n",
    "<br>\n",
    "H0: Adoption is independent of sex\n",
    "<br>\n",
    "Ha: Adoption is not independent of sex"
   ]
  },
  {
   "cell_type": "code",
   "execution_count": 16,
   "metadata": {
    "scrolled": true
   },
   "outputs": [
    {
     "name": "stdout",
     "output_type": "stream",
     "text": [
      "alpha = .05\n",
      "\n",
      "p     = 0.0000\n"
     ]
    }
   ],
   "source": [
    "# calculating chi^2, p value, degrees of freedom and expected values\n",
    "chi2, p, degf, expected = stats.chi2_contingency(observed_sex)\n",
    "\n",
    "# printing results\n",
    "print('alpha = .05\\n')\n",
    "print(f'p     = {p:.4f}')"
   ]
  },
  {
   "cell_type": "markdown",
   "metadata": {},
   "source": [
    "- Since p is less than alpha, I'm rejecting the null hypothesis that adoption is independent of sex"
   ]
  },
  {
   "cell_type": "markdown",
   "metadata": {},
   "source": [
    "## Feature: neutered_or_spayed"
   ]
  },
  {
   "cell_type": "markdown",
   "metadata": {},
   "source": [
    "### Crosstab"
   ]
  },
  {
   "cell_type": "code",
   "execution_count": 17,
   "metadata": {
    "scrolled": true
   },
   "outputs": [
    {
     "data": {
      "text/html": [
       "<div>\n",
       "<style scoped>\n",
       "    .dataframe tbody tr th:only-of-type {\n",
       "        vertical-align: middle;\n",
       "    }\n",
       "\n",
       "    .dataframe tbody tr th {\n",
       "        vertical-align: top;\n",
       "    }\n",
       "\n",
       "    .dataframe thead th {\n",
       "        text-align: right;\n",
       "    }\n",
       "</style>\n",
       "<table border=\"1\" class=\"dataframe\">\n",
       "  <thead>\n",
       "    <tr style=\"text-align: right;\">\n",
       "      <th>is_adopted</th>\n",
       "      <th>0</th>\n",
       "      <th>1</th>\n",
       "    </tr>\n",
       "    <tr>\n",
       "      <th>is_neutered_or_spayed</th>\n",
       "      <th></th>\n",
       "      <th></th>\n",
       "    </tr>\n",
       "  </thead>\n",
       "  <tbody>\n",
       "    <tr>\n",
       "      <th>0</th>\n",
       "      <td>13276</td>\n",
       "      <td>842</td>\n",
       "    </tr>\n",
       "    <tr>\n",
       "      <th>1</th>\n",
       "      <td>11876</td>\n",
       "      <td>17818</td>\n",
       "    </tr>\n",
       "  </tbody>\n",
       "</table>\n",
       "</div>"
      ],
      "text/plain": [
       "is_adopted                 0      1\n",
       "is_neutered_or_spayed              \n",
       "0                      13276    842\n",
       "1                      11876  17818"
      ]
     },
     "execution_count": 17,
     "metadata": {},
     "output_type": "execute_result"
    }
   ],
   "source": [
    "# creating crosstab using is_neutered_or_spayed column and is_adopted column\n",
    "observed_nors = pd.crosstab(train.is_neutered_or_spayed, train.is_adopted)\n",
    "\n",
    "observed_nors"
   ]
  },
  {
   "cell_type": "markdown",
   "metadata": {},
   "source": [
    "- Crosstab shows that neutered and spayed animals are adopted more often than their intact counterparts"
   ]
  },
  {
   "cell_type": "markdown",
   "metadata": {},
   "source": [
    "### Visualization"
   ]
  },
  {
   "cell_type": "code",
   "execution_count": 18,
   "metadata": {},
   "outputs": [
    {
     "data": {
      "text/plain": [
       "<matplotlib.legend.Legend at 0x7fbf6caf6b10>"
      ]
     },
     "execution_count": 18,
     "metadata": {},
     "output_type": "execute_result"
    },
    {
     "data": {
      "image/png": "[encoded data removed]",
      "text/plain": [
       "<Figure size 864x432 with 1 Axes>"
      ]
     },
     "metadata": {},
     "output_type": "display_data"
    }
   ],
   "source": [
    "# renaming crosstab index and columns for plot\n",
    "observed_nors.index = ['Not Neutered or Spayed', 'Neutered or Spayed']\n",
    "observed_nors.columns = ['Not Adopted', 'Adopted']\n",
    "\n",
    "# creating barplot\n",
    "nors_plot = observed_nors / 1000\n",
    "nors_plot.plot.bar(stacked=True, rot=0)\n",
    "plt.ylabel('Number of Animals (Thousands)')\n",
    "plt.title('Majority of Adopted Animals are Neutered or Spayed')\n",
    "plt.legend(bbox_to_anchor=(1,1))"
   ]
  },
  {
   "cell_type": "markdown",
   "metadata": {},
   "source": [
    "### Chi-Squared Test"
   ]
  },
  {
   "cell_type": "markdown",
   "metadata": {},
   "source": [
    "### Hypothesis\n",
    "<br>\n",
    "H0: Adoption is independent of whether an animal is neutered of spayed\n",
    "<br>\n",
    "Ha: Adoption is not independent of whether an animal is neutered of spayed"
   ]
  },
  {
   "cell_type": "code",
   "execution_count": 19,
   "metadata": {},
   "outputs": [
    {
     "name": "stdout",
     "output_type": "stream",
     "text": [
      "alpha = .05\n",
      "\n",
      "p = 0.0000\n"
     ]
    }
   ],
   "source": [
    "# calculating chi^2, p value, degrees of freedom and expected values\n",
    "chi2, p, degf, expected = stats.chi2_contingency(observed_nors)\n",
    "\n",
    "# printing results\n",
    "print('alpha = .05\\n')\n",
    "print(f'p = {p:.4f}')"
   ]
  },
  {
   "cell_type": "markdown",
   "metadata": {},
   "source": [
    "- Since p is less than alpha, I'm rejecting the null hypothesis that adoption is independent of whether an animal is neutered or spayed"
   ]
  },
  {
   "cell_type": "markdown",
   "metadata": {},
   "source": [
    "## Feature: age_in_weeks"
   ]
  },
  {
   "cell_type": "markdown",
   "metadata": {},
   "source": [
    "### Visualization"
   ]
  },
  {
   "cell_type": "code",
   "execution_count": 20,
   "metadata": {},
   "outputs": [
    {
     "data": {
      "image/png": "[encoded data removed]",
      "text/plain": [
       "<Figure size 864x432 with 1 Axes>"
      ]
     },
     "metadata": {},
     "output_type": "display_data"
    }
   ],
   "source": [
    "# creating series of data from adopted animals\n",
    "adopted = train[train.is_adopted == 1].age_in_weeks\n",
    "\n",
    "# creating histogram of adopted animal ages\n",
    "fig, ax1 = plt.subplots()\n",
    "ax1.hist(adopted / 52)\n",
    "y_vals = ax1.get_yticks()\n",
    "ax1.set_yticklabels(['{:5.0f}'.format(x / 100) for x in y_vals])\n",
    "ax1.set_xticklabels(np.arange(0, 18, step=1))\n",
    "plt.xlabel('Age at Adoption (Years)')\n",
    "plt.ylabel('Number of Animals (Hundreds)')\n",
    "plt.title('Majority of Adopted Animals are Less than 1 Year Old')\n",
    "ax1.margins(x=0)\n",
    "plt.show()"
   ]
  },
  {
   "cell_type": "markdown",
   "metadata": {},
   "source": [
    "### Two-Sample, One-Tailed T-Test"
   ]
  },
  {
   "cell_type": "markdown",
   "metadata": {},
   "source": [
    "### Hypothesis\n",
    "<br>\n",
    "H0: The average age of animals who are adopted is equal to or greater than the average age of animals who are not adopted\n",
    "<br>\n",
    "Ha: The average age of animals who are adopted is less than the average age of animals who are not adopted"
   ]
  },
  {
   "cell_type": "code",
   "execution_count": 21,
   "metadata": {},
   "outputs": [
    {
     "name": "stdout",
     "output_type": "stream",
     "text": [
      "alpha = .05\n",
      "\n",
      "p = 1.7634740875777462e-182\n",
      "t =  -28.919521980419926\n"
     ]
    }
   ],
   "source": [
    "# x1 = series of ages of animals who were adopted\n",
    "# x2 = series of ages of animals who were not adopted\n",
    "x1 = train[train.is_adopted == 1].age_in_weeks\n",
    "x2 = train[train.is_adopted == 0].age_in_weeks\n",
    "\n",
    "# performing t-test\n",
    "t, p = stats.ttest_ind(x1, x2)\n",
    "\n",
    "# printing results\n",
    "print(f'alpha = .05\\n')\n",
    "print (f'p = {p/2}')\n",
    "print (f't = ',t)"
   ]
  },
  {
   "cell_type": "markdown",
   "metadata": {},
   "source": [
    "- Since p is less than alpha and t is negative, I'm rejecting the null hypothesis that the average age of animals who are adopted is equal to or greater than the average age of animals who are not adopted"
   ]
  },
  {
   "cell_type": "markdown",
   "metadata": {},
   "source": [
    "### Exploration Takeaways\n",
    "- Crosstabs showed stark differences in the adoption rates of animals with animal type \"unknown\", unidentified sex, and those who had not been spayed or neutered from their alternate counterparts\n",
    "    - These differences were also reflected in bar plots produced by their data\n",
    "- Chi-squared tests showed that animal type, sex, and whether an animal is spayed or neutred are not independent of whether an animal is adopted \n",
    "- A two-sample, one-tailed t-test gave evidence that the average age of adopted animals is lower than the average age of unadopted animals"
   ]
  },
  {
   "cell_type": "markdown",
   "metadata": {},
   "source": [
    "# Model<a id='model'></a>\n",
    "I'll now create several models that will predict whether an animal was adopted based on it's various features.\n",
    "***"
   ]
  },
  {
   "cell_type": "markdown",
   "metadata": {},
   "source": [
    "## Baseline"
   ]
  },
  {
   "cell_type": "code",
   "execution_count": 22,
   "metadata": {},
   "outputs": [
    {
     "data": {
      "text/plain": [
       "0    25152\n",
       "1    18660\n",
       "Name: is_adopted, dtype: int64"
      ]
     },
     "execution_count": 22,
     "metadata": {},
     "output_type": "execute_result"
    }
   ],
   "source": [
    "# checking most common value of target variable\n",
    "# ie. are animals more adopted more often than not?\n",
    "train.is_adopted.value_counts()"
   ]
  },
  {
   "cell_type": "code",
   "execution_count": 23,
   "metadata": {},
   "outputs": [],
   "source": [
    "# setting baseline prediction to 0\n",
    "train['baseline_pred'] = 0"
   ]
  },
  {
   "cell_type": "code",
   "execution_count": 24,
   "metadata": {},
   "outputs": [
    {
     "name": "stdout",
     "output_type": "stream",
     "text": [
      "              precision    recall  f1-score   support\n",
      "\n",
      "           0       0.57      1.00      0.73     25152\n",
      "           1       0.00      0.00      0.00     18660\n",
      "\n",
      "    accuracy                           0.57     43812\n",
      "   macro avg       0.29      0.50      0.36     43812\n",
      "weighted avg       0.33      0.57      0.42     43812\n",
      "\n"
     ]
    }
   ],
   "source": [
    "# printing performance metrics\n",
    "print(classification_report(train.is_adopted, train.baseline_pred))"
   ]
  },
  {
   "cell_type": "markdown",
   "metadata": {},
   "source": [
    "## Train"
   ]
  },
  {
   "cell_type": "code",
   "execution_count": 25,
   "metadata": {},
   "outputs": [],
   "source": [
    "# setting target variable\n",
    "y_train = train['is_adopted']"
   ]
  },
  {
   "cell_type": "markdown",
   "metadata": {},
   "source": [
    "### Model 1 - Logistic Regression"
   ]
  },
  {
   "cell_type": "code",
   "execution_count": 26,
   "metadata": {
    "scrolled": true
   },
   "outputs": [
    {
     "name": "stdout",
     "output_type": "stream",
     "text": [
      "              precision    recall  f1-score   support\n",
      "\n",
      "           0       0.85      0.68      0.76     25152\n",
      "           1       0.66      0.84      0.74     18660\n",
      "\n",
      "    accuracy                           0.75     43812\n",
      "   macro avg       0.76      0.76      0.75     43812\n",
      "weighted avg       0.77      0.75      0.75     43812\n",
      "\n"
     ]
    }
   ],
   "source": [
    "# setting feature for model\n",
    "X_train_m1 = train[['age_in_weeks_s', 'is_cat', 'is_dog', 'is_other', 'is_male', 'is_female', \n",
    "                    'sex_unknown', 'is_neutered_or_spayed']]\n",
    "\n",
    "# creating logistic regression object\n",
    "lr = LogisticRegression(random_state=123)\n",
    "\n",
    "# fitting model to data\n",
    "lr.fit(X_train_m1, y_train)\n",
    "\n",
    "# creating column with model predictions\n",
    "train['m1_prediction'] = lr.predict(X_train_m1)\n",
    "\n",
    "# printing performance metrics\n",
    "print(classification_report(train.is_adopted, train.m1_prediction))"
   ]
  },
  {
   "cell_type": "markdown",
   "metadata": {},
   "source": [
    "### Model 2 - Random Forest"
   ]
  },
  {
   "cell_type": "code",
   "execution_count": 27,
   "metadata": {},
   "outputs": [
    {
     "name": "stdout",
     "output_type": "stream",
     "text": [
      "              precision    recall  f1-score   support\n",
      "\n",
      "           0       0.81      0.77      0.79     25152\n",
      "           1       0.71      0.75      0.73     18660\n",
      "\n",
      "    accuracy                           0.76     43812\n",
      "   macro avg       0.76      0.76      0.76     43812\n",
      "weighted avg       0.76      0.76      0.76     43812\n",
      "\n"
     ]
    }
   ],
   "source": [
    "# creating DF with selected features for logistic regression model\n",
    "X_train_m2 = train[['age_in_weeks_s', 'is_cat', 'is_dog', 'is_other', 'is_male', 'is_female', \n",
    "                    'sex_unknown', 'is_neutered_or_spayed']]\n",
    "\n",
    "# creating random forest object\n",
    "rf = RandomForestClassifier(bootstrap=True, class_weight=None, criterion='gini', min_samples_leaf = 3,\n",
    "                            n_estimators=100, max_depth=4, random_state=123)\n",
    "\n",
    "# fitting to data\n",
    "rf.fit(X_train_m2, y_train)\n",
    "\n",
    "# making predictions\n",
    "train['m2_prediction'] = rf.predict(X_train_m2)\n",
    "\n",
    "# printing performance metrics\n",
    "print(classification_report(train.is_adopted, train.m2_prediction))"
   ]
  },
  {
   "cell_type": "markdown",
   "metadata": {},
   "source": [
    "### Model 3 - Decision Tree"
   ]
  },
  {
   "cell_type": "code",
   "execution_count": 28,
   "metadata": {},
   "outputs": [
    {
     "name": "stdout",
     "output_type": "stream",
     "text": [
      "              precision    recall  f1-score   support\n",
      "\n",
      "           0       0.79      0.80      0.80     25152\n",
      "           1       0.73      0.72      0.72     18660\n",
      "\n",
      "    accuracy                           0.77     43812\n",
      "   macro avg       0.76      0.76      0.76     43812\n",
      "weighted avg       0.76      0.77      0.77     43812\n",
      "\n"
     ]
    }
   ],
   "source": [
    "# creating DF with selected features for decision tree model\n",
    "X_train_m3 = train[['age_in_weeks_s', 'is_cat', 'is_dog', 'is_other', 'is_male', 'is_female', \n",
    "                    'sex_unknown', 'is_neutered_or_spayed']]\n",
    "\n",
    "# creating decision tree object\n",
    "dtree = DecisionTreeClassifier(max_depth = 4, random_state=123)\n",
    "\n",
    "# fitting d tree to data\n",
    "dtree.fit(X_train_m3, y_train)\n",
    "\n",
    "# predicting values\n",
    "train['m3_prediction'] = dtree.predict(X_train_m3)\n",
    "\n",
    "# printing performance metrics\n",
    "print(classification_report(train.is_adopted, train.m3_prediction))"
   ]
  },
  {
   "cell_type": "markdown",
   "metadata": {},
   "source": [
    "### Model 4 - Knearest Neighbor"
   ]
  },
  {
   "cell_type": "code",
   "execution_count": 29,
   "metadata": {},
   "outputs": [
    {
     "name": "stdout",
     "output_type": "stream",
     "text": [
      "              precision    recall  f1-score   support\n",
      "\n",
      "           0       0.78      0.76      0.77     25152\n",
      "           1       0.69      0.72      0.70     18660\n",
      "\n",
      "    accuracy                           0.74     43812\n",
      "   macro avg       0.74      0.74      0.74     43812\n",
      "weighted avg       0.74      0.74      0.74     43812\n",
      "\n"
     ]
    }
   ],
   "source": [
    "# creating DF with selected features for KNN model\n",
    "X_train_m4 = train[['age_in_weeks_s', 'is_cat', 'is_dog', 'is_other', 'is_male', 'is_female', \n",
    "                    'sex_unknown', 'is_neutered_or_spayed']]\n",
    "\n",
    "# creating KNN object\n",
    "knn = KNeighborsClassifier(n_neighbors=3, weights = 'uniform')\n",
    "\n",
    "# fitting model to data\n",
    "knn.fit(X_train_m4, y_train)\n",
    "\n",
    "# making predictions on x train\n",
    "m4_y_pred = pd.DataFrame(knn.predict(X_train_m4))\n",
    "\n",
    "# creating column with model predictions\n",
    "train['m4_prediction'] = knn.predict(X_train_m4)\n",
    "\n",
    "# printing performance metrics\n",
    "print(classification_report(train.is_adopted, train.m4_prediction))"
   ]
  },
  {
   "cell_type": "markdown",
   "metadata": {},
   "source": [
    "- All models surpassed baseline's accuracy of 57%\n",
    "- Top 2 models are random forest and decision tree\n",
    "    - Model 2 - Random Forest Accuracy: 76%\n",
    "    - Model 3 - Decision Tree Accuracy: 77%\n",
    "    - Both will be used on the validate set"
   ]
  },
  {
   "cell_type": "markdown",
   "metadata": {},
   "source": [
    "## Validate"
   ]
  },
  {
   "cell_type": "code",
   "execution_count": 30,
   "metadata": {},
   "outputs": [],
   "source": [
    "# setting target variable\n",
    "y_val = validate['is_adopted']"
   ]
  },
  {
   "cell_type": "markdown",
   "metadata": {},
   "source": [
    "### Model 2 - Random Forest"
   ]
  },
  {
   "cell_type": "code",
   "execution_count": 31,
   "metadata": {},
   "outputs": [
    {
     "name": "stdout",
     "output_type": "stream",
     "text": [
      "              precision    recall  f1-score   support\n",
      "\n",
      "           0       0.81      0.77      0.79     10815\n",
      "           1       0.70      0.75      0.73      7962\n",
      "\n",
      "    accuracy                           0.76     18777\n",
      "   macro avg       0.76      0.76      0.76     18777\n",
      "weighted avg       0.76      0.76      0.76     18777\n",
      "\n"
     ]
    }
   ],
   "source": [
    "# setting features for model\n",
    "X_val_m2 = validate[['age_in_weeks_s','is_cat', 'is_dog', 'is_other', 'is_male', 'is_female', \n",
    "                     'sex_unknown','is_neutered_or_spayed']]\n",
    "\n",
    "# creating column with model predictions\n",
    "validate['m2_prediction'] = rf.predict(X_val_m2)\n",
    "\n",
    "# printing performance metrics\n",
    "print(classification_report(validate.is_adopted, validate.m2_prediction))"
   ]
  },
  {
   "cell_type": "markdown",
   "metadata": {},
   "source": [
    "### Model 3 - Decision Tree"
   ]
  },
  {
   "cell_type": "code",
   "execution_count": 32,
   "metadata": {},
   "outputs": [
    {
     "name": "stdout",
     "output_type": "stream",
     "text": [
      "              precision    recall  f1-score   support\n",
      "\n",
      "           0       0.79      0.80      0.79     10815\n",
      "           1       0.72      0.71      0.71      7962\n",
      "\n",
      "    accuracy                           0.76     18777\n",
      "   macro avg       0.75      0.75      0.75     18777\n",
      "weighted avg       0.76      0.76      0.76     18777\n",
      "\n"
     ]
    }
   ],
   "source": [
    "# setting features for model\n",
    "X_val_m3 = validate[['age_in_weeks_s','is_cat', 'is_dog', 'is_other', 'is_male', 'is_female', \n",
    "                     'sex_unknown','is_neutered_or_spayed']]\n",
    "\n",
    "# creating column with model predictions\n",
    "validate['m3_prediction'] = dtree.predict(X_val_m3)\n",
    "\n",
    "# printing performance metrics\n",
    "print(classification_report(validate.is_adopted, validate.m3_prediction))"
   ]
  },
  {
   "cell_type": "markdown",
   "metadata": {},
   "source": [
    "- Both models performed with identical accuracy\n",
    "- Random Forest produced higher average f1 score so it will be used on test data"
   ]
  },
  {
   "cell_type": "markdown",
   "metadata": {},
   "source": [
    "## Test"
   ]
  },
  {
   "cell_type": "markdown",
   "metadata": {},
   "source": [
    "### Model 2 - Random Forest"
   ]
  },
  {
   "cell_type": "code",
   "execution_count": 33,
   "metadata": {},
   "outputs": [
    {
     "name": "stdout",
     "output_type": "stream",
     "text": [
      "              precision    recall  f1-score   support\n",
      "\n",
      "           0       0.80      0.77      0.79      9008\n",
      "           1       0.70      0.75      0.72      6640\n",
      "\n",
      "    accuracy                           0.76     15648\n",
      "   macro avg       0.75      0.76      0.76     15648\n",
      "weighted avg       0.76      0.76      0.76     15648\n",
      "\n"
     ]
    }
   ],
   "source": [
    "# setting target variable\n",
    "y_test = test['is_adopted']\n",
    "\n",
    "# setting features for model\n",
    "X_test_m2 = test[['age_in_weeks_s', 'is_cat', 'is_dog', 'is_other', 'is_male', 'is_female', \n",
    "                  'sex_unknown', 'is_neutered_or_spayed']]\n",
    "\n",
    "# creating column with model predictions\n",
    "test['m2_prediction'] = rf.predict(X_test_m2)\n",
    "\n",
    "# printing performance metrics\n",
    "print(classification_report(test.is_adopted, test.m2_prediction))"
   ]
  },
  {
   "cell_type": "markdown",
   "metadata": {},
   "source": [
    "- Random forest model produced performed with 76% accuracy on test data\n",
    "- Average accuracy on out-of-sample data, 76%"
   ]
  },
  {
   "cell_type": "markdown",
   "metadata": {},
   "source": [
    "### Modeling Takeaways\n",
    "\n",
    "- Created models using the following algorithms \n",
    "    - logistic regression\n",
    "    - random forest\n",
    "    - k-nearest neighbor\n",
    "    - decision tree\n",
    "\n",
    "\n",
    "- __Train Set Model Performances__\n",
    "    - Logistic Regression\n",
    "        - Accuracy: 75%\n",
    "    - Random Forest\n",
    "        - Accuracy: 76%\n",
    "    - Decision Tree \n",
    "        - Accuracy: 77%\n",
    "    - K-Nearest Neighbor\n",
    "        - Accuracy: 74%\n",
    "    \n",
    "    \n",
    "- __Validate Set Model Performances__\n",
    "    - Random Forest \n",
    "        - Accuracy: 76%\n",
    "        - Average F1 Score: 76%\n",
    "    - Decision Tree \n",
    "        - Accuracy: 76%\n",
    "        - Average F1 Score: 75%\n",
    "\n",
    "\n",
    "- __Test Set Model Performance__\n",
    "    - Random Forest \n",
    "        - Accuracy: 76%\n",
    "        - Average accuracy on unseen data: 76%\n",
    "       "
   ]
  },
  {
   "cell_type": "markdown",
   "metadata": {},
   "source": [
    "# Conclusion<a id='conclusion'></a>"
   ]
  },
  {
   "cell_type": "markdown",
   "metadata": {},
   "source": [
    "### Acquire\n",
    "- Acquired data from local csv file\n",
    "\n",
    "### Prep\n",
    "- Prepped data with various changes, namely:\n",
    "    - Dropped unwanted columns\n",
    "    - Split column that contained both sex and neutered or spaded informatino\n",
    "    - Added boolean columns for categorical data\n",
    "    - Renaming columns\n",
    "    - Dropping null values\n",
    "    - Converting age of animals to weekly units\n",
    "    - Splitting Data\n",
    "    \n",
    "### Explore\n",
    "- Crosstabs and bar plots showed lower rates of adoption for animals that were not identified as cats or dogs, those of an unidentified sex, and those that had not yet been sterilized\n",
    "- Chi-squared tests showed that animal type, sex, and sterilization status are not independent of whether an animal is adopted\n",
    "- T-test gave evidence that adopted animals were younger on average than those than had not been adopted\n",
    "- In summary, the drivers of adoption appear to be\n",
    "    - animal species\n",
    "    - sterilization status (neutered or spaded)\n",
    "    - age\n",
    "    - sex\n",
    "    \n",
    "### Model\n",
    "- Created baseline model that produced 57% accuracy on train data\n",
    "- Created 4 alternate models using various algorithms\n",
    "- Best Model was created with the following profile\n",
    "    - Type: Random Forest\n",
    "    - Features: \n",
    "        - age_in_weeks_s\n",
    "        - is_cat, is_dog, is_other\n",
    "        - is_male, is_female, is_unknown\n",
    "        - is_neutered_or_spayed\n",
    "- Best model maintained 76% accuracy on all datasets\n",
    "\n",
    "### Recommendations\n",
    "- When feasible, spay or neuter animals to increase their likelihood of adoption\n",
    "- Develop a program that aims to pair older animals with suitable homes\n",
    "- Look for new venues that may be able to take in uncommon animals such as exotic pet sanctuaries\n",
    "\n",
    "### Predictions\n",
    "- By following the recommendations above, the AAC may be able to increase their adoption rates via finding homes for animals who would otherwise have not found one\n",
    "\n",
    "### Plans for the future\n",
    "- I'd like to focus on exploring the connections between various features\n",
    "    - For example, are animals of an unknown type more less likely to be confirmed as sterilized?\n",
    "- I'd also like to incorporate more features, such as color\n",
    "    - For example, are brown dogs more likely to be adopted that other dogs of other colors\n",
    "- I'll also being incorporating data about each animal's induction into the shelter to gain further insights\n",
    "    - For example, does the amount of time an animal has spent in the shelter affect its likelihood of adoption?"
   ]
  },
  {
   "cell_type": "code",
   "execution_count": null,
   "metadata": {},
   "outputs": [],
   "source": []
  }
 ],
 "metadata": {
  "kernelspec": {
   "display_name": "Python 3",
   "language": "python",
   "name": "python3"
  },
  "language_info": {
   "codemirror_mode": {
    "name": "ipython",
    "version": 3
   },
   "file_extension": ".py",
   "mimetype": "text/x-python",
   "name": "python",
   "nbconvert_exporter": "python",
   "pygments_lexer": "ipython3",
   "version": "3.7.6"
  }
 },
 "nbformat": 4,
 "nbformat_minor": 4
}
